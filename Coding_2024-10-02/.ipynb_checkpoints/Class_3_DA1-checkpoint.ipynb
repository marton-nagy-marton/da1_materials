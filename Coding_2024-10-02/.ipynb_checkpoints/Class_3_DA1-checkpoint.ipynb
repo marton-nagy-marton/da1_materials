{
 "cells": [
  {
   "cell_type": "markdown",
   "id": "01236b05-dfd2-4404-99ab-574245622c85",
   "metadata": {},
   "source": [
    "# <center><font color='magenta'>**Python for DA1**</font></center>\n",
    "### <center>Central European University, 2024-2025</center>\n",
    "# <center>Class 3</center>"
   ]
  },
  {
   "cell_type": "markdown",
   "id": "97c8b1f4-8d46-4433-84c1-6abfd4f2b599",
   "metadata": {},
   "source": [
    "## User-defined functions (UDFs)"
   ]
  },
  {
   "cell_type": "markdown",
   "id": "ec052f01-3cda-483c-8093-738bed1e1cdb",
   "metadata": {},
   "source": [
    "A function is a block of organized, reusable code that is used to perform a single, related action. Functions provide better modularity for your application and a high degree of code reusing.\n",
    "\n",
    "You can define functions to provide the required functionality. Here are simple rules to define a function in Python.\n",
    "\n",
    "* Function blocks begin with the keyword ```def``` followed by the function name and parentheses ```( )```.\n",
    "* Any input parameters or arguments should be placed within these parentheses. You can also define parameters inside these parentheses.\n",
    "* The first statement of a function can be an optional statement - the documentation string of the function or docstring.\n",
    "* The code block within every function starts with a colon (```:```) and is **indented**.\n",
    "* The statement ```return``` [expression] returns a value, or a serious of values, a list, a dictionary, .... A return statement with no arguments is the same as\n",
    "```python\n",
    "    return None\n",
    "``` \n",
    "* Nevertheless, functions do not have to close with a `return` statement."
   ]
  },
  {
   "cell_type": "markdown",
   "id": "da91d083-65c1-4403-b135-2796e5e6ddfa",
   "metadata": {},
   "source": [
    "A simple function which does not return anything."
   ]
  },
  {
   "cell_type": "code",
   "execution_count": 70,
   "id": "c456e9b5-78a7-4f04-9f9d-95f672c489be",
   "metadata": {},
   "outputs": [],
   "source": [
    "def print_my_name(name):\n",
    "    print(f'This is may name: {name}.')"
   ]
  },
  {
   "cell_type": "code",
   "execution_count": 72,
   "id": "4a4a230c-534b-494c-b65a-724ec0fb7551",
   "metadata": {},
   "outputs": [
    {
     "name": "stdout",
     "output_type": "stream",
     "text": [
      "This is may name: Peter.\n"
     ]
    }
   ],
   "source": [
    "print_my_name('Peter')"
   ]
  },
  {
   "cell_type": "code",
   "execution_count": 74,
   "id": "1ffc7c59-9e3a-481a-b55e-89481849a3dd",
   "metadata": {},
   "outputs": [
    {
     "name": "stdout",
     "output_type": "stream",
     "text": [
      "This is may name: 1.\n"
     ]
    }
   ],
   "source": [
    "print_my_name(1)"
   ]
  },
  {
   "cell_type": "markdown",
   "id": "ad2c9788-dab4-40b8-8806-ed3a63846105",
   "metadata": {},
   "source": [
    "Fucntions, though, usually have some sort of return value. In addition, we can even have `type hints`. [Type hints](https://docs.python.org/3/library/typing.html) are just that: hints. The interpreter does not check the validity of the inputs so if the types are important you have to check them within your functions. Type hints are primarily for [readability and debugging](https://joshdimella.com/blog/python-typing-best-practices)."
   ]
  },
  {
   "cell_type": "code",
   "execution_count": 76,
   "id": "b381cc17-f87d-43dd-a123-9213e6dbcaf0",
   "metadata": {},
   "outputs": [],
   "source": [
    "def divide_two_numbers(dividend: float, divisor: float) -> float:\n",
    "    return dividend / divisor"
   ]
  },
  {
   "cell_type": "code",
   "execution_count": 78,
   "id": "0837e3b6-2fe5-4056-8d59-a32d23494aa6",
   "metadata": {},
   "outputs": [
    {
     "data": {
      "text/plain": [
       "4.6"
      ]
     },
     "execution_count": 78,
     "metadata": {},
     "output_type": "execute_result"
    }
   ],
   "source": [
    "divide_two_numbers(23, 5)"
   ]
  },
  {
   "cell_type": "markdown",
   "id": "11a624c2-d4ba-4500-af02-6c0396dfbe0c",
   "metadata": {},
   "source": [
    "You can also add a default value to any of the inputs."
   ]
  },
  {
   "cell_type": "code",
   "execution_count": 80,
   "id": "71d28297-56b6-4303-a1bd-eb4584b6b1db",
   "metadata": {},
   "outputs": [],
   "source": [
    "def divide_two_numbers(dividend: float, divisor: float = 2) -> float:\n",
    "    return dividend / divisor"
   ]
  },
  {
   "cell_type": "code",
   "execution_count": 82,
   "id": "c0daf2d4-5adc-476e-b1ad-3c584b43b20b",
   "metadata": {},
   "outputs": [
    {
     "data": {
      "text/plain": [
       "5.0"
      ]
     },
     "execution_count": 82,
     "metadata": {},
     "output_type": "execute_result"
    }
   ],
   "source": [
    "divide_two_numbers(10)"
   ]
  },
  {
   "cell_type": "markdown",
   "id": "fb413c6f-835b-4a76-8b9d-35dd26205451",
   "metadata": {},
   "source": [
    "Inputs, or *arguments* can be of two types:\n",
    "- **positional arguments**: you only provide the input values when calling the function, all in the order of the function definition."
   ]
  },
  {
   "cell_type": "code",
   "execution_count": 84,
   "id": "0f074e3a-d913-4892-887f-de53e8375e97",
   "metadata": {},
   "outputs": [
    {
     "data": {
      "text/plain": [
       "4.0"
      ]
     },
     "execution_count": 84,
     "metadata": {},
     "output_type": "execute_result"
    }
   ],
   "source": [
    "divide_two_numbers(20, 5)"
   ]
  },
  {
   "cell_type": "markdown",
   "id": "32ed04d6-419e-4410-94c5-8c52f460ddef",
   "metadata": {},
   "source": [
    "- **keyword arguments**: you provide them using the argument names; in this case the order does not matter"
   ]
  },
  {
   "cell_type": "code",
   "execution_count": 86,
   "id": "447c6e8e-05bd-4c47-b8ab-18a49bbd7b5b",
   "metadata": {},
   "outputs": [
    {
     "data": {
      "text/plain": [
       "4.0"
      ]
     },
     "execution_count": 86,
     "metadata": {},
     "output_type": "execute_result"
    }
   ],
   "source": [
    "divide_two_numbers(divisor = 5, dividend = 20) # the input order is switched but the function produces the right result"
   ]
  },
  {
   "cell_type": "markdown",
   "id": "5f5984ef-d62f-489c-b973-2610abc9728a",
   "metadata": {},
   "source": [
    "Additional considerations. \n",
    "1. You can return more than one objects.\n",
    "2. You need to get used to adding correct documentation to your function. For documentation standards please read [this article](https://www.datacamp.com/tutorial/docstrings-python). It used to be a pain for most developers but the good news is that most coding LLM services will take for it for you. "
   ]
  },
  {
   "cell_type": "code",
   "execution_count": 88,
   "id": "5536d18e-fa07-4bac-8afd-313673729178",
   "metadata": {
    "editable": true,
    "slideshow": {
     "slide_type": ""
    },
    "tags": []
   },
   "outputs": [],
   "source": [
    "from typing import Tuple # our function returns two objects as a tuple\n",
    "def divide_numbers(dividend: float, divisor: float) -> Tuple[float, float]:\n",
    "    \"\"\"\n",
    "    Divide two numbers and return the quotient and remainder.\n",
    "\n",
    "    Parameters:\n",
    "    dividend (float): The number to be divided.\n",
    "    divisor (float): The number by which to divide the dividend.\n",
    "\n",
    "    Returns:\n",
    "    Tuple[float, float]: A tuple containing the quotient and the remainder.\n",
    "    \n",
    "    Raises:\n",
    "    ZeroDivisionError: If the divisor is zero.\n",
    "    \"\"\"\n",
    "    quotient = dividend // divisor\n",
    "    remainder = dividend % divisor\n",
    "    \n",
    "    return quotient, remainder\n",
    "    "
   ]
  },
  {
   "cell_type": "markdown",
   "id": "5d1c3833-1897-417b-8ea0-1e117c5e1df7",
   "metadata": {},
   "source": [
    "Once you have defined your function and added `docstrings` you can call the `help()` function to get information. \n",
    "\n",
    "Note: This docstring was generated through an LLM service."
   ]
  },
  {
   "cell_type": "code",
   "execution_count": 94,
   "id": "82fed5f5-965d-4cf9-8dc3-020ea2b33ae9",
   "metadata": {},
   "outputs": [
    {
     "name": "stdout",
     "output_type": "stream",
     "text": [
      "Help on function divide_numbers in module __main__:\n",
      "\n",
      "divide_numbers(dividend: float, divisor: float) -> Tuple[float, float]\n",
      "    Divide two numbers and return the quotient and remainder.\n",
      "\n",
      "    Parameters:\n",
      "    dividend (float): The number to be divided.\n",
      "    divisor (float): The number by which to divide the dividend.\n",
      "\n",
      "    Returns:\n",
      "    Tuple[float, float]: A tuple containing the quotient and the remainder.\n",
      "\n",
      "    Raises:\n",
      "    ZeroDivisionError: If the divisor is zero.\n",
      "\n"
     ]
    }
   ],
   "source": [
    "help(divide_numbers)"
   ]
  },
  {
   "cell_type": "code",
   "execution_count": 96,
   "id": "89279f09-711c-47b5-9b1c-3e4bf9e4f0fa",
   "metadata": {},
   "outputs": [
    {
     "name": "stdout",
     "output_type": "stream",
     "text": [
      "8 1\n"
     ]
    }
   ],
   "source": [
    "q, r = divide_numbers(25, 3)\n",
    "print(q, r)"
   ]
  },
  {
   "cell_type": "code",
   "execution_count": 98,
   "id": "3f31ada2-5804-4313-9ce1-dc0c418b9d35",
   "metadata": {},
   "outputs": [
    {
     "ename": "ZeroDivisionError",
     "evalue": "integer division or modulo by zero",
     "output_type": "error",
     "traceback": [
      "\u001b[1;31m---------------------------------------------------------------------------\u001b[0m",
      "\u001b[1;31mZeroDivisionError\u001b[0m                         Traceback (most recent call last)",
      "Cell \u001b[1;32mIn[98], line 1\u001b[0m\n\u001b[1;32m----> 1\u001b[0m q, r \u001b[38;5;241m=\u001b[39m divide_numbers(\u001b[38;5;241m25\u001b[39m, \u001b[38;5;241m0\u001b[39m)\n",
      "Cell \u001b[1;32mIn[88], line 16\u001b[0m, in \u001b[0;36mdivide_numbers\u001b[1;34m(dividend, divisor)\u001b[0m\n\u001b[0;32m      2\u001b[0m \u001b[38;5;28;01mdef\u001b[39;00m \u001b[38;5;21mdivide_numbers\u001b[39m(dividend: \u001b[38;5;28mfloat\u001b[39m, divisor: \u001b[38;5;28mfloat\u001b[39m) \u001b[38;5;241m-\u001b[39m\u001b[38;5;241m>\u001b[39m Tuple[\u001b[38;5;28mfloat\u001b[39m, \u001b[38;5;28mfloat\u001b[39m]:\n\u001b[0;32m      3\u001b[0m \u001b[38;5;250m    \u001b[39m\u001b[38;5;124;03m\"\"\"\u001b[39;00m\n\u001b[0;32m      4\u001b[0m \u001b[38;5;124;03m    Divide two numbers and return the quotient and remainder.\u001b[39;00m\n\u001b[0;32m      5\u001b[0m \n\u001b[1;32m   (...)\u001b[0m\n\u001b[0;32m     14\u001b[0m \u001b[38;5;124;03m    ZeroDivisionError: If the divisor is zero.\u001b[39;00m\n\u001b[0;32m     15\u001b[0m \u001b[38;5;124;03m    \"\"\"\u001b[39;00m\n\u001b[1;32m---> 16\u001b[0m     quotient \u001b[38;5;241m=\u001b[39m dividend \u001b[38;5;241m/\u001b[39m\u001b[38;5;241m/\u001b[39m divisor\n\u001b[0;32m     17\u001b[0m     remainder \u001b[38;5;241m=\u001b[39m dividend \u001b[38;5;241m%\u001b[39m divisor\n\u001b[0;32m     19\u001b[0m     \u001b[38;5;28;01mreturn\u001b[39;00m quotient, remainder\n",
      "\u001b[1;31mZeroDivisionError\u001b[0m: integer division or modulo by zero"
     ]
    }
   ],
   "source": [
    "q, r = divide_numbers(25, 0) # you can handle this using try - except"
   ]
  },
  {
   "cell_type": "code",
   "execution_count": 100,
   "id": "0f983e3e-92e5-4311-9d7c-1c7c49f17481",
   "metadata": {},
   "outputs": [
    {
     "name": "stdout",
     "output_type": "stream",
     "text": [
      "2.0 1.799999999999999\n"
     ]
    }
   ],
   "source": [
    "q, r = divide_numbers(10.2, 4.2)\n",
    "print(q, r)"
   ]
  },
  {
   "cell_type": "markdown",
   "id": "9ca00f45-d6b4-4759-a489-1723652c18d0",
   "metadata": {},
   "source": [
    "## Classes"
   ]
  },
  {
   "cell_type": "markdown",
   "id": "ab5aef56-05e6-440d-8fbf-7d91ffb210a8",
   "metadata": {},
   "source": [
    "`Object-oriented programming` (`OOP`) is a programming paradigm that uses \"*objects*\" to design software. It is based on several key concepts that help organize code in a way that is modular, reusable, and easier to maintain. Here are the main principles of OOP:\r\n",
    "\r\n",
    "1. **Classes and Objects**:\r\n",
    "   - **Class**: A blueprint or template for creating objects. It defines a set of attributes (data) and methods (functions) that the created objects will have.\r\n",
    "   - **Object**: An instance of a class. It represents a specific implementation of the class with its own unique data.\r\n",
    "\r\n",
    "2. **Encapsulation**:\r\n",
    "   - This principle involves bundling the data (attributes) and methods (functions) that operate on the data into a single unit, or class. It restricts direct access to some of the object's components, which can help prevent unintended interference and misuse of the data. Access to the data is typically controlled through public methods (getters and setters).\r\n",
    "\r\n",
    "3. **Inheritance**:\r\n",
    "   - Inheritance allows a new class (subclass or derived class) to inherit attributes and methods from an existing class (superclass or base class). This promotes code reusability and establishes a hierarchical relationship between classes.\r\n",
    "\r\n",
    "4. **Polymorphism**:\r\n",
    "   - Polymorphism allows methods to do different things based on the object it is acting upon, even if they share the same name. This can be achieved through method overriding (where a subclass provides a specific implementation of a method that is already defined in its superclass) and method overloading (where multiple methods have the same name but differ in parameters).\r\n",
    "\r\n",
    "5. **Abstraction**:\r\n",
    "   - Abstraction is the concept of hiding the complex implementation details and showing only the essential features of the object. This simplifies the interaction with the object and reduces complexity.\r\n",
    "\r\n",
    "OOP is widely used in many programming languages, including Python, Java, C++, and C#. It helps in building scalable and maintainable software systems by promoting a clear structure and organization of code."
   ]
  },
  {
   "attachments": {},
   "cell_type": "markdown",
   "id": "68b69ea8-3fee-4e42-b5d4-056d02b41aaa",
   "metadata": {},
   "source": [
    "**OOP vs  Procedural Programming**\n",
    "\n",
    "- Procedural programming\n",
    "    - code as a sequence of steps\n",
    "    - great for data analyis and short scripts\n",
    "- Object-oriented programming\n",
    "    - code as *interactions* of objects\n",
    "    - great for building frameworks and tools\n",
    "    - *maintainable and reusable code*"
   ]
  },
  {
   "cell_type": "markdown",
   "id": "3e52be63-4c00-4ae2-90c5-a50f1bb7a0a4",
   "metadata": {},
   "source": [
    "Classes are the key features of object-oriented programming. A `class` is a structure for representing an object and the operations that can be performed on the object. \n",
    "\n",
    "A class is defined with the `class` keyword and defines the *class attributes* (variables) and the *class methods* (functions). Class names are defined with `CamelCase`, functions and attributes with `lower_snake_case` as a PEP8 convention.\n",
    "\n",
    "- Each class should have a `self` argument as a self-reference of the actual *instance* of the object.\n",
    "- Some class methods have special meaning.   \n",
    "      - `__init__()`: it is a `constructor` that assigns the initial mandatory attributes at the moment when the object is created.   \n",
    "      - `__str__()`: it defines the *string representation* of the object, for instance when it is printed.\n",
    "      - `__repr__()`: is almost the same as `__str__()`, still a little different; it's the printable representation of the object. \n",
    "\n"
   ]
  },
  {
   "cell_type": "markdown",
   "id": "03759361-341e-4085-8064-a5aabe709615",
   "metadata": {},
   "source": [
    "### Defining classes, class methods and class attributes"
   ]
  },
  {
   "cell_type": "code",
   "execution_count": 102,
   "id": "95e02ffa-5f20-4361-9e47-65117edd8ab6",
   "metadata": {},
   "outputs": [],
   "source": [
    "import math"
   ]
  },
  {
   "cell_type": "code",
   "execution_count": 104,
   "id": "c787acd3-9ca5-4a42-85f1-0e489b4e6b79",
   "metadata": {},
   "outputs": [],
   "source": [
    "class Triangle:\n",
    "    \n",
    "    def __init__(self, a: float, b: float, c: float):\n",
    "        self.a = a\n",
    "        self.b = b\n",
    "        self.c = c\n",
    "        self.area = self.calculate_area()\n",
    "\n",
    "    def calculate_area(self):\n",
    "        s = (self.a + self.b + self.c) / 2\n",
    "        area = math.sqrt(s * (s - self.a) * (s - self.b) * (s - self.c))\n",
    "        return area\n",
    "\n",
    "    def __str__(self):\n",
    "        return ('The triangle has the following sides: {:,.2f}, {:,.2f}, {:,.2f}.'.format(self.a, self.b, self.c))"
   ]
  },
  {
   "cell_type": "code",
   "execution_count": 106,
   "id": "78b6487a-3c49-4890-a754-5cb25aef4312",
   "metadata": {},
   "outputs": [],
   "source": [
    "my_triangle = Triangle(3,4,5)"
   ]
  },
  {
   "cell_type": "markdown",
   "id": "f7abbb67-db7e-4d3e-a2a8-1729dca89281",
   "metadata": {},
   "source": [
    "The cells above *instantiates* a Triangle object. my_triangle is an *instance* of the Triangle class. "
   ]
  },
  {
   "cell_type": "code",
   "execution_count": 108,
   "id": "3c522f3f-c62f-4d88-a503-0b1d4b0d47b7",
   "metadata": {},
   "outputs": [
    {
     "data": {
      "text/plain": [
       "6.0"
      ]
     },
     "execution_count": 108,
     "metadata": {},
     "output_type": "execute_result"
    }
   ],
   "source": [
    "my_triangle.area"
   ]
  },
  {
   "cell_type": "code",
   "execution_count": 110,
   "id": "632d5ae3-6a69-4461-b77b-d1d8d149deff",
   "metadata": {},
   "outputs": [
    {
     "data": {
      "text/plain": [
       "6.0"
      ]
     },
     "execution_count": 110,
     "metadata": {},
     "output_type": "execute_result"
    }
   ],
   "source": [
    "my_triangle.calculate_area()"
   ]
  },
  {
   "cell_type": "code",
   "execution_count": 112,
   "id": "8eecf047-e117-4988-9aa8-0ca74ce3b1d2",
   "metadata": {},
   "outputs": [
    {
     "name": "stdout",
     "output_type": "stream",
     "text": [
      "The triangle has the following sides: 3.00, 4.00, 5.00.\n"
     ]
    }
   ],
   "source": [
    "print(my_triangle)"
   ]
  },
  {
   "cell_type": "markdown",
   "id": "919a8141-c580-4119-bda8-d8e9a23c54d7",
   "metadata": {},
   "source": [
    "Note: you can use `import math` in the class definition as well, but it is generally recommended to place all import statements at the top of your Python file. This is a common practice for several reasons:\r\n",
    "\r\n",
    "1. **Readability**: Having all imports at the top makes it easier for someone reading the code to see which modules are being used without having to search through the class definitions.\r\n",
    "\r\n",
    "2. **Performance**: Importing modules at the top of the file ensures that they are loaded once when the module is first imported, rather than potentially being imported multiple times if the class is instantiated multiple times.\r\n",
    "\r\n",
    "3. **Convention**: Following the convention of placing imports at the top of the file aligns wit[h the PEP 8 style](https://peps.python.org/pep-0008/) guide for Python code, which promotes consistency and readability.\r\n",
    "\r\n",
    "However, if you have a specific reason to import a module within a class (for example, if the import is only needed in that class and you want to limit the scope), you can do so. Just keep in mind that it may not be the best practice in most cases."
   ]
  },
  {
   "cell_type": "markdown",
   "id": "03d6d333-20ba-4df6-a7c7-375c9689770b",
   "metadata": {},
   "source": [
    "### Polymorphism"
   ]
  },
  {
   "cell_type": "code",
   "execution_count": 114,
   "id": "7cadc870-1681-48f6-8f03-3d3f2ea0f2f5",
   "metadata": {},
   "outputs": [],
   "source": [
    "class Square:\n",
    "\n",
    "    \"\"\"\n",
    "    A class to represent a square.\n",
    "\n",
    "    Attributes\n",
    "    ----------\n",
    "    a : float\n",
    "        The length of the side of the square.\n",
    "    area : float\n",
    "        The area of the square, calculated upon initialization.\n",
    "\n",
    "    Methods\n",
    "    -------\n",
    "    calculate_area():\n",
    "        Calculates and returns the area of the square.\n",
    "    \"\"\"\n",
    "    \n",
    "    def __init__(self, a: float):\n",
    "        self.a = a\n",
    "        self.area = self.calculate_area()\n",
    "\n",
    "    def calculate_area(self):\n",
    "        area = self.a * self.a\n",
    "        return area"
   ]
  },
  {
   "cell_type": "code",
   "execution_count": 116,
   "id": "82046282-d5a0-4e24-b9d9-3b715550327b",
   "metadata": {},
   "outputs": [
    {
     "data": {
      "text/plain": [
       "49"
      ]
     },
     "execution_count": 116,
     "metadata": {},
     "output_type": "execute_result"
    }
   ],
   "source": [
    "my_square = Square(7)\n",
    "my_square.area"
   ]
  },
  {
   "cell_type": "code",
   "execution_count": 118,
   "id": "0e5fa3c6-4fe8-4627-a03a-81dc773ee4f2",
   "metadata": {},
   "outputs": [
    {
     "data": {
      "text/plain": [
       "49"
      ]
     },
     "execution_count": 118,
     "metadata": {},
     "output_type": "execute_result"
    }
   ],
   "source": [
    "my_square.calculate_area()"
   ]
  },
  {
   "cell_type": "code",
   "execution_count": 120,
   "id": "fb74872d-28b6-4988-9088-3e440127098a",
   "metadata": {},
   "outputs": [
    {
     "name": "stdout",
     "output_type": "stream",
     "text": [
      "<__main__.Square object at 0x0000018007015C40>\n"
     ]
    }
   ],
   "source": [
    "# We did not define a string representation for a Square object. \n",
    "print(my_square)"
   ]
  },
  {
   "cell_type": "code",
   "execution_count": 122,
   "id": "7a069db3-8627-4b27-adbe-01eba0f2f61e",
   "metadata": {},
   "outputs": [
    {
     "data": {
      "text/plain": [
       "<__main__.Square at 0x18007015c40>"
      ]
     },
     "execution_count": 122,
     "metadata": {},
     "output_type": "execute_result"
    }
   ],
   "source": [
    "my_square"
   ]
  },
  {
   "cell_type": "markdown",
   "id": "93e22c4b-166f-4887-9029-09fda1048e55",
   "metadata": {},
   "source": [
    "### Check the validity of object definition using an Exception"
   ]
  },
  {
   "cell_type": "markdown",
   "id": "d964a4a2-adcc-4686-91cf-48b067c07554",
   "metadata": {},
   "source": [
    "Create a custom Exception using `class inheritance` based on the `Exception` class."
   ]
  },
  {
   "cell_type": "code",
   "execution_count": 124,
   "id": "be6fa7ac-81ee-4d69-858f-47370e27088c",
   "metadata": {},
   "outputs": [],
   "source": [
    "class TriangleError(Exception): # now the interpreter knows that 'TriangleError' is an exception\n",
    "    pass"
   ]
  },
  {
   "cell_type": "markdown",
   "id": "808eeeb0-3268-4808-895f-fad359c96bc3",
   "metadata": {},
   "source": [
    "We defined the *TriangleError* class as the the child class of the *Exception* class."
   ]
  },
  {
   "cell_type": "code",
   "execution_count": 126,
   "id": "3d39ed4e-fda1-45ea-b46e-1e1b9e42f416",
   "metadata": {},
   "outputs": [],
   "source": [
    "import math\n",
    "class Triangle:\n",
    "    \n",
    "    def __init__(self, a: float, b: float, c: float):\n",
    "        if a + b > c and b + c > a and c + a > b:\n",
    "            self.a = a\n",
    "            self.b = b\n",
    "            self.c = c\n",
    "            self.area = self.calculate_area()\n",
    "        else:\n",
    "            raise TriangleError('Invalid triangle sides: any side should be smaller than the sum of the other two.')\n",
    "\n",
    "    def calculate_area(self):\n",
    "        s = (self.a + self.b + self.c) / 2\n",
    "        area = math.sqrt(s * (s - self.a) * (s - self.b) * (s - self.c))\n",
    "        return area\n",
    "\n",
    "    def __str__(self):\n",
    "        return ('The triangle has the following sides: {:,.2f}, {:,.2f}, {:,.2f}.'.format(self.a, self.b, self.c))"
   ]
  },
  {
   "cell_type": "code",
   "execution_count": 128,
   "id": "cc3a9f6e-d309-44e8-be49-f7e45420a462",
   "metadata": {},
   "outputs": [
    {
     "ename": "TriangleError",
     "evalue": "Invalid triangle sides: any side should be smaller than the sum of the other two.",
     "output_type": "error",
     "traceback": [
      "\u001b[1;31m---------------------------------------------------------------------------\u001b[0m",
      "\u001b[1;31mTriangleError\u001b[0m                             Traceback (most recent call last)",
      "Cell \u001b[1;32mIn[128], line 1\u001b[0m\n\u001b[1;32m----> 1\u001b[0m your_triangle \u001b[38;5;241m=\u001b[39m Triangle(\u001b[38;5;241m3\u001b[39m, \u001b[38;5;241m4\u001b[39m, \u001b[38;5;241m10\u001b[39m)\n",
      "Cell \u001b[1;32mIn[126], line 11\u001b[0m, in \u001b[0;36mTriangle.__init__\u001b[1;34m(self, a, b, c)\u001b[0m\n\u001b[0;32m      9\u001b[0m     \u001b[38;5;28mself\u001b[39m\u001b[38;5;241m.\u001b[39marea \u001b[38;5;241m=\u001b[39m \u001b[38;5;28mself\u001b[39m\u001b[38;5;241m.\u001b[39mcalculate_area()\n\u001b[0;32m     10\u001b[0m \u001b[38;5;28;01melse\u001b[39;00m:\n\u001b[1;32m---> 11\u001b[0m     \u001b[38;5;28;01mraise\u001b[39;00m TriangleError(\u001b[38;5;124m'\u001b[39m\u001b[38;5;124mInvalid triangle sides: any side should be smaller than the sum of the other two.\u001b[39m\u001b[38;5;124m'\u001b[39m)\n",
      "\u001b[1;31mTriangleError\u001b[0m: Invalid triangle sides: any side should be smaller than the sum of the other two."
     ]
    }
   ],
   "source": [
    "your_triangle = Triangle(3, 4, 10)"
   ]
  },
  {
   "cell_type": "markdown",
   "id": "3ed98d60-bdff-48a9-9b73-a71f9cbf5254",
   "metadata": {},
   "source": [
    "We can even catch these defined arrors"
   ]
  },
  {
   "cell_type": "code",
   "execution_count": 130,
   "id": "43a9d323-ca49-447c-b635-ed3973829136",
   "metadata": {},
   "outputs": [
    {
     "name": "stdout",
     "output_type": "stream",
     "text": [
      "Invalid triangle, redefining triangle using the shortest side only.\n"
     ]
    }
   ],
   "source": [
    "a, b, c = 3, 4, 15\n",
    "\n",
    "try: \n",
    "    your_triangle = Triangle(a, b, c)\n",
    "except TriangleError:\n",
    "    print('Invalid triangle, redefining triangle using the shortest side only.')\n",
    "    side = min(a, b, c)\n",
    "    your_triangle = Triangle(side, side, side)\n",
    "    "
   ]
  },
  {
   "cell_type": "code",
   "execution_count": 132,
   "id": "7cf8749d-4d9f-4d0d-a5cc-141dd5c6738c",
   "metadata": {},
   "outputs": [
    {
     "name": "stdout",
     "output_type": "stream",
     "text": [
      "The triangle has the following sides: 3.00, 3.00, 3.00.\n"
     ]
    }
   ],
   "source": [
    "print(your_triangle)"
   ]
  },
  {
   "cell_type": "code",
   "execution_count": 134,
   "id": "5a90b349-f9d3-46c9-8233-ef271dfd75e1",
   "metadata": {},
   "outputs": [
    {
     "data": {
      "text/plain": [
       "{'a': 3, 'b': 3, 'c': 3, 'area': 3.897114317029974}"
      ]
     },
     "execution_count": 134,
     "metadata": {},
     "output_type": "execute_result"
    }
   ],
   "source": [
    "# get attribute of an object contains its attributes and their values\n",
    "your_triangle.__dict__"
   ]
  },
  {
   "cell_type": "code",
   "execution_count": 136,
   "id": "cd5ebf43-d793-437c-965e-df00ffcc2b63",
   "metadata": {},
   "outputs": [
    {
     "data": {
      "text/plain": [
       "['__class__',\n",
       " '__delattr__',\n",
       " '__dict__',\n",
       " '__dir__',\n",
       " '__doc__',\n",
       " '__eq__',\n",
       " '__format__',\n",
       " '__ge__',\n",
       " '__getattribute__',\n",
       " '__getstate__',\n",
       " '__gt__',\n",
       " '__hash__',\n",
       " '__init__',\n",
       " '__init_subclass__',\n",
       " '__le__',\n",
       " '__lt__',\n",
       " '__module__',\n",
       " '__ne__',\n",
       " '__new__',\n",
       " '__reduce__',\n",
       " '__reduce_ex__',\n",
       " '__repr__',\n",
       " '__setattr__',\n",
       " '__sizeof__',\n",
       " '__str__',\n",
       " '__subclasshook__',\n",
       " '__weakref__',\n",
       " 'a',\n",
       " 'area',\n",
       " 'b',\n",
       " 'c',\n",
       " 'calculate_area']"
      ]
     },
     "execution_count": 136,
     "metadata": {},
     "output_type": "execute_result"
    }
   ],
   "source": [
    "# returning all attributes and methods of an object (including magic methods)\n",
    "dir(your_triangle)"
   ]
  },
  {
   "cell_type": "markdown",
   "id": "5e861569-d0d4-4287-979a-aed4afbaf392",
   "metadata": {},
   "source": [
    "### Comparison: `overloading` the comparison operators"
   ]
  },
  {
   "cell_type": "markdown",
   "id": "0f680a8c-55e2-498f-b416-0a757344bf6c",
   "metadata": {},
   "source": [
    "- `__eq__()` is called when to objects are compared using `==`\n",
    "- accepts two arguments: `self` and `other`\n",
    "- returns a Boolean"
   ]
  },
  {
   "cell_type": "code",
   "execution_count": 138,
   "id": "1a876722-0dbc-48b5-9ccc-7ff36e783340",
   "metadata": {},
   "outputs": [],
   "source": [
    "class Rectangle:\n",
    "    \n",
    "    def __init__(self, a: float, b: float):\n",
    "        self.a = a\n",
    "        self.b = b\n",
    "        self.area = self.calculate_area()\n",
    "\n",
    "    def calculate_area(self):\n",
    "        area = self.a * self.b\n",
    "        return area\n",
    "\n",
    "    def __eq__(self, other):\n",
    "        return self.area == other.area"
   ]
  },
  {
   "cell_type": "code",
   "execution_count": 140,
   "id": "7f8a21ed-3934-44c2-a64c-82a47227ed4a",
   "metadata": {},
   "outputs": [
    {
     "data": {
      "text/plain": [
       "20"
      ]
     },
     "execution_count": 140,
     "metadata": {},
     "output_type": "execute_result"
    }
   ],
   "source": [
    "rectangle_1 = Rectangle(4,5)\n",
    "rectangle_1.area"
   ]
  },
  {
   "cell_type": "code",
   "execution_count": 142,
   "id": "97a55d3b-59ce-4940-aeb5-55300e80b6ee",
   "metadata": {},
   "outputs": [
    {
     "data": {
      "text/plain": [
       "20"
      ]
     },
     "execution_count": 142,
     "metadata": {},
     "output_type": "execute_result"
    }
   ],
   "source": [
    "rectangle_2 = Rectangle(2,10)\n",
    "rectangle_2.area"
   ]
  },
  {
   "cell_type": "code",
   "execution_count": 144,
   "id": "edb0963e-1d3e-4459-a3b8-bf165624ba6a",
   "metadata": {},
   "outputs": [
    {
     "data": {
      "text/plain": [
       "True"
      ]
     },
     "execution_count": 144,
     "metadata": {},
     "output_type": "execute_result"
    }
   ],
   "source": [
    "rectangle_1 == rectangle_2"
   ]
  },
  {
   "cell_type": "markdown",
   "id": "194af3c2-5471-4baa-968d-defff6ea78fa",
   "metadata": {},
   "source": [
    "Check out all the comparisons and other [special methods](https://docs.python.org/2/reference/datamodel.html#special-method-names) in the documentation."
   ]
  },
  {
   "cell_type": "markdown",
   "id": "123625c5-b0c8-4c1a-a30c-0a6f27bd2282",
   "metadata": {},
   "source": [
    "#### Class attributes\n",
    "\n",
    "These are data shared among all instances of a class. We define them in the body of a class. "
   ]
  },
  {
   "cell_type": "code",
   "execution_count": 146,
   "id": "0e9c8cef-a458-4456-b474-5a5c3843fa8f",
   "metadata": {},
   "outputs": [],
   "source": [
    "class Employee:\n",
    "    # Class attributes\n",
    "    MIN_SALARY = 30_000\n",
    "\n",
    "    def __init__(self, first_name: str, last_name: str, salary: float):\n",
    "        self.first_name = first_name\n",
    "        self.last_name = last_name\n",
    "        if salary >= Employee.MIN_SALARY:\n",
    "            self.salary = salary\n",
    "        else:\n",
    "            self.salary = Employee.MIN_SALARY\n",
    "\n",
    "    # Redefine/overload how the object itself printed to the console.\n",
    "    def __repr__(self):\n",
    "        return f\"Employee('{self.last_name}, {self.first_name}', {self.salary})\""
   ]
  },
  {
   "cell_type": "code",
   "execution_count": 150,
   "id": "ed04d2a8-9635-43e0-9a8b-493e95a1c2ab",
   "metadata": {},
   "outputs": [],
   "source": [
    "emp1 = Employee('Margaret', 'Mitchell', 25_000)\n",
    "emp2 = Employee('Jean', 'Austen', 35_000)"
   ]
  },
  {
   "cell_type": "code",
   "execution_count": 152,
   "id": "c54671ff-2e79-4452-932f-1cc310b94c9c",
   "metadata": {},
   "outputs": [
    {
     "data": {
      "text/plain": [
       "Employee('Mitchell, Margaret', 30000)"
      ]
     },
     "execution_count": 152,
     "metadata": {},
     "output_type": "execute_result"
    }
   ],
   "source": [
    "emp1"
   ]
  },
  {
   "cell_type": "code",
   "execution_count": 154,
   "id": "2702f630-8887-4669-9475-907ce2c75c6a",
   "metadata": {},
   "outputs": [
    {
     "data": {
      "text/plain": [
       "Employee('Austen, Jean', 35000)"
      ]
     },
     "execution_count": 154,
     "metadata": {},
     "output_type": "execute_result"
    }
   ],
   "source": [
    "emp2"
   ]
  },
  {
   "cell_type": "code",
   "execution_count": 156,
   "id": "37c3e5dd-8031-42f3-86b9-a96a4e606a53",
   "metadata": {},
   "outputs": [
    {
     "data": {
      "text/plain": [
       "35000"
      ]
     },
     "execution_count": 156,
     "metadata": {},
     "output_type": "execute_result"
    }
   ],
   "source": [
    "emp2.salary"
   ]
  },
  {
   "cell_type": "markdown",
   "id": "68f6ab60-6f7c-4b59-b94f-17e3cd59afb7",
   "metadata": {},
   "source": [
    "#### `Encapsulation`: private and public variables"
   ]
  },
  {
   "cell_type": "code",
   "execution_count": 158,
   "id": "730157c1-6db4-4954-a596-b721a768f903",
   "metadata": {},
   "outputs": [
    {
     "data": {
      "text/plain": [
       "Employee('Mitchell, Margaret', 25000)"
      ]
     },
     "execution_count": 158,
     "metadata": {},
     "output_type": "execute_result"
    }
   ],
   "source": [
    "# problem\n",
    "emp1.salary = 25_000 # lower than MIN_SALARY\n",
    "emp1"
   ]
  },
  {
   "cell_type": "markdown",
   "id": "6402f10e-291c-46ba-94dc-53bb9d529066",
   "metadata": {},
   "source": [
    "We are using *underscores* and `decorators` to manage *data access*. For the role of underscores read [this article](https://www.datacamp.com/tutorial/role-underscore-python). Python decorators are a bit more complicated concept. A good way to start is [here](https://www.freecodecamp.org/news/python-decorators-explained-with-examples/)"
   ]
  },
  {
   "cell_type": "code",
   "execution_count": 160,
   "id": "dde26e0d-48a7-49f3-b7fc-f154f53b5069",
   "metadata": {},
   "outputs": [],
   "source": [
    "class Employee:\n",
    "    # Class attributes\n",
    "    MIN_SALARY = 30_000\n",
    "\n",
    "    def __init__(self, first_name: str, last_name: str, new_salary: float):\n",
    "        self.first_name = first_name\n",
    "        self.last_name = last_name\n",
    "        if new_salary < Employee.MIN_SALARY:\n",
    "            self._salary = Employee.MIN_SALARY # note the underscore in _salary\n",
    "        else:\n",
    "            self._salary = new_salary # salary now is an internal, 'protected' attribute\n",
    "\n",
    "    @property \n",
    "    def salary(self): # the @property decorator on a method whose name is exactly the name of the restricted attribute\n",
    "                        # returns the internal attribute\n",
    "                        # it is defined as a function but behaves like an attribute\n",
    "        return self._salary\n",
    "        \n",
    "    # Redefine/overload how the object is printed to the console.\n",
    "    def __repr__(self):\n",
    "        return f\"Employee('{self.last_name}, {self.first_name}', {self._salary})\""
   ]
  },
  {
   "cell_type": "code",
   "execution_count": 162,
   "id": "344e47c5-5427-4875-a42d-507bec1ed0db",
   "metadata": {},
   "outputs": [],
   "source": [
    "emp3 = Employee('Virginia', 'Woolf', 50_000)"
   ]
  },
  {
   "cell_type": "code",
   "execution_count": 164,
   "id": "0dbc113c-7049-4a67-9f19-a112e8e72043",
   "metadata": {},
   "outputs": [
    {
     "data": {
      "text/plain": [
       "Employee('Woolf, Virginia', 50000)"
      ]
     },
     "execution_count": 164,
     "metadata": {},
     "output_type": "execute_result"
    }
   ],
   "source": [
    "emp3"
   ]
  },
  {
   "cell_type": "code",
   "execution_count": 166,
   "id": "a1a1f0bf-35e5-43a4-8a7f-adb06616176c",
   "metadata": {},
   "outputs": [
    {
     "data": {
      "text/plain": [
       "['MIN_SALARY',\n",
       " '__class__',\n",
       " '__delattr__',\n",
       " '__dict__',\n",
       " '__dir__',\n",
       " '__doc__',\n",
       " '__eq__',\n",
       " '__format__',\n",
       " '__ge__',\n",
       " '__getattribute__',\n",
       " '__getstate__',\n",
       " '__gt__',\n",
       " '__hash__',\n",
       " '__init__',\n",
       " '__init_subclass__',\n",
       " '__le__',\n",
       " '__lt__',\n",
       " '__module__',\n",
       " '__ne__',\n",
       " '__new__',\n",
       " '__reduce__',\n",
       " '__reduce_ex__',\n",
       " '__repr__',\n",
       " '__setattr__',\n",
       " '__sizeof__',\n",
       " '__str__',\n",
       " '__subclasshook__',\n",
       " '__weakref__',\n",
       " '_salary',\n",
       " 'first_name',\n",
       " 'last_name',\n",
       " 'salary']"
      ]
     },
     "execution_count": 166,
     "metadata": {},
     "output_type": "execute_result"
    }
   ],
   "source": [
    "dir(emp3)"
   ]
  },
  {
   "cell_type": "code",
   "execution_count": 168,
   "id": "da39467c-4f7a-4f2f-866a-afc19e4c0a53",
   "metadata": {},
   "outputs": [
    {
     "data": {
      "text/plain": [
       "50000"
      ]
     },
     "execution_count": 168,
     "metadata": {},
     "output_type": "execute_result"
    }
   ],
   "source": [
    "emp3.salary"
   ]
  },
  {
   "cell_type": "code",
   "execution_count": 170,
   "id": "274c059e-b1af-4b6d-8ff0-9244ef407e52",
   "metadata": {},
   "outputs": [
    {
     "ename": "AttributeError",
     "evalue": "property 'salary' of 'Employee' object has no setter",
     "output_type": "error",
     "traceback": [
      "\u001b[1;31m---------------------------------------------------------------------------\u001b[0m",
      "\u001b[1;31mAttributeError\u001b[0m                            Traceback (most recent call last)",
      "Cell \u001b[1;32mIn[170], line 1\u001b[0m\n\u001b[1;32m----> 1\u001b[0m emp3\u001b[38;5;241m.\u001b[39msalary \u001b[38;5;241m=\u001b[39m \u001b[38;5;241m32_000\u001b[39m\n",
      "\u001b[1;31mAttributeError\u001b[0m: property 'salary' of 'Employee' object has no setter"
     ]
    }
   ],
   "source": [
    "emp3.salary = 32_000"
   ]
  },
  {
   "cell_type": "markdown",
   "id": "8f7cfd00-b86b-4daa-9390-4fc6c5904291",
   "metadata": {},
   "source": [
    "You can add a `setter` method. "
   ]
  },
  {
   "cell_type": "code",
   "execution_count": 172,
   "id": "5c27fe7e-fe2e-4404-a48d-cabcb25349d2",
   "metadata": {},
   "outputs": [],
   "source": [
    "class Employee:\n",
    "    # Class attributes\n",
    "    MIN_SALARY = 30_000\n",
    "\n",
    "    def __init__(self, first_name: str, last_name: str, new_salary: float):\n",
    "        self.first_name = first_name\n",
    "        self.last_name = last_name\n",
    "        if new_salary < Employee.MIN_SALARY:\n",
    "            self._salary = Employee.MIN_SALARY\n",
    "        else:\n",
    "            self._salary = new_salary # salary now is an internal, 'protected' attribute\n",
    "\n",
    "    @property \n",
    "    def salary(self): # the @property decorator on a method whose name is exactly the name of the restricted attribute\n",
    "                        # returns the internal attribute\n",
    "        return self._salary\n",
    "\n",
    "    @salary.setter # now you can build additional checks in setting salary\n",
    "    def salary(self, new_salary):\n",
    "        if new_salary < Employee.MIN_SALARY:\n",
    "            raise ValueError('Invalid salary.')\n",
    "        else:\n",
    "            self._salary = new_salary\n",
    "        \n",
    "    # Redefine/overload how the object is printed to the console.\n",
    "    def __repr__(self):\n",
    "        return f\"Employee('{self.last_name}, {self.first_name}', {self._salary:,.0f})\""
   ]
  },
  {
   "cell_type": "code",
   "execution_count": 174,
   "id": "9a8ae26a-052a-4ccc-83da-0874855c85c7",
   "metadata": {},
   "outputs": [],
   "source": [
    "emp3 = Employee('Virginia', 'Woolf', 25_000)"
   ]
  },
  {
   "cell_type": "code",
   "execution_count": 176,
   "id": "e5dcae66-a034-495c-be60-92ef578b9599",
   "metadata": {},
   "outputs": [
    {
     "data": {
      "text/plain": [
       "Employee('Woolf, Virginia', 30,000)"
      ]
     },
     "execution_count": 176,
     "metadata": {},
     "output_type": "execute_result"
    }
   ],
   "source": [
    "emp3"
   ]
  },
  {
   "cell_type": "code",
   "execution_count": 178,
   "id": "70da5a07-d1d2-4e19-a541-d5655ce2a23e",
   "metadata": {},
   "outputs": [
    {
     "ename": "ValueError",
     "evalue": "Invalid salary.",
     "output_type": "error",
     "traceback": [
      "\u001b[1;31m---------------------------------------------------------------------------\u001b[0m",
      "\u001b[1;31mValueError\u001b[0m                                Traceback (most recent call last)",
      "Cell \u001b[1;32mIn[178], line 1\u001b[0m\n\u001b[1;32m----> 1\u001b[0m emp3\u001b[38;5;241m.\u001b[39msalary \u001b[38;5;241m=\u001b[39m \u001b[38;5;241m25_000\u001b[39m\n",
      "Cell \u001b[1;32mIn[172], line 21\u001b[0m, in \u001b[0;36mEmployee.salary\u001b[1;34m(self, new_salary)\u001b[0m\n\u001b[0;32m     18\u001b[0m \u001b[38;5;129m@salary\u001b[39m\u001b[38;5;241m.\u001b[39msetter \u001b[38;5;66;03m# now you can build additional checks in setting salary\u001b[39;00m\n\u001b[0;32m     19\u001b[0m \u001b[38;5;28;01mdef\u001b[39;00m \u001b[38;5;21msalary\u001b[39m(\u001b[38;5;28mself\u001b[39m, new_salary):\n\u001b[0;32m     20\u001b[0m     \u001b[38;5;28;01mif\u001b[39;00m new_salary \u001b[38;5;241m<\u001b[39m Employee\u001b[38;5;241m.\u001b[39mMIN_SALARY:\n\u001b[1;32m---> 21\u001b[0m         \u001b[38;5;28;01mraise\u001b[39;00m \u001b[38;5;167;01mValueError\u001b[39;00m(\u001b[38;5;124m'\u001b[39m\u001b[38;5;124mInvalid salary.\u001b[39m\u001b[38;5;124m'\u001b[39m)\n\u001b[0;32m     22\u001b[0m     \u001b[38;5;28;01melse\u001b[39;00m:\n\u001b[0;32m     23\u001b[0m         \u001b[38;5;28mself\u001b[39m\u001b[38;5;241m.\u001b[39m_salary \u001b[38;5;241m=\u001b[39m new_salary\n",
      "\u001b[1;31mValueError\u001b[0m: Invalid salary."
     ]
    }
   ],
   "source": [
    "emp3.salary = 25_000"
   ]
  },
  {
   "cell_type": "code",
   "execution_count": 180,
   "id": "9a27b12c-6873-4444-9d0e-3c435915598d",
   "metadata": {},
   "outputs": [
    {
     "data": {
      "text/plain": [
       "Employee('Woolf, Virginia', 30,000)"
      ]
     },
     "execution_count": 180,
     "metadata": {},
     "output_type": "execute_result"
    }
   ],
   "source": [
    "emp3"
   ]
  },
  {
   "cell_type": "code",
   "execution_count": 182,
   "id": "18815626-a6a5-450e-a595-ffddf2d2a0b9",
   "metadata": {},
   "outputs": [],
   "source": [
    "emp3.salary = 42_000"
   ]
  },
  {
   "cell_type": "code",
   "execution_count": 184,
   "id": "4b2ad058-4bfd-4212-8a83-b7eeafd636a4",
   "metadata": {},
   "outputs": [
    {
     "data": {
      "text/plain": [
       "Employee('Woolf, Virginia', 42,000)"
      ]
     },
     "execution_count": 184,
     "metadata": {},
     "output_type": "execute_result"
    }
   ],
   "source": [
    "emp3"
   ]
  },
  {
   "cell_type": "markdown",
   "id": "faaa7b57-9dea-4959-9d37-8845cb0ad37a",
   "metadata": {},
   "source": [
    "Note: Python lets you redefine the attribute even if it is defined by a classmethod at instantiation. "
   ]
  },
  {
   "cell_type": "code",
   "execution_count": 186,
   "id": "bbae5e0d-2f5c-401b-a9ac-ec12da124c74",
   "metadata": {},
   "outputs": [],
   "source": [
    "my_triangle.area = 25"
   ]
  },
  {
   "cell_type": "code",
   "execution_count": 188,
   "id": "34764390-3ef1-4309-8a34-2f0580b3b8bc",
   "metadata": {},
   "outputs": [
    {
     "data": {
      "text/plain": [
       "25"
      ]
     },
     "execution_count": 188,
     "metadata": {},
     "output_type": "execute_result"
    }
   ],
   "source": [
    "my_triangle.area"
   ]
  },
  {
   "cell_type": "markdown",
   "id": "7246c7ff-165f-4143-8710-eea5a0d9519a",
   "metadata": {},
   "source": [
    "## Numpy -  multidimensional data arrays\n",
    "### Introduction"
   ]
  },
  {
   "cell_type": "markdown",
   "id": "bb393b3f-9c3e-4692-b24b-48310ee7ae95",
   "metadata": {},
   "source": [
    "The `numpy` package (module) is used in almost all numerical computation using Python. It is a package that provide high-performance vector, matrix and higher-dimensional data structures for Python. It is implemented in C and Fortran so when calculations are vectorized (formulated with vectors and matrices), performance is very good. \n",
    "\n",
    "To use `numpy` you need to import the module, using for example:"
   ]
  },
  {
   "cell_type": "code",
   "execution_count": 190,
   "id": "44ffccd4-b7bc-4845-bb66-95302953eb5d",
   "metadata": {
    "tags": []
   },
   "outputs": [],
   "source": [
    "import numpy as np"
   ]
  },
  {
   "cell_type": "markdown",
   "id": "dd4f784d-1d54-4d50-a24d-89e2f038c9ed",
   "metadata": {},
   "source": [
    "In the `numpy` package the terminology used for vectors, matrices and higher-dimensional data sets is *array*. \n",
    "\n"
   ]
  },
  {
   "cell_type": "markdown",
   "id": "04e15d05-7ef7-4bff-8844-0607ae68a52c",
   "metadata": {},
   "source": [
    "### Creating `numpy` arrays"
   ]
  },
  {
   "cell_type": "markdown",
   "id": "7cc9e758-08a4-4cdf-9a97-3500db2943a2",
   "metadata": {},
   "source": [
    "There are a number of ways to initialize new numpy arrays, for example from\n",
    "\n",
    "* a Python list or tuples\n",
    "* using functions that are dedicated to generating numpy arrays, such as `arange`, `linspace`, etc.\n",
    "* reading data from files"
   ]
  },
  {
   "cell_type": "markdown",
   "id": "7f60f206-6112-4d02-bdab-3bf234fb6147",
   "metadata": {},
   "source": [
    "#### From lists"
   ]
  },
  {
   "cell_type": "markdown",
   "id": "3e1a5ab6-036a-4d04-8f5b-2c82e06d7e7d",
   "metadata": {},
   "source": [
    "For example, to create new vector and matrix arrays from Python lists we can use the `numpy.array` function."
   ]
  },
  {
   "cell_type": "code",
   "execution_count": 192,
   "id": "ca8a9eb3-26a1-4dbe-bb6a-5762ee0ae565",
   "metadata": {},
   "outputs": [
    {
     "data": {
      "text/plain": [
       "array([1, 2, 3, 4])"
      ]
     },
     "execution_count": 192,
     "metadata": {},
     "output_type": "execute_result"
    }
   ],
   "source": [
    "# a vector: the argument to the array function is a Python list\n",
    "v = np.array([1,2,3,4])\n",
    "v"
   ]
  },
  {
   "cell_type": "code",
   "execution_count": 194,
   "id": "469de1b9-9b1c-42db-82bc-afbcb3cc0c33",
   "metadata": {},
   "outputs": [
    {
     "data": {
      "text/plain": [
       "array([[1, 2],\n",
       "       [3, 4]])"
      ]
     },
     "execution_count": 194,
     "metadata": {},
     "output_type": "execute_result"
    }
   ],
   "source": [
    "# a matrix: the argument to the array function is a nested Python list\n",
    "M = np.array([[1, 2], [3, 4]])\n",
    "M"
   ]
  },
  {
   "cell_type": "markdown",
   "id": "8395779e-a66d-49eb-a483-02e69c9f11b2",
   "metadata": {},
   "source": [
    "The `v` and `M` objects are both of the type `ndarray` that the `numpy` module provides."
   ]
  },
  {
   "cell_type": "code",
   "execution_count": 196,
   "id": "396bdcff-84f2-4403-856d-1da74baa4bbe",
   "metadata": {},
   "outputs": [
    {
     "data": {
      "text/plain": [
       "(numpy.ndarray, numpy.ndarray)"
      ]
     },
     "execution_count": 196,
     "metadata": {},
     "output_type": "execute_result"
    }
   ],
   "source": [
    "type(v), type(M)"
   ]
  },
  {
   "cell_type": "markdown",
   "id": "d842cacf-8400-4aed-ba88-f6e84c662374",
   "metadata": {},
   "source": [
    "The difference between the `v` and `M` arrays is their shapes. We can get information about the shape of an array by using the `ndarray.shape` property.\n",
    "\n",
    "**Question**: Why are $v$ lower-case and $M$ upper-case?"
   ]
  },
  {
   "cell_type": "code",
   "execution_count": 198,
   "id": "83766eaa-4523-48ce-b815-06cc99fdb7a4",
   "metadata": {},
   "outputs": [
    {
     "data": {
      "text/plain": [
       "(4,)"
      ]
     },
     "execution_count": 198,
     "metadata": {},
     "output_type": "execute_result"
    }
   ],
   "source": [
    "v.shape"
   ]
  },
  {
   "cell_type": "code",
   "execution_count": 200,
   "id": "21836240-13ea-413a-b2ed-01505d3ab7f6",
   "metadata": {},
   "outputs": [
    {
     "data": {
      "text/plain": [
       "(2, 2)"
      ]
     },
     "execution_count": 200,
     "metadata": {},
     "output_type": "execute_result"
    }
   ],
   "source": [
    "M.shape"
   ]
  },
  {
   "cell_type": "markdown",
   "id": "be81086f-44de-4c8e-8107-a8dbdda7b6a1",
   "metadata": {},
   "source": [
    "The number of elements in the array is available through the `ndarray.size` property:"
   ]
  },
  {
   "cell_type": "code",
   "execution_count": 202,
   "id": "b6f2cd2a-fe16-4af4-9e7b-d5fe4a447c6c",
   "metadata": {},
   "outputs": [
    {
     "data": {
      "text/plain": [
       "4"
      ]
     },
     "execution_count": 202,
     "metadata": {},
     "output_type": "execute_result"
    }
   ],
   "source": [
    "M.size"
   ]
  },
  {
   "cell_type": "code",
   "execution_count": 204,
   "id": "13414249-8b9f-43d5-9e16-83881af31a21",
   "metadata": {},
   "outputs": [
    {
     "data": {
      "text/plain": [
       "array([1, 2, 3, 4])"
      ]
     },
     "execution_count": 204,
     "metadata": {},
     "output_type": "execute_result"
    }
   ],
   "source": [
    "v.flatten()"
   ]
  },
  {
   "cell_type": "code",
   "execution_count": 206,
   "id": "a6fd1c7a-8353-4fc8-ba80-ce2d694a6724",
   "metadata": {},
   "outputs": [
    {
     "data": {
      "text/plain": [
       "array([1, 2, 3, 4])"
      ]
     },
     "execution_count": 206,
     "metadata": {},
     "output_type": "execute_result"
    }
   ],
   "source": [
    "M.flatten()"
   ]
  },
  {
   "cell_type": "markdown",
   "id": "71039ee2-c923-4bd3-92e3-4d92fc56d499",
   "metadata": {},
   "source": [
    "Equivalently, we could use the function `numpy.shape` and `numpy.size`"
   ]
  },
  {
   "cell_type": "code",
   "execution_count": 208,
   "id": "373d2b3b-b006-457a-907f-c6baa35dcde3",
   "metadata": {},
   "outputs": [
    {
     "data": {
      "text/plain": [
       "(2, 2)"
      ]
     },
     "execution_count": 208,
     "metadata": {},
     "output_type": "execute_result"
    }
   ],
   "source": [
    "np.shape(M)"
   ]
  },
  {
   "cell_type": "code",
   "execution_count": 210,
   "id": "6a59682f-591f-4053-8e4c-6e1153471bce",
   "metadata": {},
   "outputs": [
    {
     "data": {
      "text/plain": [
       "4"
      ]
     },
     "execution_count": 210,
     "metadata": {},
     "output_type": "execute_result"
    }
   ],
   "source": [
    "np.size(M)"
   ]
  },
  {
   "cell_type": "markdown",
   "id": "73b714fd-c2f7-458e-9087-99a867ba38d2",
   "metadata": {},
   "source": [
    "We can also do simple mathematical operations on numpy arrays."
   ]
  },
  {
   "cell_type": "code",
   "execution_count": 212,
   "id": "221fdbb5-7ec3-4d63-bde5-45e93a712681",
   "metadata": {},
   "outputs": [
    {
     "data": {
      "text/plain": [
       "array([[ 4,  8],\n",
       "       [12, 16]])"
      ]
     },
     "execution_count": 212,
     "metadata": {},
     "output_type": "execute_result"
    }
   ],
   "source": [
    "M * 4"
   ]
  },
  {
   "cell_type": "code",
   "execution_count": 214,
   "id": "3485f6b0-5611-49d4-904d-c7ca20614c35",
   "metadata": {},
   "outputs": [
    {
     "data": {
      "text/plain": [
       "array([[ 7, 11],\n",
       "       [15, 19]])"
      ]
     },
     "execution_count": 214,
     "metadata": {},
     "output_type": "execute_result"
    }
   ],
   "source": [
    "M * 4 + 3"
   ]
  },
  {
   "cell_type": "markdown",
   "id": "010c57fe-6e09-4f6b-965c-56b5f220b22e",
   "metadata": {},
   "source": [
    "So far the `numpy.ndarray` looks awefully much like a Python list (or nested list). Why not simply use Python lists for computations instead of creating a new array type? \n",
    "\n",
    "There are several reasons:\n",
    "\n",
    "* Python lists are very general. They can contain any kinds of objects. They are dynamically typed. They do not support mathematical functions such as matrix and dot multiplications, etc. Implementing such functions for Python lists would not be very efficient because of the dynamic typing.\n",
    "* Numpy arrays are **statically typed** and **homogeneous**. The type of the elements is determined when the array is created.\n",
    "* Numpy arrays are **MEMORY EFFICIENT AND SUPERFAST**.\n",
    "* Because of the static typing, fast implementation of mathematical functions such as multiplication and addition of `numpy` arrays can be implemented in a compiled language (C and Fortran is used).\n",
    "\n",
    "Using the `dtype` (data type) property of an `ndarray`, we can see what type the data of an array has:"
   ]
  },
  {
   "cell_type": "code",
   "execution_count": 216,
   "id": "80d94bfe-fb26-4f45-8225-55f127ca897d",
   "metadata": {},
   "outputs": [
    {
     "data": {
      "text/plain": [
       "dtype('int32')"
      ]
     },
     "execution_count": 216,
     "metadata": {},
     "output_type": "execute_result"
    }
   ],
   "source": [
    "M.dtype"
   ]
  },
  {
   "cell_type": "markdown",
   "id": "a00eaa81-88dc-4406-8d7f-dd9c480d0c40",
   "metadata": {},
   "source": [
    "We get an error if we try to assign a value of the wrong type to an element in a numpy array:"
   ]
  },
  {
   "cell_type": "code",
   "execution_count": 218,
   "id": "88ee61ff-05d4-4a65-89f6-692a02b9c906",
   "metadata": {},
   "outputs": [
    {
     "ename": "ValueError",
     "evalue": "invalid literal for int() with base 10: 'hello'",
     "output_type": "error",
     "traceback": [
      "\u001b[1;31m---------------------------------------------------------------------------\u001b[0m",
      "\u001b[1;31mValueError\u001b[0m                                Traceback (most recent call last)",
      "Cell \u001b[1;32mIn[218], line 1\u001b[0m\n\u001b[1;32m----> 1\u001b[0m M[\u001b[38;5;241m0\u001b[39m,\u001b[38;5;241m0\u001b[39m] \u001b[38;5;241m=\u001b[39m \u001b[38;5;124m\"\u001b[39m\u001b[38;5;124mhello\u001b[39m\u001b[38;5;124m\"\u001b[39m\n",
      "\u001b[1;31mValueError\u001b[0m: invalid literal for int() with base 10: 'hello'"
     ]
    }
   ],
   "source": [
    "M[0,0] = \"hello\""
   ]
  },
  {
   "cell_type": "markdown",
   "id": "afd7467d-4371-4c55-bccd-430684c555e2",
   "metadata": {},
   "source": [
    "If we want, we can explicitly define the type of the array data when we create it, using the `dtype` keyword argument: "
   ]
  },
  {
   "cell_type": "code",
   "execution_count": 220,
   "id": "8c5580bd-ca22-4869-8222-59499a8a4c6e",
   "metadata": {},
   "outputs": [
    {
     "data": {
      "text/plain": [
       "array([[1.+0.j, 2.+0.j],\n",
       "       [3.+0.j, 4.+0.j]])"
      ]
     },
     "execution_count": 220,
     "metadata": {},
     "output_type": "execute_result"
    }
   ],
   "source": [
    "M = np.array([[1, 2], [3, 4]], dtype=complex)\n",
    "M"
   ]
  },
  {
   "cell_type": "code",
   "execution_count": 222,
   "id": "172ca136-b04b-44b5-861c-d488476ee5cf",
   "metadata": {},
   "outputs": [
    {
     "data": {
      "text/plain": [
       "array([[1., 2.],\n",
       "       [3., 4.]])"
      ]
     },
     "execution_count": 222,
     "metadata": {},
     "output_type": "execute_result"
    }
   ],
   "source": [
    "M = np.array([[1, 2], [3, 4]], dtype=float)\n",
    "M"
   ]
  },
  {
   "cell_type": "markdown",
   "id": "262bcbbb-f698-4a29-8d42-3e42a7c8290c",
   "metadata": {},
   "source": [
    "Common data types that can be used with `dtype` are: `int`, `float`, `complex`, `bool`, `object`, etc.\n",
    "\n",
    "We can also explicitly define the bit size of the data types, for example: `int64`, `int16`, `float128`, `complex128`."
   ]
  },
  {
   "cell_type": "markdown",
   "id": "b5a3b156-4991-4e5e-be1f-1eeb031b6261",
   "metadata": {},
   "source": [
    "### Using array-generating functions"
   ]
  },
  {
   "cell_type": "markdown",
   "id": "0f8786a5-7cd7-4539-bdce-9c2b5ca3c38b",
   "metadata": {},
   "source": [
    "For larger arrays it is inpractical to initialize the data manually, using explicit python lists. Instead we can use one of the many functions in `numpy` that generate arrays of different forms. Some of the more common are:"
   ]
  },
  {
   "cell_type": "markdown",
   "id": "0f416b9f-a97c-4698-a55c-dc50ed3a53b0",
   "metadata": {},
   "source": [
    "#### arange & linspace"
   ]
  },
  {
   "cell_type": "code",
   "execution_count": 224,
   "id": "11b7dd73-b6c1-4ee0-8eec-2b8e6d61736e",
   "metadata": {},
   "outputs": [
    {
     "data": {
      "text/plain": [
       "array([0, 1, 2, 3, 4, 5, 6, 7, 8, 9])"
      ]
     },
     "execution_count": 224,
     "metadata": {},
     "output_type": "execute_result"
    }
   ],
   "source": [
    "# create a range\n",
    "x = np.arange(0, 10, 1) # arguments: start, stop, step. Like the function range for lists!\n",
    "x"
   ]
  },
  {
   "cell_type": "code",
   "execution_count": 226,
   "id": "7bb23f24-af28-451b-90d7-e61760d43065",
   "metadata": {},
   "outputs": [
    {
     "data": {
      "text/plain": [
       "array([-1.00000000e+00, -9.00000000e-01, -8.00000000e-01, -7.00000000e-01,\n",
       "       -6.00000000e-01, -5.00000000e-01, -4.00000000e-01, -3.00000000e-01,\n",
       "       -2.00000000e-01, -1.00000000e-01, -2.22044605e-16,  1.00000000e-01,\n",
       "        2.00000000e-01,  3.00000000e-01,  4.00000000e-01,  5.00000000e-01,\n",
       "        6.00000000e-01,  7.00000000e-01,  8.00000000e-01,  9.00000000e-01])"
      ]
     },
     "execution_count": 226,
     "metadata": {},
     "output_type": "execute_result"
    }
   ],
   "source": [
    "x = np.arange(-1, 1, 0.1) #note that here we can use floats and non-integer steps. You could not do this with lists\n",
    "x"
   ]
  },
  {
   "cell_type": "code",
   "execution_count": 228,
   "id": "a5c33a3d-ba7a-4a03-bd68-ea582e7fefda",
   "metadata": {},
   "outputs": [
    {
     "data": {
      "text/plain": [
       "array([ 0.        ,  0.41666667,  0.83333333,  1.25      ,  1.66666667,\n",
       "        2.08333333,  2.5       ,  2.91666667,  3.33333333,  3.75      ,\n",
       "        4.16666667,  4.58333333,  5.        ,  5.41666667,  5.83333333,\n",
       "        6.25      ,  6.66666667,  7.08333333,  7.5       ,  7.91666667,\n",
       "        8.33333333,  8.75      ,  9.16666667,  9.58333333, 10.        ])"
      ]
     },
     "execution_count": 228,
     "metadata": {},
     "output_type": "execute_result"
    }
   ],
   "source": [
    "# using linspace, both end points ARE included\n",
    "np.linspace(0, 10, 25)"
   ]
  },
  {
   "cell_type": "markdown",
   "id": "a71cc363-f097-4d7b-b5bc-864f8a6e0bd9",
   "metadata": {},
   "source": [
    "#### random data"
   ]
  },
  {
   "cell_type": "code",
   "execution_count": 230,
   "id": "37ee2e4c-309f-4582-b12d-38f5d3d3a687",
   "metadata": {},
   "outputs": [],
   "source": [
    "from numpy import random #numpy has also its random set of functions"
   ]
  },
  {
   "cell_type": "markdown",
   "id": "e025737c-f867-45a3-a5c7-9a2a237f0e2a",
   "metadata": {},
   "source": [
    "Uniform random numbers in [0,1]"
   ]
  },
  {
   "cell_type": "code",
   "execution_count": 232,
   "id": "eb4b0ccd-b7f5-4376-b14f-1e1f11e85f09",
   "metadata": {},
   "outputs": [
    {
     "data": {
      "text/plain": [
       "array([[1.22441209e-01, 4.24374320e-01, 8.26583666e-01, ...,\n",
       "        7.00340395e-01, 1.25794294e-01, 2.32009279e-01],\n",
       "       [3.03103535e-01, 5.25947986e-01, 2.41232541e-01, ...,\n",
       "        1.46441566e-01, 7.89334862e-01, 6.69566239e-01],\n",
       "       [6.81492907e-01, 9.23454046e-04, 3.87328316e-02, ...,\n",
       "        2.50067207e-01, 2.60696582e-02, 2.13733165e-01],\n",
       "       ...,\n",
       "       [7.48483592e-01, 9.80930463e-01, 5.20019720e-01, ...,\n",
       "        8.94692374e-01, 6.48642901e-01, 7.86968483e-02],\n",
       "       [8.47504691e-01, 5.35674222e-01, 9.70250032e-01, ...,\n",
       "        4.07900935e-01, 6.53362268e-01, 8.66424740e-01],\n",
       "       [2.12127615e-01, 3.31690094e-01, 9.98601469e-02, ...,\n",
       "        6.58587486e-01, 3.94725516e-01, 1.29660495e-01]])"
      ]
     },
     "execution_count": 232,
     "metadata": {},
     "output_type": "execute_result"
    }
   ],
   "source": [
    "np.random.rand(100,100)"
   ]
  },
  {
   "cell_type": "markdown",
   "id": "5ab4ef97-adbf-4108-bfb8-cbf68de28412",
   "metadata": {},
   "source": [
    "<br>\n",
    " \n",
    "standard normal distributed random numbers $\\mu = 0$ and $\\sigma^2=1$"
   ]
  },
  {
   "cell_type": "code",
   "execution_count": 234,
   "id": "7116dd24-b880-4695-a3dc-cefb1126bad7",
   "metadata": {},
   "outputs": [],
   "source": [
    "np_a = np.random.randn(10000,10000)"
   ]
  },
  {
   "cell_type": "code",
   "execution_count": 236,
   "id": "e6b7cc01-2d3d-4f31-a26d-384d3d715f98",
   "metadata": {},
   "outputs": [
    {
     "data": {
      "text/plain": [
       "0.00011401097450066087"
      ]
     },
     "execution_count": 236,
     "metadata": {},
     "output_type": "execute_result"
    }
   ],
   "source": [
    "np.mean(np_a)"
   ]
  },
  {
   "cell_type": "code",
   "execution_count": 238,
   "id": "e28faf37-2def-4972-b4c3-6db59bb1736c",
   "metadata": {},
   "outputs": [
    {
     "data": {
      "text/plain": [
       "0.999973314148466"
      ]
     },
     "execution_count": 238,
     "metadata": {},
     "output_type": "execute_result"
    }
   ],
   "source": [
    "np.var(np_a)"
   ]
  },
  {
   "cell_type": "markdown",
   "id": "5952635b-457b-4e69-a521-4c5faa832b48",
   "metadata": {},
   "source": [
    "<br>\n",
    " \n",
    "standard normal distributed random numbers  𝜇 = 1  and  $\\sigma^2=1$"
   ]
  },
  {
   "cell_type": "code",
   "execution_count": 240,
   "id": "90bef87c-8256-4613-8d51-5f42a805719c",
   "metadata": {},
   "outputs": [
    {
     "data": {
      "text/plain": [
       "array([[-1.0679446 ,  3.27924539,  1.53713411,  0.92224262, -0.36343152],\n",
       "       [ 0.94191359, -2.58829327,  1.91530115,  0.24962001,  1.71690839],\n",
       "       [ 1.1778302 ,  1.60759397,  1.54966315,  1.54682775,  0.61274905],\n",
       "       [ 1.36783414,  0.4523716 ,  0.8566165 ,  0.14584949,  1.87621558],\n",
       "       [ 1.60916162,  0.79976985,  1.25387575,  0.37108575,  2.63948853]])"
      ]
     },
     "execution_count": 240,
     "metadata": {},
     "output_type": "execute_result"
    }
   ],
   "source": [
    "np_b = np.random.randn(5, 5) + 1\n",
    "np_b"
   ]
  },
  {
   "cell_type": "code",
   "execution_count": 242,
   "id": "8e20bef6-8967-4c6d-a89d-42912cffe060",
   "metadata": {},
   "outputs": [
    {
     "data": {
      "text/plain": [
       "0.976385151568882"
      ]
     },
     "execution_count": 242,
     "metadata": {},
     "output_type": "execute_result"
    }
   ],
   "source": [
    "np.mean(np_b)"
   ]
  },
  {
   "cell_type": "code",
   "execution_count": 244,
   "id": "8933da10-df60-4d00-8ae9-ec276b01c484",
   "metadata": {},
   "outputs": [
    {
     "data": {
      "text/plain": [
       "1.3227605954411923"
      ]
     },
     "execution_count": 244,
     "metadata": {},
     "output_type": "execute_result"
    }
   ],
   "source": [
    "np.var(np_b)"
   ]
  },
  {
   "cell_type": "code",
   "execution_count": 246,
   "id": "2375b26a-c952-4363-9fce-b262350636de",
   "metadata": {},
   "outputs": [],
   "source": [
    "np_b = np.random.randn(10000,10000) + 1 # your solution goes here"
   ]
  },
  {
   "cell_type": "code",
   "execution_count": 248,
   "id": "3d6e1aaf-c6f7-4f21-9cb9-19e2a82c658d",
   "metadata": {},
   "outputs": [
    {
     "data": {
      "text/plain": [
       "1.0000079178457417"
      ]
     },
     "execution_count": 248,
     "metadata": {},
     "output_type": "execute_result"
    }
   ],
   "source": [
    "np.mean(np_b)"
   ]
  },
  {
   "cell_type": "code",
   "execution_count": 250,
   "id": "bbbd181a-2799-4419-ba6f-2a05d5feb692",
   "metadata": {},
   "outputs": [
    {
     "data": {
      "text/plain": [
       "1.0001598682548585"
      ]
     },
     "execution_count": 250,
     "metadata": {},
     "output_type": "execute_result"
    }
   ],
   "source": [
    "np.var(np_b)"
   ]
  },
  {
   "cell_type": "markdown",
   "id": "4628849d-237a-443a-bc08-2a98342d30a5",
   "metadata": {},
   "source": [
    "How do you make sure that noise will not make mean and variance meaningfully different from 1?"
   ]
  },
  {
   "cell_type": "markdown",
   "id": "8de3bbf3-8ba1-4a5e-9732-bab0d0d5f6f7",
   "metadata": {},
   "source": [
    "<br>\n",
    " \n",
    "How do you generate an array of normally distributed random numbers where 𝜇 = 1  and  $\\sigma^2=4$?"
   ]
  },
  {
   "cell_type": "code",
   "execution_count": 252,
   "id": "1fb88622-a2fc-4c2a-b8f9-379f1895f07c",
   "metadata": {},
   "outputs": [],
   "source": [
    "np_c = (4**0.5) * np.random.randn(10000,10000) + 1 # multiply by std and add mean"
   ]
  },
  {
   "cell_type": "code",
   "execution_count": 254,
   "id": "ab51c9c4-5032-44c9-a57b-6f561abc6121",
   "metadata": {},
   "outputs": [
    {
     "data": {
      "text/plain": [
       "3.9996689967219754"
      ]
     },
     "execution_count": 254,
     "metadata": {},
     "output_type": "execute_result"
    }
   ],
   "source": [
    "np.var(np_c)"
   ]
  },
  {
   "cell_type": "code",
   "execution_count": 256,
   "id": "be073be0-a878-44d5-9566-b8d6ffdf47b3",
   "metadata": {},
   "outputs": [
    {
     "data": {
      "text/plain": [
       "1.0002353045873442"
      ]
     },
     "execution_count": 256,
     "metadata": {},
     "output_type": "execute_result"
    }
   ],
   "source": [
    "np.mean(np_c)"
   ]
  },
  {
   "cell_type": "markdown",
   "id": "ff3ba69a-3320-4c6d-982f-c13ee9e70cd0",
   "metadata": {},
   "source": [
    "### Index slicing"
   ]
  },
  {
   "cell_type": "markdown",
   "id": "c113c7a9-0af0-4b0c-8d8a-bf037315a85b",
   "metadata": {},
   "source": [
    "Index slicing is the technical name for the syntax `M[lower:upper:step]` to extract part of an array:"
   ]
  },
  {
   "cell_type": "code",
   "execution_count": 258,
   "id": "4b31b5c5-1de2-4f6a-b35e-2fe01504c456",
   "metadata": {
    "tags": []
   },
   "outputs": [],
   "source": [
    "A = np.array([1,2,3,4,5])"
   ]
  },
  {
   "cell_type": "markdown",
   "id": "4d32d54d-e69b-46bd-8317-42f8b154f583",
   "metadata": {},
   "source": [
    "It works in the same way as for **lists**. Refresh it (class 1)!"
   ]
  },
  {
   "cell_type": "code",
   "execution_count": 260,
   "id": "a1c3d58d-551c-4509-948f-4fb0c81e695c",
   "metadata": {},
   "outputs": [
    {
     "data": {
      "text/plain": [
       "array([2, 3])"
      ]
     },
     "execution_count": 260,
     "metadata": {},
     "output_type": "execute_result"
    }
   ],
   "source": [
    "A[1:3]"
   ]
  },
  {
   "cell_type": "markdown",
   "id": "4759f02d-7435-4dd8-be73-f4151b73cef9",
   "metadata": {},
   "source": [
    "Numpy arrays are **mutable**! "
   ]
  },
  {
   "cell_type": "code",
   "execution_count": 262,
   "id": "7cb09f79-edbf-4794-9e93-46a6467b20ae",
   "metadata": {},
   "outputs": [
    {
     "data": {
      "text/plain": [
       "array([ 1, -2, -3,  4,  5])"
      ]
     },
     "execution_count": 262,
     "metadata": {},
     "output_type": "execute_result"
    }
   ],
   "source": [
    "A[1:3] = [-2,-3]\n",
    "A"
   ]
  },
  {
   "cell_type": "code",
   "execution_count": 264,
   "id": "3718b8e2-bd38-4acb-a144-c47c4b94e253",
   "metadata": {},
   "outputs": [
    {
     "data": {
      "text/plain": [
       "array([ 1, -2, -3,  4,  5])"
      ]
     },
     "execution_count": 264,
     "metadata": {},
     "output_type": "execute_result"
    }
   ],
   "source": [
    "A[::] # lower, upper, step all take the default values"
   ]
  },
  {
   "cell_type": "code",
   "execution_count": 266,
   "id": "719da294-95d1-4c32-a31f-d527c0664f0e",
   "metadata": {},
   "outputs": [
    {
     "data": {
      "text/plain": [
       "array([ 1, -3,  5])"
      ]
     },
     "execution_count": 266,
     "metadata": {},
     "output_type": "execute_result"
    }
   ],
   "source": [
    "A[::2] # step is 2, lower and upper defaults to the beginning and end of the array"
   ]
  },
  {
   "cell_type": "code",
   "execution_count": 268,
   "id": "086f1c84-50c6-4f70-b23a-8ed5f703d45f",
   "metadata": {},
   "outputs": [
    {
     "data": {
      "text/plain": [
       "array([ 1, -2, -3])"
      ]
     },
     "execution_count": 268,
     "metadata": {},
     "output_type": "execute_result"
    }
   ],
   "source": [
    "A[:3] # first three elements"
   ]
  },
  {
   "cell_type": "code",
   "execution_count": 270,
   "id": "8368dd5e-5deb-4dda-92c2-6be457e4e39f",
   "metadata": {},
   "outputs": [
    {
     "data": {
      "text/plain": [
       "array([4, 5])"
      ]
     },
     "execution_count": 270,
     "metadata": {},
     "output_type": "execute_result"
    }
   ],
   "source": [
    "A[3:] # elements from index 3"
   ]
  },
  {
   "cell_type": "markdown",
   "id": "edc620f2-0129-44f5-8d8a-a1a04b2d4203",
   "metadata": {},
   "source": [
    "Negative indices counts from the end of the array (positive index from the begining):"
   ]
  },
  {
   "cell_type": "code",
   "execution_count": 272,
   "id": "027d1036-6bcb-4c60-b4f4-8c13917d8775",
   "metadata": {},
   "outputs": [
    {
     "data": {
      "text/plain": [
       "array([5])"
      ]
     },
     "execution_count": 272,
     "metadata": {},
     "output_type": "execute_result"
    }
   ],
   "source": [
    "A[-1:]"
   ]
  },
  {
   "cell_type": "code",
   "execution_count": 274,
   "id": "536c6cac-ddc6-4504-964f-3d8eaf132e54",
   "metadata": {},
   "outputs": [
    {
     "data": {
      "text/plain": [
       "array([4, 5])"
      ]
     },
     "execution_count": 274,
     "metadata": {},
     "output_type": "execute_result"
    }
   ],
   "source": [
    "A[-2:]"
   ]
  },
  {
   "cell_type": "markdown",
   "id": "df699670-a450-4f97-863a-2e52179b2036",
   "metadata": {},
   "source": [
    "Index slicing works exactly the same way for multidimensional arrays:"
   ]
  },
  {
   "cell_type": "code",
   "execution_count": 276,
   "id": "421765df-10ac-48e1-a687-5bb73d1982f2",
   "metadata": {},
   "outputs": [
    {
     "data": {
      "text/plain": [
       "array([[ 0,  1,  2,  3,  4],\n",
       "       [10, 11, 12, 13, 14],\n",
       "       [20, 21, 22, 23, 24],\n",
       "       [30, 31, 32, 33, 34],\n",
       "       [40, 41, 42, 43, 44]])"
      ]
     },
     "execution_count": 276,
     "metadata": {},
     "output_type": "execute_result"
    }
   ],
   "source": [
    "A = np.array([[n+m*10 for n in range(5)] for m in range(5)])\n",
    "\n",
    "A"
   ]
  },
  {
   "cell_type": "code",
   "execution_count": 278,
   "id": "4f6dbaa0-9e9f-4635-a4be-70e832a35a25",
   "metadata": {},
   "outputs": [
    {
     "data": {
      "text/plain": [
       "array([[11, 12],\n",
       "       [21, 22],\n",
       "       [31, 32],\n",
       "       [41, 42]])"
      ]
     },
     "execution_count": 278,
     "metadata": {},
     "output_type": "execute_result"
    }
   ],
   "source": [
    "# a block from the original array\n",
    "A[1:5, 1:3]"
   ]
  },
  {
   "cell_type": "markdown",
   "id": "447997eb-4c9b-4002-a9da-39c656a38095",
   "metadata": {},
   "source": [
    "### Fancy indexing\n",
    "Fancy indexing is the name for when an array or list is used in-place of an index: "
   ]
  },
  {
   "cell_type": "code",
   "execution_count": 280,
   "id": "2368a9a4-6af1-4ecc-a4ac-44cb48abc78e",
   "metadata": {},
   "outputs": [
    {
     "data": {
      "text/plain": [
       "array([[10, 11, 12, 13, 14],\n",
       "       [20, 21, 22, 23, 24],\n",
       "       [30, 31, 32, 33, 34]])"
      ]
     },
     "execution_count": 280,
     "metadata": {},
     "output_type": "execute_result"
    }
   ],
   "source": [
    "row_indices = [1, 2, 3]\n",
    "A[row_indices,:] # this selects the second, third and fourth row of A, and all its columns"
   ]
  },
  {
   "cell_type": "code",
   "execution_count": 282,
   "id": "c3000847-8cad-4395-865e-75c7c48ba58e",
   "metadata": {},
   "outputs": [
    {
     "data": {
      "text/plain": [
       "array([[10, 11, 12, 13, 14],\n",
       "       [20, 21, 22, 23, 24],\n",
       "       [30, 31, 32, 33, 34]])"
      ]
     },
     "execution_count": 282,
     "metadata": {},
     "output_type": "execute_result"
    }
   ],
   "source": [
    "A[row_indices] #this is equivalent to the expression above"
   ]
  },
  {
   "cell_type": "code",
   "execution_count": 284,
   "id": "83e31b07-d08b-447c-8df5-8645b61e0ca2",
   "metadata": {},
   "outputs": [
    {
     "data": {
      "text/plain": [
       "array([11, 22, 34])"
      ]
     },
     "execution_count": 284,
     "metadata": {},
     "output_type": "execute_result"
    }
   ],
   "source": [
    "col_indices = [1, 2, -1] # remember, index -1 means the last element\n",
    "A[row_indices, col_indices]"
   ]
  },
  {
   "cell_type": "code",
   "execution_count": 286,
   "id": "437dc06f-a478-425d-b0ff-25a64d180efe",
   "metadata": {},
   "outputs": [
    {
     "data": {
      "text/plain": [
       "array([11, 24, 32])"
      ]
     },
     "execution_count": 286,
     "metadata": {},
     "output_type": "execute_result"
    }
   ],
   "source": [
    "different_col_indices = [1, -1, 2] \n",
    "A[row_indices, different_col_indices]"
   ]
  },
  {
   "cell_type": "markdown",
   "id": "43656920-5fe3-4ebc-bb04-c428bd929c6d",
   "metadata": {},
   "source": [
    "### Data Processing With Numpy"
   ]
  },
  {
   "cell_type": "code",
   "execution_count": 288,
   "id": "ddf3194b-afcb-4b74-95c1-8f4e1bf544bf",
   "metadata": {},
   "outputs": [],
   "source": [
    "import numpy as np\n",
    "data=np.loadtxt('stockholm_daily_mean_temperature_1756_2017.txt') "
   ]
  },
  {
   "cell_type": "code",
   "execution_count": 290,
   "id": "e946c9dd-4c1c-4a74-80df-253a72cf60d5",
   "metadata": {},
   "outputs": [
    {
     "data": {
      "text/plain": [
       "array([[ 1.756e+03,  1.000e+00,  1.000e+00, ..., -8.700e+00, -8.700e+00,\n",
       "         1.000e+00],\n",
       "       [ 1.756e+03,  1.000e+00,  2.000e+00, ..., -9.200e+00, -9.200e+00,\n",
       "         1.000e+00],\n",
       "       [ 1.756e+03,  1.000e+00,  3.000e+00, ..., -8.600e+00, -8.600e+00,\n",
       "         1.000e+00],\n",
       "       ...,\n",
       "       [ 2.017e+03,  1.200e+01,  2.900e+01, ...,  2.400e+00,  2.400e+00,\n",
       "         3.000e+00],\n",
       "       [ 2.017e+03,  1.200e+01,  3.000e+01, ...,  1.200e+00,  1.200e+00,\n",
       "         3.000e+00],\n",
       "       [ 2.017e+03,  1.200e+01,  3.100e+01, ...,  2.200e+00,  2.200e+00,\n",
       "         3.000e+00]])"
      ]
     },
     "execution_count": 290,
     "metadata": {},
     "output_type": "execute_result"
    }
   ],
   "source": [
    "data"
   ]
  },
  {
   "cell_type": "code",
   "execution_count": 292,
   "id": "2d2ad6c0-365b-4b28-9c76-43db08304db6",
   "metadata": {},
   "outputs": [
    {
     "data": {
      "text/plain": [
       "(95694, 7)"
      ]
     },
     "execution_count": 292,
     "metadata": {},
     "output_type": "execute_result"
    }
   ],
   "source": [
    "data.shape"
   ]
  },
  {
   "cell_type": "code",
   "execution_count": 294,
   "id": "83eacb15-0883-44f8-bdd6-04a8f95ebcc5",
   "metadata": {},
   "outputs": [
    {
     "data": {
      "text/plain": [
       "array([[ 1.756e+03,  1.000e+00,  1.000e+00, ..., -8.700e+00, -8.700e+00,\n",
       "         1.000e+00],\n",
       "       [ 1.756e+03,  1.000e+00,  2.000e+00, ..., -9.200e+00, -9.200e+00,\n",
       "         1.000e+00],\n",
       "       [ 1.756e+03,  1.000e+00,  3.000e+00, ..., -8.600e+00, -8.600e+00,\n",
       "         1.000e+00],\n",
       "       ...,\n",
       "       [ 2.017e+03,  1.200e+01,  2.900e+01, ...,  2.400e+00,  2.400e+00,\n",
       "         3.000e+00],\n",
       "       [ 2.017e+03,  1.200e+01,  3.000e+01, ...,  1.200e+00,  1.200e+00,\n",
       "         3.000e+00],\n",
       "       [ 2.017e+03,  1.200e+01,  3.100e+01, ...,  2.200e+00,  2.200e+00,\n",
       "         3.000e+00]])"
      ]
     },
     "execution_count": 294,
     "metadata": {},
     "output_type": "execute_result"
    }
   ],
   "source": [
    "data"
   ]
  },
  {
   "cell_type": "markdown",
   "id": "844b9674-8348-487b-9c52-ed3724618f34",
   "metadata": {},
   "source": [
    "This is Stockholm weather data from 1756 through 2017. We only need to first four columns: year, month, day, average daily temperature. "
   ]
  },
  {
   "cell_type": "code",
   "execution_count": 296,
   "id": "0cb960dd-5652-4efa-aafb-23265beb42ea",
   "metadata": {},
   "outputs": [],
   "source": [
    "data = data[:, 0:4] # every row, columns from index 0 to index 3"
   ]
  },
  {
   "cell_type": "code",
   "execution_count": 298,
   "id": "adf7971f-40ce-4d46-98a8-b834b2a1cc0b",
   "metadata": {},
   "outputs": [
    {
     "data": {
      "text/plain": [
       "(95694, 4)"
      ]
     },
     "execution_count": 298,
     "metadata": {},
     "output_type": "execute_result"
    }
   ],
   "source": [
    "data.shape"
   ]
  },
  {
   "cell_type": "markdown",
   "id": "d0e72172-51d9-4000-8dee-4cf3cea046dd",
   "metadata": {},
   "source": [
    "Elements in a numpy arrays always have a the same data type."
   ]
  },
  {
   "cell_type": "code",
   "execution_count": 300,
   "id": "755cd68b-4e2a-4e14-a3cf-fccbcede848e",
   "metadata": {},
   "outputs": [
    {
     "data": {
      "text/plain": [
       "array([[ 1.756e+03,  1.000e+00,  1.000e+00, -8.700e+00],\n",
       "       [ 1.756e+03,  1.000e+00,  2.000e+00, -9.200e+00],\n",
       "       [ 1.756e+03,  1.000e+00,  3.000e+00, -8.600e+00],\n",
       "       [ 1.756e+03,  1.000e+00,  4.000e+00, -7.700e+00],\n",
       "       [ 1.756e+03,  1.000e+00,  5.000e+00, -7.200e+00],\n",
       "       [ 1.756e+03,  1.000e+00,  6.000e+00, -1.600e+00],\n",
       "       [ 1.756e+03,  1.000e+00,  7.000e+00,  7.000e-01],\n",
       "       [ 1.756e+03,  1.000e+00,  8.000e+00,  1.300e+00],\n",
       "       [ 1.756e+03,  1.000e+00,  9.000e+00,  2.400e+00],\n",
       "       [ 1.756e+03,  1.000e+00,  1.000e+01,  8.000e-01]])"
      ]
     },
     "execution_count": 300,
     "metadata": {},
     "output_type": "execute_result"
    }
   ],
   "source": [
    "data[0:10,]"
   ]
  },
  {
   "cell_type": "markdown",
   "id": "7c118752-d5c4-4470-a1ce-0b1036af32fa",
   "metadata": {},
   "source": [
    "To have a better view we can call the `array_repr` method for a string representation of the array."
   ]
  },
  {
   "cell_type": "code",
   "execution_count": 302,
   "id": "4851584b-7cab-46c8-9c5a-8e02dce3481d",
   "metadata": {},
   "outputs": [
    {
     "data": {
      "text/plain": [
       "'array([[1756. ,    1. ,    1. ,   -8.7],\\n       [1756. ,    1. ,    2. ,   -9.2],\\n       [1756. ,    1. ,    3. ,   -8.6],\\n       [1756. ,    1. ,    4. ,   -7.7],\\n       [1756. ,    1. ,    5. ,   -7.2]])'"
      ]
     },
     "execution_count": 302,
     "metadata": {},
     "output_type": "execute_result"
    }
   ],
   "source": [
    "np.array_repr(data[0:5,], suppress_small=True) # This will give back a string of the rows in the numpy array"
   ]
  },
  {
   "cell_type": "code",
   "execution_count": 304,
   "id": "1163caf4-c50b-4323-a127-4a3167f31b28",
   "metadata": {},
   "outputs": [
    {
     "name": "stdout",
     "output_type": "stream",
     "text": [
      "array([1756. ,    1. ,    1. ,   -8.7])\n",
      "array([1756. ,    1. ,    2. ,   -9.2])\n",
      "array([1756. ,    1. ,    3. ,   -8.6])\n",
      "array([1756. ,    1. ,    4. ,   -7.7])\n",
      "array([1756. ,    1. ,    5. ,   -7.2])\n",
      "array([1756. ,    1. ,    6. ,   -1.6])\n",
      "array([1756. ,    1. ,    7. ,    0.7])\n",
      "array([1756. ,    1. ,    8. ,    1.3])\n",
      "array([1756. ,    1. ,    9. ,    2.4])\n",
      "array([1756. ,    1. ,   10. ,    0.8])\n"
     ]
    }
   ],
   "source": [
    "for row in data[0:10,]:\n",
    "    print(np.array_repr(row, suppress_small=True))"
   ]
  },
  {
   "cell_type": "markdown",
   "id": "b37f083b-b197-4f25-bac0-f50af52d95be",
   "metadata": {},
   "source": [
    "### Quick Stats"
   ]
  },
  {
   "cell_type": "markdown",
   "id": "cb36f6fd-db74-4ec3-9601-703e5781c58a",
   "metadata": {},
   "source": [
    "#### mean"
   ]
  },
  {
   "cell_type": "code",
   "execution_count": 307,
   "id": "31962d76-d441-456a-a22b-98fc5a0a70c7",
   "metadata": {},
   "outputs": [
    {
     "data": {
      "text/plain": [
       "6.12563065604949"
      ]
     },
     "execution_count": 307,
     "metadata": {},
     "output_type": "execute_result"
    }
   ],
   "source": [
    "# the temperature data is in column 3\n",
    "np.mean(data[:,3])"
   ]
  },
  {
   "cell_type": "markdown",
   "id": "63ee7e3f-235e-42f4-a590-fe43e546685e",
   "metadata": {},
   "source": [
    "The daily mean temperature in Stockholm over the last 250 years has been about 6.1 C."
   ]
  },
  {
   "cell_type": "code",
   "execution_count": 309,
   "id": "f46d3b6e-b7ab-4b67-8df2-cbf32f32defd",
   "metadata": {},
   "outputs": [
    {
     "data": {
      "text/plain": [
       "6.12563065604949"
      ]
     },
     "execution_count": 309,
     "metadata": {},
     "output_type": "execute_result"
    }
   ],
   "source": [
    "# another way of getting the same mean value is using the class method on the object instance \n",
    "data[:,3].mean()"
   ]
  },
  {
   "cell_type": "markdown",
   "id": "5d6ee6fe-eb69-4aa7-a5e8-dbe94fefc6c4",
   "metadata": {},
   "source": [
    "#### standard deviations and variance"
   ]
  },
  {
   "cell_type": "code",
   "execution_count": 311,
   "id": "fc083125-8450-45bf-a271-276782410167",
   "metadata": {},
   "outputs": [
    {
     "data": {
      "text/plain": [
       "(12.010007951154332, 144.24029098679026)"
      ]
     },
     "execution_count": 311,
     "metadata": {},
     "output_type": "execute_result"
    }
   ],
   "source": [
    "np.std(data[:,3]), np.var(data[:,3])"
   ]
  },
  {
   "cell_type": "markdown",
   "id": "59268a2b-23df-4c37-9f9e-3140c19de2d8",
   "metadata": {},
   "source": [
    "#### min and max\n",
    "\n",
    "*min()* and *max()* together with many other statistical functions are ***class methods*** for any numpy arrays. It means that you can call them simply on your numpy object. "
   ]
  },
  {
   "cell_type": "markdown",
   "id": "1c7c88ec-14af-4dd8-a80a-afff62368ab5",
   "metadata": {},
   "source": [
    "What is this??? How do you handle that?"
   ]
  },
  {
   "cell_type": "code",
   "execution_count": 313,
   "id": "e00fecc2-ce0a-4142-9f39-e8258c7ab213",
   "metadata": {},
   "outputs": [
    {
     "data": {
      "text/plain": [
       "-999.0"
      ]
     },
     "execution_count": 313,
     "metadata": {},
     "output_type": "execute_result"
    }
   ],
   "source": [
    "# lowest daily average temperature\n",
    "data[:,3].min()"
   ]
  },
  {
   "cell_type": "code",
   "execution_count": 315,
   "id": "430c6c4b-66d0-400e-85ba-a1b4a0aa6bd7",
   "metadata": {},
   "outputs": [
    {
     "data": {
      "text/plain": [
       "28.3"
      ]
     },
     "execution_count": 315,
     "metadata": {},
     "output_type": "execute_result"
    }
   ],
   "source": [
    "# highest daily average temperature\n",
    "data[:,3].max()"
   ]
  },
  {
   "cell_type": "markdown",
   "id": "b35a86fc-9e9f-459f-bb71-6823dfda5fe3",
   "metadata": {},
   "source": [
    "### Masking: selecting subsets of arrays\n",
    "Masking is a kind of fancy indexing."
   ]
  },
  {
   "cell_type": "code",
   "execution_count": 317,
   "id": "3484a197-585b-43bb-8981-e0dcb1d8a814",
   "metadata": {},
   "outputs": [
    {
     "data": {
      "text/plain": [
       "array([False, False, False, ..., False, False, False])"
      ]
     },
     "execution_count": 317,
     "metadata": {},
     "output_type": "execute_result"
    }
   ],
   "source": [
    "mask = (data[:, 0] == 1971)\n",
    "mask"
   ]
  },
  {
   "cell_type": "code",
   "execution_count": 319,
   "id": "d120b58d-a0c5-4c2a-bda8-1c34417367d0",
   "metadata": {},
   "outputs": [
    {
     "data": {
      "text/plain": [
       "(365, 4)"
      ]
     },
     "execution_count": 319,
     "metadata": {},
     "output_type": "execute_result"
    }
   ],
   "source": [
    "data[mask].shape"
   ]
  },
  {
   "cell_type": "code",
   "execution_count": 321,
   "id": "84d1c765-be08-4eda-b8e4-89b1bd3363aa",
   "metadata": {},
   "outputs": [
    {
     "data": {
      "text/plain": [
       "array([1971., 1971., 1971., 1971., 1971., 1971., 1971., 1971., 1971.,\n",
       "       1971., 1971., 1971., 1971., 1971., 1971., 1971., 1971., 1971.,\n",
       "       1971., 1971., 1971., 1971., 1971., 1971., 1971., 1971., 1971.,\n",
       "       1971., 1971., 1971., 1971., 1971., 1971., 1971., 1971., 1971.,\n",
       "       1971., 1971., 1971., 1971., 1971., 1971., 1971., 1971., 1971.,\n",
       "       1971., 1971., 1971., 1971., 1971., 1971., 1971., 1971., 1971.,\n",
       "       1971., 1971., 1971., 1971., 1971., 1971., 1971., 1971., 1971.,\n",
       "       1971., 1971., 1971., 1971., 1971., 1971., 1971., 1971., 1971.,\n",
       "       1971., 1971., 1971., 1971., 1971., 1971., 1971., 1971., 1971.,\n",
       "       1971., 1971., 1971., 1971., 1971., 1971., 1971., 1971., 1971.,\n",
       "       1971., 1971., 1971., 1971., 1971., 1971., 1971., 1971., 1971.,\n",
       "       1971., 1971., 1971., 1971., 1971., 1971., 1971., 1971., 1971.,\n",
       "       1971., 1971., 1971., 1971., 1971., 1971., 1971., 1971., 1971.,\n",
       "       1971., 1971., 1971., 1971., 1971., 1971., 1971., 1971., 1971.,\n",
       "       1971., 1971., 1971., 1971., 1971., 1971., 1971., 1971., 1971.,\n",
       "       1971., 1971., 1971., 1971., 1971., 1971., 1971., 1971., 1971.,\n",
       "       1971., 1971., 1971., 1971., 1971., 1971., 1971., 1971., 1971.,\n",
       "       1971., 1971., 1971., 1971., 1971., 1971., 1971., 1971., 1971.,\n",
       "       1971., 1971., 1971., 1971., 1971., 1971., 1971., 1971., 1971.,\n",
       "       1971., 1971., 1971., 1971., 1971., 1971., 1971., 1971., 1971.,\n",
       "       1971., 1971., 1971., 1971., 1971., 1971., 1971., 1971., 1971.,\n",
       "       1971., 1971., 1971., 1971., 1971., 1971., 1971., 1971., 1971.,\n",
       "       1971., 1971., 1971., 1971., 1971., 1971., 1971., 1971., 1971.,\n",
       "       1971., 1971., 1971., 1971., 1971., 1971., 1971., 1971., 1971.,\n",
       "       1971., 1971., 1971., 1971., 1971., 1971., 1971., 1971., 1971.,\n",
       "       1971., 1971., 1971., 1971., 1971., 1971., 1971., 1971., 1971.,\n",
       "       1971., 1971., 1971., 1971., 1971., 1971., 1971., 1971., 1971.,\n",
       "       1971., 1971., 1971., 1971., 1971., 1971., 1971., 1971., 1971.,\n",
       "       1971., 1971., 1971., 1971., 1971., 1971., 1971., 1971., 1971.,\n",
       "       1971., 1971., 1971., 1971., 1971., 1971., 1971., 1971., 1971.,\n",
       "       1971., 1971., 1971., 1971., 1971., 1971., 1971., 1971., 1971.,\n",
       "       1971., 1971., 1971., 1971., 1971., 1971., 1971., 1971., 1971.,\n",
       "       1971., 1971., 1971., 1971., 1971., 1971., 1971., 1971., 1971.,\n",
       "       1971., 1971., 1971., 1971., 1971., 1971., 1971., 1971., 1971.,\n",
       "       1971., 1971., 1971., 1971., 1971., 1971., 1971., 1971., 1971.,\n",
       "       1971., 1971., 1971., 1971., 1971., 1971., 1971., 1971., 1971.,\n",
       "       1971., 1971., 1971., 1971., 1971., 1971., 1971., 1971., 1971.,\n",
       "       1971., 1971., 1971., 1971., 1971., 1971., 1971., 1971., 1971.,\n",
       "       1971., 1971., 1971., 1971., 1971., 1971., 1971., 1971., 1971.,\n",
       "       1971., 1971., 1971., 1971., 1971., 1971., 1971., 1971., 1971.,\n",
       "       1971., 1971., 1971., 1971., 1971.])"
      ]
     },
     "execution_count": 321,
     "metadata": {},
     "output_type": "execute_result"
    }
   ],
   "source": [
    "data[mask, 0] # years only"
   ]
  },
  {
   "cell_type": "code",
   "execution_count": 40,
   "id": "13dffc03-53df-474a-9e2f-13532c71a948",
   "metadata": {},
   "outputs": [
    {
     "data": {
      "text/plain": [
       "array([ -9.2,  -6.5,  -4.7,  -0.3,  -6.8, -11.6,  -1.9,   4.3,   4.6,\n",
       "         5.9,   4.8,   1.9,   0.8,  -0.9,  -1.5,  -1.5,  -3.9,   2.4,\n",
       "         1.3,   2. ,   2. ,   1.8,   2.5,   3.7,   4.9,   3.7,   1.7,\n",
       "        -2.1,  -5.1,  -6.3,   0.2,  -2.7,  -4. ,  -0.6,   1.6,   3.4,\n",
       "         2.4,  -0.4,  -1.9,  -4.8,  -1.9,   2.5,   2.4,   3.1,   2.5,\n",
       "         1.7,   1.5,   0.5,   0. ,  -0.3,   0.5,   1.1,   1.1,  -2.1,\n",
       "         0.6, -11.9,  -8.2,  -8.3,  -7.9,  -7.7,  -8.5, -10.8, -13.5,\n",
       "        -8.6,  -5.4,  -0.5,   2.1,   0. ,  -4.6,  -3.5,  -3. ,  -0.8,\n",
       "         0.4,  -0.1,   0.8,   1.6,   1.7,   1.8,   1.3,   0. ,  -2.2,\n",
       "        -4.4,  -0.3,   3.6,   3.3,  -0.8,  -1.4,   1. ,  -0.5,   0.6,\n",
       "         4.2,   4. ,   3.6,  -0.7,   0.1,   0.9,   2.5,   5.6,   3.7,\n",
       "         4.2,   6.1,   5.8,   2.7,   2.3,   3. ,   4.6,   5.2,   6.5,\n",
       "         9. ,   9.8,   7.6,   3.3,   2.1,   0.5,  -0.3,   0.1,   2.2,\n",
       "         3.6,   1.2,   3.3,   6.4,   9.9,   8.5,   7.4,   9.4,  12.2,\n",
       "        14.7,  13.2,  14.2,  15.8,  16.2,  14.2,  14. ,  11.9,  12.4,\n",
       "        12.4,  16.2,  17.5,  14.6,  13.5,   7.7,   5.8,   4. ,   3.6,\n",
       "         4.2,   6.1,  10.4,  12.6,  16.6,  19.3,  18.3,  18.6,  21.2,\n",
       "        18.9,  16.4,  13.5,  13.8,  16.2,  12.2,  10.1,  11.7,  12.9,\n",
       "        12.5,  13.4,  15.5,  14.7,  11.2,  13.7,  13. ,  13.1,  13.2,\n",
       "        16.3,  15.6,  16. ,  15.4,  14. ,  16. ,  17.9,  15.4,  16.1,\n",
       "        18.3,  16.2,  17.5,  20.5,  20.1,  22. ,  19.9,  21.1,  21.5,\n",
       "        20.7,  18.9,  20.8,  20.5,  14.2,  14. ,  13.6,  13.5,  12.4,\n",
       "        14.3,  14.7,  13.7,  14.1,  14.8,  16.8,  17.7,  20.2,  19.7,\n",
       "        19.5,  19. ,  19. ,  18.5,  19. ,  18.1,  20.1,  21. ,  20.4,\n",
       "        20.5,  20.2,  18.1,  15.5,  16.1,  16.8,  15.7,  14.1,  15.8,\n",
       "        15.7,  14.7,  14.7,  15.1,  16. ,  17.6,  19. ,  17.7,  13.2,\n",
       "        12.8,  15.4,  17.2,  16.9,  14.7,  14.4,  13.6,  13.1,  13.6,\n",
       "        13.3,  15.1,  14.9,  13.3,  11.4,  11.3,  13. ,  12.1,  12.2,\n",
       "        12.2,  11.8,  10.3,   7.7,   5.5,   7.5,   7.5,   9.8,  10.7,\n",
       "        11.7,  12.3,  12.4,  14.7,  12.1,  12.4,  10.5,   8.5,   7.8,\n",
       "         9. ,   9.6,  10.3,  12.8,  11.3,   8.2,   5.5,   5.1,  10. ,\n",
       "        13.9,   9.3,   9.4,   8.2,  14.6,  10.7,   3.9,   2.9,   3. ,\n",
       "         4.9,   6.5,   7.5,   9.6,  10.6,   8.7,   6.8,   3.4,   6. ,\n",
       "         6.3,   6.4,   6.5,   9.2,   4.9,   6.5,   5.7,   7. ,  10.6,\n",
       "        10.1,   5.5,   1.8,   0.4,  -2.3,   3.4,  -2.2,  -3. ,   4.6,\n",
       "         0.9,   0.1,   2.1,   4.3,   5.1,  -1.7,  -5.7,  -6.9,  -6.7,\n",
       "        -0.1,  -1.1,  -1.4,  -5.4,  -0.8,   1.7,   5.6,   5.6,   3.8,\n",
       "         2.8,   3. ,   2. ,  -1. ,   3. ,   3.1,   4. ,   4.6,  -3. ,\n",
       "        -1.9,  -0.9,  -0.8,  -1.5,  -2.1,   1.5,   2.4,   5.1,   4.5,\n",
       "         4.9,   1.6,   1.9,   6.3,   3.2,   0.6,   4.8,   4. ,   6.6,\n",
       "         3.7,   0.2,  -1.3,  -3.7,  -3.2])"
      ]
     },
     "execution_count": 40,
     "metadata": {},
     "output_type": "execute_result"
    }
   ],
   "source": [
    " data[mask, 3] # temperatures only"
   ]
  },
  {
   "cell_type": "code",
   "execution_count": 323,
   "id": "840573c1-5b06-49d5-a201-9e0cb49cb336",
   "metadata": {},
   "outputs": [
    {
     "name": "stdout",
     "output_type": "stream",
     "text": [
      "The mean temperature in Stockholm in 1971 was 6.9301369863013695\n"
     ]
    }
   ],
   "source": [
    "print(\"The mean temperature in Stockholm in 1971 was \" + str(np.mean(data[mask,3])))"
   ]
  },
  {
   "cell_type": "code",
   "execution_count": 325,
   "id": "9a9fee7e-9115-47f0-80aa-58f8c855ba57",
   "metadata": {},
   "outputs": [
    {
     "name": "stdout",
     "output_type": "stream",
     "text": [
      "The mean temperature in Stockholm in 1971 was 6.93 degrees.\n"
     ]
    }
   ],
   "source": [
    "print(\"The mean temperature in Stockholm in 1971 was {:.2f} degrees.\".format(np.mean(data[mask,3])))"
   ]
  },
  {
   "cell_type": "markdown",
   "id": "0bbcbce9-dc1e-42bb-82df-d5bf2d4ddb54",
   "metadata": {},
   "source": [
    "Get the unique values from an array"
   ]
  },
  {
   "cell_type": "code",
   "execution_count": 327,
   "id": "750471a9-45da-4926-9fe2-00607b6ccbdc",
   "metadata": {},
   "outputs": [
    {
     "data": {
      "text/plain": [
       "array([ 1.,  2.,  3.,  4.,  5.,  6.,  7.,  8.,  9., 10., 11., 12.])"
      ]
     },
     "execution_count": 327,
     "metadata": {},
     "output_type": "execute_result"
    }
   ],
   "source": [
    "months = np.unique(data[:, 1]) # this wil give us the months\n",
    "months"
   ]
  },
  {
   "cell_type": "markdown",
   "id": "8a456b71-02e8-45a1-bb0d-e009c571ab15",
   "metadata": {
    "tags": []
   },
   "source": [
    "### High-performance calculations"
   ]
  },
  {
   "cell_type": "markdown",
   "id": "ac43fd3d-c669-42bf-8aad-5f24d0e01d22",
   "metadata": {},
   "source": [
    "#### Quantiles"
   ]
  },
  {
   "cell_type": "markdown",
   "id": "e087d52a-bd64-4847-8d2c-8a0ff94e1b51",
   "metadata": {},
   "source": [
    "One of numpy's main advantage to Pandas (see next time) is the high performance calculations. For instance quantiles are resource-intensive caluclations but numpy handles them smoothly. "
   ]
  },
  {
   "cell_type": "code",
   "execution_count": 330,
   "id": "75e59a4e-2276-4c71-8e89-9c1679d8a86b",
   "metadata": {},
   "outputs": [
    {
     "data": {
      "text/plain": [
       "-4.5"
      ]
     },
     "execution_count": 330,
     "metadata": {},
     "output_type": "execute_result"
    }
   ],
   "source": [
    "np.percentile(data[:,3], 10) # 1st decile of daily temperatures in the dataset"
   ]
  },
  {
   "cell_type": "markdown",
   "id": "0a15a74e-39f2-47ff-9c67-092acc439278",
   "metadata": {},
   "source": [
    "#### Handling outlier data\n",
    "\n",
    "If $min$ and/or $max$ values are obviously off any meaningful range, either because of some anomaly or because of data error, we may want to use quantiles to define the 'very low' or 'very high' values."
   ]
  },
  {
   "cell_type": "code",
   "execution_count": 332,
   "id": "7e279b95-114d-4ab9-9e7c-daac4c8f66f7",
   "metadata": {},
   "outputs": [
    {
     "data": {
      "text/plain": [
       "-13.2"
      ]
     },
     "execution_count": 332,
     "metadata": {},
     "output_type": "execute_result"
    }
   ],
   "source": [
    "np.percentile(data[:,3], 1) # how do you interpret this number?"
   ]
  },
  {
   "cell_type": "code",
   "execution_count": 334,
   "id": "22bb69c2-9f89-47b6-b44e-ba88f8a94167",
   "metadata": {},
   "outputs": [
    {
     "data": {
      "text/plain": [
       "-19.430699999999998"
      ]
     },
     "execution_count": 334,
     "metadata": {},
     "output_type": "execute_result"
    }
   ],
   "source": [
    "np.percentile(data[:,3], 0.1) # and this?"
   ]
  },
  {
   "cell_type": "markdown",
   "id": "0479b7d1-d8e6-4f22-a2d0-e6e5bc4dc1c1",
   "metadata": {},
   "source": [
    "#### Substituting and dropping outlier data"
   ]
  },
  {
   "cell_type": "markdown",
   "id": "fd35fc0e-07e1-41b9-a4b9-f19e1f55c396",
   "metadata": {},
   "source": [
    "Find the weird observation(s), where temperature is -999, in the dataset using masking."
   ]
  },
  {
   "cell_type": "code",
   "execution_count": 336,
   "id": "f0d51c63-2175-4197-a490-37efd3f3610c",
   "metadata": {},
   "outputs": [
    {
     "data": {
      "text/plain": [
       "array([[1756.,    4.,    9., -999.],\n",
       "       [1756.,    6.,    5., -999.],\n",
       "       [1756.,    8.,   30., -999.],\n",
       "       [1763.,    2.,   25., -999.],\n",
       "       [1763.,    2.,   26., -999.],\n",
       "       [1763.,    2.,   27., -999.],\n",
       "       [1763.,    2.,   28., -999.]])"
      ]
     },
     "execution_count": 336,
     "metadata": {},
     "output_type": "execute_result"
    }
   ],
   "source": [
    "mask = (data[:, 3] == -999)\n",
    "data[mask]"
   ]
  },
  {
   "cell_type": "markdown",
   "id": "9bb9b2f3-3dcb-41f3-8ad5-2f8ac74efdb2",
   "metadata": {},
   "source": [
    "Substituting anomalous data with NA. Remember: numpy arrays are *mutable*!"
   ]
  },
  {
   "cell_type": "code",
   "execution_count": 338,
   "id": "6d5f86e7-deea-4ce5-9296-e8b976a565f2",
   "metadata": {},
   "outputs": [],
   "source": [
    "data[mask, 3] = np.nan"
   ]
  },
  {
   "cell_type": "code",
   "execution_count": 340,
   "id": "94ec6eff-0938-4516-9ede-532b693a9aee",
   "metadata": {},
   "outputs": [
    {
     "data": {
      "text/plain": [
       "array([[1756.,    4.,    9.,   nan],\n",
       "       [1756.,    6.,    5.,   nan],\n",
       "       [1756.,    8.,   30.,   nan],\n",
       "       [1763.,    2.,   25.,   nan],\n",
       "       [1763.,    2.,   26.,   nan],\n",
       "       [1763.,    2.,   27.,   nan],\n",
       "       [1763.,    2.,   28.,   nan]])"
      ]
     },
     "execution_count": 340,
     "metadata": {},
     "output_type": "execute_result"
    }
   ],
   "source": [
    "data[mask]"
   ]
  },
  {
   "cell_type": "code",
   "execution_count": 342,
   "id": "2e1652c1-2cb4-4ab3-a27a-5b3d84ec01a5",
   "metadata": {},
   "outputs": [
    {
     "data": {
      "text/plain": [
       "float"
      ]
     },
     "execution_count": 342,
     "metadata": {},
     "output_type": "execute_result"
    }
   ],
   "source": [
    "type(np.nan)"
   ]
  },
  {
   "cell_type": "markdown",
   "id": "e3583c84-1d21-4745-b05b-5497c361870f",
   "metadata": {},
   "source": [
    "The data makes more sense this way. "
   ]
  },
  {
   "cell_type": "code",
   "execution_count": 344,
   "id": "ce2a2a83-60e6-4db0-9f85-e77053162204",
   "metadata": {},
   "outputs": [
    {
     "data": {
      "text/plain": [
       "-9.2"
      ]
     },
     "execution_count": 344,
     "metadata": {},
     "output_type": "execute_result"
    }
   ],
   "source": [
    "data[:3].min()"
   ]
  },
  {
   "cell_type": "markdown",
   "id": "57d5ea4c-66c1-4e8c-9d36-881753fa6895",
   "metadata": {},
   "source": [
    "NaNs, however, make some other calculations, for instance percentiles, disfunctional so we'd better drop these observations."
   ]
  },
  {
   "cell_type": "code",
   "execution_count": 346,
   "id": "305acbbc-b63f-43dc-b60b-3085a7dc78b7",
   "metadata": {},
   "outputs": [
    {
     "data": {
      "text/plain": [
       "(95694, 4)"
      ]
     },
     "execution_count": 346,
     "metadata": {},
     "output_type": "execute_result"
    }
   ],
   "source": [
    "data.shape"
   ]
  },
  {
   "cell_type": "code",
   "execution_count": 348,
   "id": "882f5221-2f51-4901-9c2b-4bc79e619371",
   "metadata": {},
   "outputs": [],
   "source": [
    "data = data[~ mask] # ~ stands for the complementing set (excluding the mask)"
   ]
  },
  {
   "cell_type": "code",
   "execution_count": 356,
   "id": "6efeb58c-311a-4fc8-a372-2a8b8fecfbf3",
   "metadata": {},
   "outputs": [
    {
     "data": {
      "text/plain": [
       "ModeResult(mode=0.9, count=565)"
      ]
     },
     "execution_count": 356,
     "metadata": {},
     "output_type": "execute_result"
    }
   ],
   "source": [
    "import scipy\n",
    "scipy.stats.mode(data[:, 3])"
   ]
  },
  {
   "cell_type": "code",
   "execution_count": 361,
   "id": "d3a376d5-cd3d-44b3-ba07-0baae9ef8133",
   "metadata": {},
   "outputs": [
    {
     "data": {
      "text/plain": [
       "(95687, 4)"
      ]
     },
     "execution_count": 361,
     "metadata": {},
     "output_type": "execute_result"
    }
   ],
   "source": [
    "data.shape"
   ]
  },
  {
   "cell_type": "markdown",
   "id": "3a89a84d-3a4a-40c6-b639-d326eb617813",
   "metadata": {
    "tags": []
   },
   "source": [
    "#### Excercise"
   ]
  },
  {
   "cell_type": "markdown",
   "id": "0c8a5f91-a01d-43c8-8c3d-3c0332679cb8",
   "metadata": {},
   "source": [
    "Iterate through the months, calculate and print out the number of the month, the first (D1) and the ninth decile (D9) of the temperatures for that particular  month."
   ]
  },
  {
   "cell_type": "markdown",
   "id": "736aa9d8-c4e8-4a99-888d-f958460ccf66",
   "metadata": {},
   "source": [
    "### copy and \"deep copy\""
   ]
  },
  {
   "cell_type": "markdown",
   "id": "6636a85a-6ec2-4ce3-96a9-a3a4febc2e27",
   "metadata": {},
   "source": [
    "To achieve high performance, assignments in Python usually do not copy the underlying objects. This is important, for example, when objects are passed between functions, to avoid an excessive amount of memory copying when it is not necessary (technical term: pass by reference). "
   ]
  },
  {
   "cell_type": "code",
   "execution_count": 365,
   "id": "04f5dc57-c9a5-48ad-8980-a6d5d1284e71",
   "metadata": {},
   "outputs": [
    {
     "data": {
      "text/plain": [
       "array([[1, 2],\n",
       "       [3, 4]])"
      ]
     },
     "execution_count": 365,
     "metadata": {},
     "output_type": "execute_result"
    }
   ],
   "source": [
    "A = np.array([[1, 2], [3, 4]])\n",
    "A"
   ]
  },
  {
   "cell_type": "code",
   "execution_count": 367,
   "id": "bc5f664d-0603-4fd4-93dd-d30f8d898383",
   "metadata": {},
   "outputs": [
    {
     "data": {
      "text/plain": [
       "array([[1, 2],\n",
       "       [3, 4]])"
      ]
     },
     "execution_count": 367,
     "metadata": {},
     "output_type": "execute_result"
    }
   ],
   "source": [
    "# now B is referring to the same array data as A \n",
    "B = A\n",
    "B"
   ]
  },
  {
   "cell_type": "code",
   "execution_count": 369,
   "id": "ec34513e-b4df-4c9b-9a31-038804381378",
   "metadata": {},
   "outputs": [
    {
     "data": {
      "text/plain": [
       "array([[10,  2],\n",
       "       [ 3,  4]])"
      ]
     },
     "execution_count": 369,
     "metadata": {},
     "output_type": "execute_result"
    }
   ],
   "source": [
    "# changing B affects A\n",
    "B[0,0] = 10\n",
    "B"
   ]
  },
  {
   "cell_type": "code",
   "execution_count": 371,
   "id": "86a6117e-51d6-4afd-b468-f1a9382368da",
   "metadata": {},
   "outputs": [
    {
     "data": {
      "text/plain": [
       "array([[10,  2],\n",
       "       [ 3,  4]])"
      ]
     },
     "execution_count": 371,
     "metadata": {},
     "output_type": "execute_result"
    }
   ],
   "source": [
    "A"
   ]
  },
  {
   "cell_type": "markdown",
   "id": "016f49d8-8856-426d-8d31-1042c22eabae",
   "metadata": {},
   "source": [
    "If we want to avoid this behavior, so that when we get a new completely independent object `B` copied from `A`, then we need to do a so-called **\"deep copy\"** using the function `copy`:"
   ]
  },
  {
   "cell_type": "code",
   "execution_count": 373,
   "id": "2b4389a2-7105-4168-b94f-112e7e6920ff",
   "metadata": {},
   "outputs": [],
   "source": [
    "B = np.copy(A)"
   ]
  },
  {
   "cell_type": "code",
   "execution_count": 375,
   "id": "318b6140-1e1c-443c-97f1-b4aea71e4969",
   "metadata": {},
   "outputs": [
    {
     "data": {
      "text/plain": [
       "array([[-5,  2],\n",
       "       [ 3,  4]])"
      ]
     },
     "execution_count": 375,
     "metadata": {},
     "output_type": "execute_result"
    }
   ],
   "source": [
    "# now, if we modify B, A is not affected\n",
    "B[0,0] = -5\n",
    "B"
   ]
  },
  {
   "cell_type": "code",
   "execution_count": 377,
   "id": "bb314b24-c443-4aca-87a2-2c8c8adff2c3",
   "metadata": {},
   "outputs": [
    {
     "data": {
      "text/plain": [
       "array([[10,  2],\n",
       "       [ 3,  4]])"
      ]
     },
     "execution_count": 377,
     "metadata": {},
     "output_type": "execute_result"
    }
   ],
   "source": [
    "A"
   ]
  },
  {
   "cell_type": "markdown",
   "id": "babc9e6a-199e-477e-9855-91458c26f326",
   "metadata": {},
   "source": [
    "### Applying a function to a numpy array"
   ]
  },
  {
   "cell_type": "code",
   "execution_count": 379,
   "id": "68cbb496-6596-4465-97d4-b6f86a36deab",
   "metadata": {},
   "outputs": [
    {
     "data": {
      "text/plain": [
       "array([-10,  -9,  -8,  -7,  -6,  -5,  -4,  -3,  -2,  -1,   0,   1,   2,\n",
       "         3,   4,   5,   6,   7,   8,   9])"
      ]
     },
     "execution_count": 379,
     "metadata": {},
     "output_type": "execute_result"
    }
   ],
   "source": [
    "theta = np.arange(-10, 10, 1)\n",
    "theta"
   ]
  },
  {
   "cell_type": "code",
   "execution_count": 381,
   "id": "eedbe238-51ec-4c20-b060-652d68f23e67",
   "metadata": {},
   "outputs": [
    {
     "data": {
      "text/plain": [
       "array([[-10,  -9,  -8,  -7],\n",
       "       [ -6,  -5,  -4,  -3],\n",
       "       [ -2,  -1,   0,   1],\n",
       "       [  2,   3,   4,   5],\n",
       "       [  6,   7,   8,   9]])"
      ]
     },
     "execution_count": 381,
     "metadata": {},
     "output_type": "execute_result"
    }
   ],
   "source": [
    "theta = theta.reshape(5,4)\n",
    "theta"
   ]
  },
  {
   "cell_type": "markdown",
   "id": "98b8b73b-462f-4bab-8ef9-64e8d4b4dbfb",
   "metadata": {},
   "source": [
    "When you apply an UDF, something weird happens."
   ]
  },
  {
   "cell_type": "code",
   "execution_count": 385,
   "id": "a59af282-203c-4717-8ac2-50bf420cd7d8",
   "metadata": {},
   "outputs": [
    {
     "ename": "ValueError",
     "evalue": "The truth value of an array with more than one element is ambiguous. Use a.any() or a.all()",
     "output_type": "error",
     "traceback": [
      "\u001b[1;31m---------------------------------------------------------------------------\u001b[0m",
      "\u001b[1;31mValueError\u001b[0m                                Traceback (most recent call last)",
      "Cell \u001b[1;32mIn[385], line 2\u001b[0m\n\u001b[0;32m      1\u001b[0m relu \u001b[38;5;241m=\u001b[39m \u001b[38;5;28;01mlambda\u001b[39;00m x: \u001b[38;5;241m0\u001b[39m \u001b[38;5;28;01mif\u001b[39;00m x \u001b[38;5;241m<\u001b[39m \u001b[38;5;241m0\u001b[39m \u001b[38;5;28;01melse\u001b[39;00m x\n\u001b[1;32m----> 2\u001b[0m relu(theta)\n",
      "Cell \u001b[1;32mIn[385], line 1\u001b[0m, in \u001b[0;36m<lambda>\u001b[1;34m(x)\u001b[0m\n\u001b[1;32m----> 1\u001b[0m relu \u001b[38;5;241m=\u001b[39m \u001b[38;5;28;01mlambda\u001b[39;00m x: \u001b[38;5;241m0\u001b[39m \u001b[38;5;28;01mif\u001b[39;00m x \u001b[38;5;241m<\u001b[39m \u001b[38;5;241m0\u001b[39m \u001b[38;5;28;01melse\u001b[39;00m x\n\u001b[0;32m      2\u001b[0m relu(theta)\n",
      "\u001b[1;31mValueError\u001b[0m: The truth value of an array with more than one element is ambiguous. Use a.any() or a.all()"
     ]
    }
   ],
   "source": [
    "relu = lambda x: 0 if x < 0 else x\n",
    "relu(theta)"
   ]
  },
  {
   "cell_type": "markdown",
   "id": "7ed4c762-506b-4b7b-9586-81e51e6a8439",
   "metadata": {},
   "source": [
    "You need to `vectorize` the function."
   ]
  },
  {
   "cell_type": "code",
   "execution_count": 387,
   "id": "a9a5690c-4618-4854-8e50-276838be98bd",
   "metadata": {},
   "outputs": [],
   "source": [
    "relu_v = np.vectorize(relu)"
   ]
  },
  {
   "cell_type": "code",
   "execution_count": 389,
   "id": "3e4760bb-ad12-487c-a4b5-3dfb4e7a9e24",
   "metadata": {},
   "outputs": [
    {
     "data": {
      "text/plain": [
       "array([[0, 0, 0, 0],\n",
       "       [0, 0, 0, 0],\n",
       "       [0, 0, 0, 1],\n",
       "       [2, 3, 4, 5],\n",
       "       [6, 7, 8, 9]])"
      ]
     },
     "execution_count": 389,
     "metadata": {},
     "output_type": "execute_result"
    }
   ],
   "source": [
    "relu_v(theta)"
   ]
  },
  {
   "cell_type": "markdown",
   "id": "392d2225-f0a6-4137-be83-ed5e85f6780c",
   "metadata": {},
   "source": [
    "## Linear algebra with Numpy"
   ]
  },
  {
   "cell_type": "markdown",
   "id": "155e6aaf-fb73-4789-8d2d-593eb259f5a1",
   "metadata": {},
   "source": [
    "It goes beyond this course to delve into matrix algebra but here's a short example. "
   ]
  },
  {
   "cell_type": "code",
   "execution_count": 391,
   "id": "32f0b3d1-b270-4916-9d48-67690503f303",
   "metadata": {},
   "outputs": [],
   "source": [
    "M = np.array([[1,2], [3,4]])\n",
    "v = np.arange(2)"
   ]
  },
  {
   "cell_type": "code",
   "execution_count": 393,
   "id": "a24e4aa7-8875-4467-a5cb-cd1fb37da28c",
   "metadata": {},
   "outputs": [
    {
     "data": {
      "text/plain": [
       "array([[1, 2],\n",
       "       [3, 4]])"
      ]
     },
     "execution_count": 393,
     "metadata": {},
     "output_type": "execute_result"
    }
   ],
   "source": [
    "M"
   ]
  },
  {
   "cell_type": "code",
   "execution_count": 395,
   "id": "361cc8fd-5cdb-4fb3-8efd-8c05b6cb1515",
   "metadata": {},
   "outputs": [
    {
     "name": "stdout",
     "output_type": "stream",
     "text": [
      "[[1 2]\n",
      " [3 4]]\n"
     ]
    }
   ],
   "source": [
    "print(M)"
   ]
  },
  {
   "cell_type": "code",
   "execution_count": 397,
   "id": "36e832e5-db70-464e-8a32-ecfd9d2e2690",
   "metadata": {},
   "outputs": [
    {
     "data": {
      "text/plain": [
       "array([0, 1])"
      ]
     },
     "execution_count": 397,
     "metadata": {},
     "output_type": "execute_result"
    }
   ],
   "source": [
    "v"
   ]
  },
  {
   "cell_type": "markdown",
   "id": "57bf7ee9-79d6-44e5-a069-a75b8392ceda",
   "metadata": {},
   "source": [
    "Define dot product as\n",
    "\n",
    "$$\n",
    "\\mathbf{v} \\in \\mathbb{R}^n, \\quad \\mathbf{M} \\in \\mathbb{R}^{n \\times n} \\implies \\mathbf{M} \\cdot \\mathbf{v} \\in \\mathbb{R}$$\n"
   ]
  },
  {
   "cell_type": "code",
   "execution_count": 399,
   "id": "3e47a40d-05b8-4672-bcc9-31838f025a0f",
   "metadata": {},
   "outputs": [
    {
     "data": {
      "text/plain": [
       "array([2, 4])"
      ]
     },
     "execution_count": 399,
     "metadata": {},
     "output_type": "execute_result"
    }
   ],
   "source": [
    "np.dot(M, v)"
   ]
  },
  {
   "cell_type": "markdown",
   "id": "b04438b8-226e-408a-8d43-651047f77b30",
   "metadata": {},
   "source": [
    "The other way around:\n",
    "\n",
    "$$\n",
    " \\mathbf{v} \\cdot \\mathbf{M} \\in \\mathbb{R}$$\n"
   ]
  },
  {
   "cell_type": "code",
   "execution_count": 401,
   "id": "50563968-3c9b-4f93-8bd3-453d5d631457",
   "metadata": {},
   "outputs": [
    {
     "data": {
      "text/plain": [
       "array([3, 4])"
      ]
     },
     "execution_count": 401,
     "metadata": {},
     "output_type": "execute_result"
    }
   ],
   "source": [
    "np.dot(v, M)"
   ]
  },
  {
   "cell_type": "code",
   "execution_count": 403,
   "id": "17d233da-a148-45c9-a6a6-331a047fe807",
   "metadata": {},
   "outputs": [],
   "source": [
    "v = np.arange(0, 5)"
   ]
  },
  {
   "cell_type": "code",
   "execution_count": 405,
   "id": "ba0ea77c-5033-4f0c-990a-815f1a78af22",
   "metadata": {},
   "outputs": [
    {
     "data": {
      "text/plain": [
       "array([0, 1, 2, 3, 4])"
      ]
     },
     "execution_count": 405,
     "metadata": {},
     "output_type": "execute_result"
    }
   ],
   "source": [
    "v"
   ]
  },
  {
   "cell_type": "code",
   "execution_count": 407,
   "id": "e4d74d7b-f4fd-4b74-8b87-b3b8e0cf4ad1",
   "metadata": {},
   "outputs": [
    {
     "data": {
      "text/plain": [
       "30"
      ]
     },
     "execution_count": 407,
     "metadata": {},
     "output_type": "execute_result"
    }
   ],
   "source": [
    "np.dot(v, v) # what does the dot product of a vector equal to? - sum of the squares"
   ]
  },
  {
   "cell_type": "markdown",
   "id": "5fb384d2-3ee1-4924-b17c-8bdabdcafd3b",
   "metadata": {},
   "source": [
    "Inverting a matrix"
   ]
  },
  {
   "cell_type": "code",
   "execution_count": 409,
   "id": "45e8aa94-1fad-4cd1-82c9-e2cc8f692818",
   "metadata": {},
   "outputs": [],
   "source": [
    "from numpy.linalg import inv"
   ]
  },
  {
   "cell_type": "code",
   "execution_count": 411,
   "id": "0627a967-a8f6-49e9-823d-1e12b630a28e",
   "metadata": {},
   "outputs": [
    {
     "data": {
      "text/plain": [
       "array([[-2. ,  1. ],\n",
       "       [ 1.5, -0.5]])"
      ]
     },
     "execution_count": 411,
     "metadata": {},
     "output_type": "execute_result"
    }
   ],
   "source": [
    "inv(M)"
   ]
  },
  {
   "cell_type": "code",
   "execution_count": 413,
   "id": "b215fa91-1e33-4292-8869-9ffd90a9c6ce",
   "metadata": {},
   "outputs": [],
   "source": [
    "np_singular = np.array([[1,2], [2,4]])"
   ]
  },
  {
   "cell_type": "code",
   "execution_count": 415,
   "id": "497f10e4-7219-4845-a807-a3ae8aaeeaa6",
   "metadata": {},
   "outputs": [
    {
     "data": {
      "text/plain": [
       "array([[1, 2],\n",
       "       [2, 4]])"
      ]
     },
     "execution_count": 415,
     "metadata": {},
     "output_type": "execute_result"
    }
   ],
   "source": [
    "np_singular"
   ]
  },
  {
   "cell_type": "code",
   "execution_count": 417,
   "id": "5f104087-4e1a-485e-aea3-3dc4165ad3f3",
   "metadata": {},
   "outputs": [
    {
     "ename": "LinAlgError",
     "evalue": "Singular matrix",
     "output_type": "error",
     "traceback": [
      "\u001b[1;31m---------------------------------------------------------------------------\u001b[0m",
      "\u001b[1;31mLinAlgError\u001b[0m                               Traceback (most recent call last)",
      "Cell \u001b[1;32mIn[417], line 1\u001b[0m\n\u001b[1;32m----> 1\u001b[0m inv(np_singular)\n",
      "File \u001b[1;32m~\\anaconda3\\envs\\dataanalysis_py312\\Lib\\site-packages\\numpy\\linalg\\linalg.py:561\u001b[0m, in \u001b[0;36minv\u001b[1;34m(a)\u001b[0m\n\u001b[0;32m    559\u001b[0m signature \u001b[38;5;241m=\u001b[39m \u001b[38;5;124m'\u001b[39m\u001b[38;5;124mD->D\u001b[39m\u001b[38;5;124m'\u001b[39m \u001b[38;5;28;01mif\u001b[39;00m isComplexType(t) \u001b[38;5;28;01melse\u001b[39;00m \u001b[38;5;124m'\u001b[39m\u001b[38;5;124md->d\u001b[39m\u001b[38;5;124m'\u001b[39m\n\u001b[0;32m    560\u001b[0m extobj \u001b[38;5;241m=\u001b[39m get_linalg_error_extobj(_raise_linalgerror_singular)\n\u001b[1;32m--> 561\u001b[0m ainv \u001b[38;5;241m=\u001b[39m _umath_linalg\u001b[38;5;241m.\u001b[39minv(a, signature\u001b[38;5;241m=\u001b[39msignature, extobj\u001b[38;5;241m=\u001b[39mextobj)\n\u001b[0;32m    562\u001b[0m \u001b[38;5;28;01mreturn\u001b[39;00m wrap(ainv\u001b[38;5;241m.\u001b[39mastype(result_t, copy\u001b[38;5;241m=\u001b[39m\u001b[38;5;28;01mFalse\u001b[39;00m))\n",
      "File \u001b[1;32m~\\anaconda3\\envs\\dataanalysis_py312\\Lib\\site-packages\\numpy\\linalg\\linalg.py:112\u001b[0m, in \u001b[0;36m_raise_linalgerror_singular\u001b[1;34m(err, flag)\u001b[0m\n\u001b[0;32m    111\u001b[0m \u001b[38;5;28;01mdef\u001b[39;00m \u001b[38;5;21m_raise_linalgerror_singular\u001b[39m(err, flag):\n\u001b[1;32m--> 112\u001b[0m     \u001b[38;5;28;01mraise\u001b[39;00m LinAlgError(\u001b[38;5;124m\"\u001b[39m\u001b[38;5;124mSingular matrix\u001b[39m\u001b[38;5;124m\"\u001b[39m)\n",
      "\u001b[1;31mLinAlgError\u001b[0m: Singular matrix"
     ]
    }
   ],
   "source": [
    "inv(np_singular)"
   ]
  },
  {
   "cell_type": "markdown",
   "id": "32ff2693-a801-40a0-8262-1f1e4005e15b",
   "metadata": {},
   "source": [
    "<br> \n",
    " \n",
    "## Extra: Processing logs with Python"
   ]
  },
  {
   "cell_type": "markdown",
   "id": "c92cbe5c-56d9-4ef2-b8eb-cfa07ea16a23",
   "metadata": {},
   "source": [
    "### A side note: regex"
   ]
  },
  {
   "cell_type": "markdown",
   "id": "c81484d6-382c-4298-940e-62563a039011",
   "metadata": {},
   "source": [
    "**Regular expressions** allow you to specify a pattern of text to search for. Also called *regexes* for short, are descriptions for a pattern of text. For example, a \\d in a regex stands for a digit character—that is, any single numeral from 0 to 9. "
   ]
  },
  {
   "cell_type": "code",
   "execution_count": null,
   "id": "23f4d32f-141f-4d9c-84d2-277de9a565b6",
   "metadata": {},
   "outputs": [],
   "source": [
    "import re"
   ]
  },
  {
   "cell_type": "code",
   "execution_count": null,
   "id": "fc7a4984-e754-4b79-b163-126a2bfb6ba0",
   "metadata": {},
   "outputs": [],
   "source": [
    "phoneNumRegex = re.compile(r'\\d\\d\\d-\\d\\d\\d-\\d\\d\\d\\d')"
   ]
  },
  {
   "cell_type": "code",
   "execution_count": null,
   "id": "bcb1ba97-71a3-42bf-845a-af8ed35c4529",
   "metadata": {},
   "outputs": [],
   "source": [
    "mo = phoneNumRegex.search('My number is 415-555-4242.')\n",
    "print(mo.group())"
   ]
  },
  {
   "cell_type": "markdown",
   "id": "88af80a0-556e-4424-aba5-da205cbe42e0",
   "metadata": {},
   "source": [
    "Regex is \n",
    "- very complicated\n",
    "- relatively slow\n",
    "- can be used to various completely unstructured text.\n",
    "\n",
    "A quick intro to regex with examples is here [http://automatetheboringstuff.com/2e/chapter7/](http://automatetheboringstuff.com/2e/chapter7/)"
   ]
  },
  {
   "cell_type": "markdown",
   "id": "f109f030-1171-4eb7-9e17-5974df0a8539",
   "metadata": {},
   "source": [
    "### Semi-structured text"
   ]
  },
  {
   "cell_type": "markdown",
   "id": "afbd9259-52b0-4800-bb7f-2ec639bef7d4",
   "metadata": {},
   "source": [
    "Logs are usually text messages with a limited set of row/sentence *schema*. This schema helps us process text in a way which is \n",
    "- relatively simple\n",
    "- fast\n",
    "- but only works with texts of known structures."
   ]
  },
  {
   "cell_type": "markdown",
   "id": "9337e8d7-4a53-498b-8352-5f45a82ee9d2",
   "metadata": {},
   "source": [
    "**Task: find the hosts related to  authentication failures.**"
   ]
  },
  {
   "cell_type": "code",
   "execution_count": 29,
   "id": "fda5a088-5245-48be-8d0f-d1919917ef17",
   "metadata": {},
   "outputs": [],
   "source": [
    "with open('Linux_2k.log', 'r') as f:\n",
    "    logtext = f.read()"
   ]
  },
  {
   "cell_type": "code",
   "execution_count": 31,
   "id": "f67319b9-3ba6-4963-869e-f0621b008292",
   "metadata": {},
   "outputs": [
    {
     "data": {
      "text/plain": [
       "'Jun 14 15:16:01 combo sshd(pam_unix)[19939]: authentication failure; logname= uid=0 euid=0 tty=NODEVssh ruser= rhost=218.188.2.4 \\nJun 14 15:16:02 combo sshd(pam_unix)[19937]: check pass; user unknown\\nJun 14 15:16:02 combo sshd(pam_unix)[19937]: authentication failure; logname= uid=0 euid=0 tty=NODEVssh ruser= rhost=218.188.2.4 \\nJun 15 02:04:59 combo sshd(pam_unix)[20882]: authentication failure; logname= uid=0 euid=0 tty=NODEVssh ruser= rhost=220-135-151-1.hinet-ip.hinet.net  user=root\\nJun 15 02'"
      ]
     },
     "execution_count": 31,
     "metadata": {},
     "output_type": "execute_result"
    }
   ],
   "source": [
    "logtext[:500]"
   ]
  },
  {
   "cell_type": "code",
   "execution_count": 33,
   "id": "8aa6447e-4517-4ff1-8ca4-e252db261673",
   "metadata": {},
   "outputs": [
    {
     "data": {
      "text/plain": [
       "['Jun 14 15:16:01 combo sshd(pam_unix)[19939]: authentication failure; logname= uid=0 euid=0 tty=NODEVssh ruser= rhost=218.188.2.4 ',\n",
       " 'Jun 14 15:16:02 combo sshd(pam_unix)[19937]: check pass; user unknown',\n",
       " 'Jun 14 15:16:02 combo sshd(pam_unix)[19937]: authentication failure; logname= uid=0 euid=0 tty=NODEVssh ruser= rhost=218.188.2.4 ',\n",
       " 'Jun 15 02:04:59 combo sshd(pam_unix)[20882]: authentication failure; logname= uid=0 euid=0 tty=NODEVssh ruser= rhost=220-135-151-1.hinet-ip.hinet.net  user=root',\n",
       " 'Jun 15 02:04:59 combo sshd(pam_unix)[20884]: authentication failure; logname= uid=0 euid=0 tty=NODEVssh ruser= rhost=220-135-151-1.hinet-ip.hinet.net  user=root',\n",
       " 'Jun 15 02:04:59 combo sshd(pam_unix)[20883]: authentication failure; logname= uid=0 euid=0 tty=NODEVssh ruser= rhost=220-135-151-1.hinet-ip.hinet.net  user=root',\n",
       " 'Jun 15 02:04:59 combo sshd(pam_unix)[20885]: authentication failure; logname= uid=0 euid=0 tty=NODEVssh ruser= rhost=220-135-151-1.hinet-ip.hinet.net  user=root',\n",
       " 'Jun 15 02:04:59 combo sshd(pam_unix)[20886]: authentication failure; logname= uid=0 euid=0 tty=NODEVssh ruser= rhost=220-135-151-1.hinet-ip.hinet.net  user=root',\n",
       " 'Jun 15 02:04:59 combo sshd(pam_unix)[20892]: authentication failure; logname= uid=0 euid=0 tty=NODEVssh ruser= rhost=220-135-151-1.hinet-ip.hinet.net  user=root',\n",
       " 'Jun 15 02:04:59 combo sshd(pam_unix)[20893]: authentication failure; logname= uid=0 euid=0 tty=NODEVssh ruser= rhost=220-135-151-1.hinet-ip.hinet.net  user=root']"
      ]
     },
     "execution_count": 33,
     "metadata": {},
     "output_type": "execute_result"
    }
   ],
   "source": [
    "logtext.split('\\n')[0:10]"
   ]
  },
  {
   "cell_type": "code",
   "execution_count": 35,
   "id": "defa44bb-a07e-4f8e-87d1-dd65955d1477",
   "metadata": {},
   "outputs": [
    {
     "data": {
      "text/plain": [
       "214486"
      ]
     },
     "execution_count": 35,
     "metadata": {},
     "output_type": "execute_result"
    }
   ],
   "source": [
    "len(logtext)"
   ]
  },
  {
   "cell_type": "code",
   "execution_count": 37,
   "id": "d8028ee8-cc22-4a68-94b8-0124f221793f",
   "metadata": {},
   "outputs": [
    {
     "name": "stdout",
     "output_type": "stream",
     "text": [
      "['Jun', '14', '15:16:01', 'combo', 'sshd(pam_unix)[19939]:', 'authentication', 'failure;', 'logname=', 'uid=0', 'euid=0', 'tty=NODEVssh', 'ruser=', 'rhost=218.188.2.4']\n",
      "['Jun', '14', '15:16:02', 'combo', 'sshd(pam_unix)[19937]:', 'authentication', 'failure;', 'logname=', 'uid=0', 'euid=0', 'tty=NODEVssh', 'ruser=', 'rhost=218.188.2.4']\n",
      "['Jun', '15', '02:04:59', 'combo', 'sshd(pam_unix)[20882]:', 'authentication', 'failure;', 'logname=', 'uid=0', 'euid=0', 'tty=NODEVssh', 'ruser=', 'rhost=220-135-151-1.hinet-ip.hinet.net', 'user=root']\n",
      "['Jun', '15', '02:04:59', 'combo', 'sshd(pam_unix)[20884]:', 'authentication', 'failure;', 'logname=', 'uid=0', 'euid=0', 'tty=NODEVssh', 'ruser=', 'rhost=220-135-151-1.hinet-ip.hinet.net', 'user=root']\n",
      "['Jun', '15', '02:04:59', 'combo', 'sshd(pam_unix)[20883]:', 'authentication', 'failure;', 'logname=', 'uid=0', 'euid=0', 'tty=NODEVssh', 'ruser=', 'rhost=220-135-151-1.hinet-ip.hinet.net', 'user=root']\n",
      "['Jun', '15', '02:04:59', 'combo', 'sshd(pam_unix)[20885]:', 'authentication', 'failure;', 'logname=', 'uid=0', 'euid=0', 'tty=NODEVssh', 'ruser=', 'rhost=220-135-151-1.hinet-ip.hinet.net', 'user=root']\n",
      "['Jun', '15', '02:04:59', 'combo', 'sshd(pam_unix)[20886]:', 'authentication', 'failure;', 'logname=', 'uid=0', 'euid=0', 'tty=NODEVssh', 'ruser=', 'rhost=220-135-151-1.hinet-ip.hinet.net', 'user=root']\n",
      "['Jun', '15', '02:04:59', 'combo', 'sshd(pam_unix)[20892]:', 'authentication', 'failure;', 'logname=', 'uid=0', 'euid=0', 'tty=NODEVssh', 'ruser=', 'rhost=220-135-151-1.hinet-ip.hinet.net', 'user=root']\n",
      "['Jun', '15', '02:04:59', 'combo', 'sshd(pam_unix)[20893]:', 'authentication', 'failure;', 'logname=', 'uid=0', 'euid=0', 'tty=NODEVssh', 'ruser=', 'rhost=220-135-151-1.hinet-ip.hinet.net', 'user=root']\n"
     ]
    }
   ],
   "source": [
    "for line in logtext.split('\\n')[0:10]:\n",
    "    if 'authentication failure' in line:\n",
    "        print(line.split())"
   ]
  },
  {
   "cell_type": "code",
   "execution_count": null,
   "id": "ac8a9fd2-cfa2-4b9b-b6ba-d0e663fabd1a",
   "metadata": {},
   "outputs": [],
   "source": [
    "for line in logtext.split('\\n')[0:10]:\n",
    "    if 'authentication failure' in line:\n",
    "        print(len(line.split(' ')))"
   ]
  },
  {
   "cell_type": "code",
   "execution_count": 39,
   "id": "c09ac226-3ac6-4ec0-86a2-921cec1ff367",
   "metadata": {},
   "outputs": [
    {
     "name": "stdout",
     "output_type": "stream",
     "text": [
      "['Jun 14 15:16:01 combo sshd(pam_unix)[19939]: authentication failure; logname= uid=0 euid=0 tty=NODEVssh ruser= ', '218.188.2.4 ']\n",
      "['Jun 14 15:16:02 combo sshd(pam_unix)[19937]: authentication failure; logname= uid=0 euid=0 tty=NODEVssh ruser= ', '218.188.2.4 ']\n",
      "['Jun 15 02:04:59 combo sshd(pam_unix)[20882]: authentication failure; logname= uid=0 euid=0 tty=NODEVssh ruser= ', '220-135-151-1.hinet-ip.hinet.net  user=root']\n",
      "['Jun 15 02:04:59 combo sshd(pam_unix)[20884]: authentication failure; logname= uid=0 euid=0 tty=NODEVssh ruser= ', '220-135-151-1.hinet-ip.hinet.net  user=root']\n",
      "['Jun 15 02:04:59 combo sshd(pam_unix)[20883]: authentication failure; logname= uid=0 euid=0 tty=NODEVssh ruser= ', '220-135-151-1.hinet-ip.hinet.net  user=root']\n",
      "['Jun 15 02:04:59 combo sshd(pam_unix)[20885]: authentication failure; logname= uid=0 euid=0 tty=NODEVssh ruser= ', '220-135-151-1.hinet-ip.hinet.net  user=root']\n",
      "['Jun 15 02:04:59 combo sshd(pam_unix)[20886]: authentication failure; logname= uid=0 euid=0 tty=NODEVssh ruser= ', '220-135-151-1.hinet-ip.hinet.net  user=root']\n",
      "['Jun 15 02:04:59 combo sshd(pam_unix)[20892]: authentication failure; logname= uid=0 euid=0 tty=NODEVssh ruser= ', '220-135-151-1.hinet-ip.hinet.net  user=root']\n",
      "['Jun 15 02:04:59 combo sshd(pam_unix)[20893]: authentication failure; logname= uid=0 euid=0 tty=NODEVssh ruser= ', '220-135-151-1.hinet-ip.hinet.net  user=root']\n"
     ]
    }
   ],
   "source": [
    "for line in logtext.split('\\n')[0:10]:\n",
    "    if 'authentication failure' in line:\n",
    "        print(line.split('rhost='))"
   ]
  },
  {
   "cell_type": "code",
   "execution_count": 41,
   "id": "e1b6d416-40cd-4e97-bd1d-9bfbf331ce0a",
   "metadata": {},
   "outputs": [
    {
     "name": "stdout",
     "output_type": "stream",
     "text": [
      "218.188.2.4\n",
      "218.188.2.4\n",
      "220-135-151-1.hinet-ip.hinet.net\n",
      "220-135-151-1.hinet-ip.hinet.net\n",
      "220-135-151-1.hinet-ip.hinet.net\n",
      "220-135-151-1.hinet-ip.hinet.net\n",
      "220-135-151-1.hinet-ip.hinet.net\n",
      "220-135-151-1.hinet-ip.hinet.net\n",
      "220-135-151-1.hinet-ip.hinet.net\n"
     ]
    }
   ],
   "source": [
    "for line in logtext.split('\\n')[0:10]:\n",
    "    if 'authentication failure' in line:\n",
    "        print(line.split('rhost=')[1].split()[0])"
   ]
  },
  {
   "cell_type": "markdown",
   "id": "54ac91bc-88ec-486c-a400-44c55fbc67a3",
   "metadata": {},
   "source": [
    "### Excercise\n",
    "- Find logs with 'authentication failure'\n",
    "- Collect the 'rhost' values (host addressses) as list them together with the appropriate month, day, and hour values in the following was: each row should look like:   \n",
    "      - month day hour host_address"
   ]
  },
  {
   "cell_type": "markdown",
   "id": "b9deb13f-6dd5-4a65-8ea1-2f763a031c42",
   "metadata": {},
   "source": [
    "Many more on the numpy homepage [https://numpy.org/](https://numpy.org/)"
   ]
  },
  {
   "cell_type": "markdown",
   "id": "64728752-abc7-450d-8179-5fc21993c3da",
   "metadata": {},
   "source": [
    "<details><summary><b>Click here for the solution</b></summary>\n",
    "    \n",
    "```python\n",
    "with open('Linux_2k.log', 'r') as f:\n",
    "    for line in f:\n",
    "        if 'authentication failure' in line:\n",
    "            line = \" \".join(line.split()) # get rid of all (including double) whitespaces and link each element with a single whitespace\n",
    "            month = line.split(' ')[0]\n",
    "            day = line.split(' ')[1]\n",
    "            hour = line.split(' ')[2].split(':')[0]\n",
    "            host = line.split('rhost=')[1].split(' ')[0]\n",
    "            print(month, day, hour, host)\n",
    "```\n",
    "\n",
    "</details>"
   ]
  },
  {
   "cell_type": "code",
   "execution_count": 44,
   "id": "1bbfe5d6-178d-448d-abd8-21258e647e09",
   "metadata": {},
   "outputs": [
    {
     "name": "stdout",
     "output_type": "stream",
     "text": [
      "Jun 14 15 218.188.2.4\n",
      "Jun 14 15 218.188.2.4\n",
      "Jun 15 02 220-135-151-1.hinet-ip.hinet.net\n",
      "Jun 15 02 220-135-151-1.hinet-ip.hinet.net\n",
      "Jun 15 02 220-135-151-1.hinet-ip.hinet.net\n",
      "Jun 15 02 220-135-151-1.hinet-ip.hinet.net\n",
      "Jun 15 02 220-135-151-1.hinet-ip.hinet.net\n",
      "Jun 15 02 220-135-151-1.hinet-ip.hinet.net\n",
      "Jun 15 02 220-135-151-1.hinet-ip.hinet.net\n",
      "Jun 15 02 220-135-151-1.hinet-ip.hinet.net\n",
      "Jun 15 02 220-135-151-1.hinet-ip.hinet.net\n",
      "Jun 15 02 220-135-151-1.hinet-ip.hinet.net\n",
      "Jun 15 12 218.188.2.4\n",
      "Jun 15 12 218.188.2.4\n",
      "Jun 15 12 218.188.2.4\n",
      "Jun 15 12 218.188.2.4\n",
      "Jun 15 12 218.188.2.4\n",
      "Jun 15 12 218.188.2.4\n",
      "Jun 15 12 218.188.2.4\n",
      "Jun 15 12 218.188.2.4\n",
      "Jun 15 12 218.188.2.4\n",
      "Jun 15 12 218.188.2.4\n",
      "Jun 15 12 218.188.2.4\n",
      "Jun 15 12 218.188.2.4\n",
      "Jun 15 14 061092085098.ctinets.com\n",
      "Jun 15 14 061092085098.ctinets.com\n",
      "Jun 15 14 061092085098.ctinets.com\n",
      "Jun 15 14 061092085098.ctinets.com\n",
      "Jun 15 14 061092085098.ctinets.com\n",
      "Jun 15 14 061092085098.ctinets.com\n",
      "Jun 15 14 061092085098.ctinets.com\n",
      "Jun 15 14 061092085098.ctinets.com\n",
      "Jun 15 14 061092085098.ctinets.com\n",
      "Jun 15 14 061092085098.ctinets.com\n",
      "Jun 15 20 d211-116-254-214.rev.krline.net\n",
      "Jun 15 20 d211-116-254-214.rev.krline.net\n",
      "Jun 15 20 d211-116-254-214.rev.krline.net\n",
      "Jun 15 20 d211-116-254-214.rev.krline.net\n",
      "Jun 15 20 d211-116-254-214.rev.krline.net\n",
      "Jun 17 19 211.46.224.253\n",
      "Jun 18 01 adsl-70-242-75-179.dsl.ksc2mo.swbell.net\n",
      "Jun 18 01 adsl-70-242-75-179.dsl.ksc2mo.swbell.net\n",
      "Jun 18 01 adsl-70-242-75-179.dsl.ksc2mo.swbell.net\n",
      "Jun 18 01 adsl-70-242-75-179.dsl.ksc2mo.swbell.net\n",
      "Jun 18 01 adsl-70-242-75-179.dsl.ksc2mo.swbell.net\n",
      "Jun 18 01 adsl-70-242-75-179.dsl.ksc2mo.swbell.net\n",
      "Jun 18 01 adsl-70-242-75-179.dsl.ksc2mo.swbell.net\n",
      "Jun 18 01 adsl-70-242-75-179.dsl.ksc2mo.swbell.net\n",
      "Jun 18 01 adsl-70-242-75-179.dsl.ksc2mo.swbell.net\n",
      "Jun 18 01 adsl-70-242-75-179.dsl.ksc2mo.swbell.net\n",
      "Jun 20 09 65.166.159.14\n",
      "Jun 20 09 65.166.159.14\n",
      "Jun 20 09 65.166.159.14\n",
      "Jun 20 09 65.166.159.14\n",
      "Jun 20 09 65.166.159.14\n",
      "Jun 20 09 65.166.159.14\n",
      "Jun 20 09 65.166.159.14\n",
      "Jun 20 09 65.166.159.14\n",
      "Jun 20 09 65.166.159.14\n",
      "Jun 20 09 65.166.159.14\n",
      "Jun 21 08 217.60.212.66\n",
      "Jun 21 08 217.60.212.66\n",
      "Jun 21 08 217.60.212.66\n",
      "Jun 21 08 217.60.212.66\n",
      "Jun 21 08 217.60.212.66\n",
      "Jun 21 08 217.60.212.66\n",
      "Jun 22 03 n219076184117.netvigator.com\n",
      "Jun 22 03 n219076184117.netvigator.com\n",
      "Jun 22 03 n219076184117.netvigator.com\n",
      "Jun 22 03 n219076184117.netvigator.com\n",
      "Jun 22 03 n219076184117.netvigator.com\n",
      "Jun 22 03 n219076184117.netvigator.com\n",
      "Jun 22 03 n219076184117.netvigator.com\n",
      "Jun 22 03 n219076184117.netvigator.com\n",
      "Jun 22 03 n219076184117.netvigator.com\n",
      "Jun 22 03 n219076184117.netvigator.com\n",
      "Jun 22 03 n219076184117.netvigator.com\n",
      "Jun 22 03 n219076184117.netvigator.com\n",
      "Jun 22 03 n219076184117.netvigator.com\n",
      "Jun 22 03 n219076184117.netvigator.com\n",
      "Jun 22 03 n219076184117.netvigator.com\n",
      "Jun 22 03 n219076184117.netvigator.com\n",
      "Jun 22 03 n219076184117.netvigator.com\n",
      "Jun 22 03 n219076184117.netvigator.com\n",
      "Jun 22 03 n219076184117.netvigator.com\n",
      "Jun 22 03 n219076184117.netvigator.com\n",
      "Jun 22 03 n219076184117.netvigator.com\n",
      "Jun 22 03 n219076184117.netvigator.com\n",
      "Jun 22 03 n219076184117.netvigator.com\n",
      "Jun 22 04 ip-216-69-169-168.ip.secureserver.net\n",
      "Jun 22 04 ip-216-69-169-168.ip.secureserver.net\n",
      "Jun 22 04 ip-216-69-169-168.ip.secureserver.net\n",
      "Jun 22 04 ip-216-69-169-168.ip.secureserver.net\n",
      "Jun 22 04 ip-216-69-169-168.ip.secureserver.net\n",
      "Jun 22 04 ip-216-69-169-168.ip.secureserver.net\n",
      "Jun 22 04 ip-216-69-169-168.ip.secureserver.net\n",
      "Jun 22 04 ip-216-69-169-168.ip.secureserver.net\n",
      "Jun 22 04 ip-216-69-169-168.ip.secureserver.net\n",
      "Jun 22 04 ip-216-69-169-168.ip.secureserver.net\n",
      "Jun 23 01 209.152.168.249\n",
      "Jun 23 01 209.152.168.249\n",
      "Jun 23 01 209.152.168.249\n",
      "Jun 23 01 209.152.168.249\n",
      "Jun 23 01 209.152.168.249\n",
      "Jun 23 01 209.152.168.249\n",
      "Jun 23 01 209.152.168.249\n",
      "Jun 23 01 209.152.168.249\n",
      "Jun 23 01 209.152.168.249\n",
      "Jun 23 01 209.152.168.249\n",
      "Jun 23 02 200.60.37.201\n",
      "Jun 23 23 218.22.3.51\n",
      "Jun 23 23 218.22.3.51\n",
      "Jun 23 23 218.22.3.51\n",
      "Jun 23 23 218.22.3.51\n",
      "Jun 23 23 218.22.3.51\n",
      "Jun 23 23 218.22.3.51\n",
      "Jun 23 23 218.22.3.51\n",
      "Jun 23 23 218.22.3.51\n",
      "Jun 23 23 218.22.3.51\n",
      "Jun 25 04 massive.merukuru.org\n",
      "Jun 25 04 massive.merukuru.org\n",
      "Jun 25 04 massive.merukuru.org\n",
      "Jun 25 04 massive.merukuru.org\n",
      "Jun 25 04 massive.merukuru.org\n",
      "Jun 25 04 massive.merukuru.org\n",
      "Jun 25 04 massive.merukuru.org\n",
      "Jun 25 04 massive.merukuru.org\n",
      "Jun 25 04 massive.merukuru.org\n",
      "Jun 25 04 massive.merukuru.org\n",
      "Jun 27 08 troi.bluesky-technologies.com\n",
      "Jun 27 08 troi.bluesky-technologies.com\n",
      "Jun 27 08 troi.bluesky-technologies.com\n",
      "Jun 27 08 troi.bluesky-technologies.com\n",
      "Jun 27 08 troi.bluesky-technologies.com\n",
      "Jun 28 08 61.53.154.93\n",
      "Jun 28 08 61.53.154.93\n",
      "Jun 28 08 61.53.154.93\n",
      "Jun 28 08 61.53.154.93\n",
      "Jun 28 08 61.53.154.93\n",
      "Jun 28 08 61.53.154.93\n",
      "Jun 28 08 61.53.154.93\n",
      "Jun 28 08 61.53.154.93\n",
      "Jun 28 08 61.53.154.93\n",
      "Jun 28 20 62-192-102-94.dsl.easynet.nl\n",
      "Jun 28 20 62-192-102-94.dsl.easynet.nl\n",
      "Jun 28 20 62-192-102-94.dsl.easynet.nl\n",
      "Jun 28 20 62-192-102-94.dsl.easynet.nl\n",
      "Jun 28 20 62-192-102-94.dsl.easynet.nl\n",
      "Jun 28 20 62-192-102-94.dsl.easynet.nl\n",
      "Jun 28 20 62-192-102-94.dsl.easynet.nl\n",
      "Jun 28 20 62-192-102-94.dsl.easynet.nl\n",
      "Jun 28 20 62-192-102-94.dsl.easynet.nl\n",
      "Jun 28 20 62-192-102-94.dsl.easynet.nl\n",
      "Jun 28 21 211.115.206.155\n",
      "Jun 28 21 211.115.206.155\n",
      "Jun 28 21 211.115.206.155\n",
      "Jun 28 21 211.115.206.155\n",
      "Jun 28 21 211.115.206.155\n",
      "Jun 29 10 csnsu.nsuok.edu\n",
      "Jun 29 10 csnsu.nsuok.edu\n",
      "Jun 29 10 csnsu.nsuok.edu\n",
      "Jun 29 10 csnsu.nsuok.edu\n",
      "Jun 29 10 csnsu.nsuok.edu\n",
      "Jun 29 10 csnsu.nsuok.edu\n",
      "Jun 29 10 csnsu.nsuok.edu\n",
      "Jun 29 10 csnsu.nsuok.edu\n",
      "Jun 29 10 csnsu.nsuok.edu\n",
      "Jun 29 10 csnsu.nsuok.edu\n",
      "Jun 29 12 h64-187-1-131.gtconnect.net\n",
      "Jun 29 12 h64-187-1-131.gtconnect.net\n",
      "Jun 29 12 h64-187-1-131.gtconnect.net\n",
      "Jun 29 12 h64-187-1-131.gtconnect.net\n",
      "Jun 29 12 h64-187-1-131.gtconnect.net\n",
      "Jun 29 12 h64-187-1-131.gtconnect.net\n",
      "Jun 29 12 h64-187-1-131.gtconnect.net\n",
      "Jun 29 12 h64-187-1-131.gtconnect.net\n",
      "Jun 29 12 h64-187-1-131.gtconnect.net\n",
      "Jun 29 12 h64-187-1-131.gtconnect.net\n",
      "Jun 29 12 h64-187-1-131.gtconnect.net\n",
      "Jun 29 12 h64-187-1-131.gtconnect.net\n",
      "Jun 29 12 h64-187-1-131.gtconnect.net\n",
      "Jun 30 12 biblioteka.wsi.edu.pl\n",
      "Jun 30 12 biblioteka.wsi.edu.pl\n",
      "Jun 30 12 biblioteka.wsi.edu.pl\n",
      "Jun 30 12 biblioteka.wsi.edu.pl\n",
      "Jun 30 12 biblioteka.wsi.edu.pl\n",
      "Jun 30 12 biblioteka.wsi.edu.pl\n",
      "Jun 30 12 biblioteka.wsi.edu.pl\n",
      "Jun 30 12 biblioteka.wsi.edu.pl\n",
      "Jun 30 19 60.30.224.116\n",
      "Jun 30 19 60.30.224.116\n",
      "Jun 30 19 60.30.224.116\n",
      "Jun 30 19 60.30.224.116\n",
      "Jun 30 19 60.30.224.116\n",
      "Jun 30 19 60.30.224.116\n",
      "Jun 30 19 60.30.224.116\n",
      "Jun 30 19 60.30.224.116\n",
      "Jun 30 19 60.30.224.116\n",
      "Jun 30 19 60.30.224.116\n",
      "Jun 30 20 195.129.24.210\n",
      "Jun 30 20 195.129.24.210\n",
      "Jun 30 20 195.129.24.210\n",
      "Jun 30 20 195.129.24.210\n",
      "Jun 30 20 195.129.24.210\n",
      "Jul 1 00 60.30.224.116\n",
      "Jul 1 00 60.30.224.116\n",
      "Jul 1 00 60.30.224.116\n",
      "Jul 1 00 60.30.224.116\n",
      "Jul 1 00 60.30.224.116\n",
      "Jul 1 00 60.30.224.116\n",
      "Jul 1 00 60.30.224.116\n",
      "Jul 1 00 60.30.224.116\n",
      "Jul 1 00 60.30.224.116\n",
      "Jul 1 00 60.30.224.116\n",
      "Jul 1 10 195.129.24.210\n",
      "Jul 1 10 195.129.24.210\n",
      "Jul 1 10 195.129.24.210\n",
      "Jul 1 10 195.129.24.210\n",
      "Jul 1 10 195.129.24.210\n",
      "Jul 1 10 195.129.24.210\n",
      "Jul 1 10 195.129.24.210\n",
      "Jul 1 10 195.129.24.210\n",
      "Jul 1 10 195.129.24.210\n",
      "Jul 1 10 195.129.24.210\n",
      "Jul 2 04 zummit.com\n",
      "Jul 2 04 zummit.com\n",
      "Jul 2 04 zummit.com\n",
      "Jul 2 04 zummit.com\n",
      "Jul 2 04 zummit.com\n",
      "Jul 2 04 zummit.com\n",
      "Jul 2 04 zummit.com\n",
      "Jul 2 04 zummit.com\n",
      "Jul 2 04 zummit.com\n",
      "Jul 2 04 zummit.com\n",
      "Jul 4 09 210.76.59.29\n",
      "Jul 4 09 210.76.59.29\n",
      "Jul 4 09 210.76.59.29\n",
      "Jul 4 19 220.117.241.87\n",
      "Jul 4 19 220.117.241.87\n",
      "Jul 4 19 220.117.241.87\n",
      "Jul 4 19 220.117.241.87\n",
      "Jul 4 19 220.117.241.87\n",
      "Jul 4 19 220.117.241.87\n",
      "Jul 4 19 220.117.241.87\n",
      "Jul 4 19 220.117.241.87\n",
      "Jul 4 19 220.117.241.87\n",
      "Jul 4 19 220.117.241.87\n",
      "Jul 4 19 220.117.241.87\n",
      "Jul 4 19 220.117.241.87\n",
      "Jul 4 19 220.117.241.87\n",
      "Jul 5 13 210.229.150.228\n",
      "Jul 5 13 210.229.150.228\n",
      "Jul 5 13 210.229.150.228\n",
      "Jul 5 13 210.229.150.228\n",
      "Jul 5 13 210.229.150.228\n",
      "Jul 6 02 218.16.122.48\n",
      "Jul 6 02 218.16.122.48\n",
      "Jul 6 02 218.16.122.48\n",
      "Jul 6 02 218.16.122.48\n",
      "Jul 6 02 218.16.122.48\n",
      "Jul 7 14 c9063558.virtua.com.br\n",
      "Jul 7 14 c9063558.virtua.com.br\n",
      "Jul 7 14 c9063558.virtua.com.br\n",
      "Jul 7 14 c9063558.virtua.com.br\n",
      "Jul 8 20 212.0.132.20\n",
      "Jul 8 20 212.0.132.20\n",
      "Jul 8 20 212.0.132.20\n",
      "Jul 8 20 212.0.132.20\n",
      "Jul 9 19 p15105218.pureserver.info\n",
      "Jul 9 19 p15105218.pureserver.info\n",
      "Jul 9 19 p15105218.pureserver.info\n",
      "Jul 9 19 p15105218.pureserver.info\n",
      "Jul 9 19 p15105218.pureserver.info\n",
      "Jul 9 19 p15105218.pureserver.info\n",
      "Jul 9 19 p15105218.pureserver.info\n",
      "Jul 9 19 p15105218.pureserver.info\n",
      "Jul 9 19 p15105218.pureserver.info\n",
      "Jul 9 19 p15105218.pureserver.info\n",
      "Jul 10 16 150.183.249.110\n",
      "Jul 10 16 150.183.249.110\n",
      "Jul 10 16 150.183.249.110\n",
      "Jul 10 16 150.183.249.110\n",
      "Jul 10 16 150.183.249.110\n",
      "Jul 10 16 150.183.249.110\n",
      "Jul 10 16 150.183.249.110\n",
      "Jul 10 16 150.183.249.110\n",
      "Jul 10 16 150.183.249.110\n",
      "Jul 10 16 150.183.249.110\n",
      "Jul 10 16 150.183.249.110\n",
      "Jul 10 16 150.183.249.110\n",
      "Jul 10 16 150.183.249.110\n",
      "Jul 10 16 150.183.249.110\n",
      "Jul 10 16 150.183.249.110\n",
      "Jul 10 16 150.183.249.110\n",
      "Jul 10 16 150.183.249.110\n",
      "Jul 10 16 150.183.249.110\n",
      "Jul 10 16 150.183.249.110\n",
      "Jul 10 16 150.183.249.110\n",
      "Jul 10 16 150.183.249.110\n",
      "Jul 10 16 150.183.249.110\n",
      "Jul 10 16 150.183.249.110\n",
      "Jul 10 16 150.183.249.110\n",
      "Jul 10 16 150.183.249.110\n",
      "Jul 10 16 150.183.249.110\n",
      "Jul 10 16 150.183.249.110\n",
      "Jul 10 16 150.183.249.110\n",
      "Jul 10 16 150.183.249.110\n",
      "Jul 10 16 150.183.249.110\n",
      "Jul 10 16 150.183.249.110\n",
      "Jul 10 16 150.183.249.110\n",
      "Jul 10 16 150.183.249.110\n",
      "Jul 10 16 150.183.249.110\n",
      "Jul 10 16 150.183.249.110\n",
      "Jul 10 16 150.183.249.110\n",
      "Jul 10 16 150.183.249.110\n",
      "Jul 10 16 150.183.249.110\n",
      "Jul 10 16 150.183.249.110\n",
      "Jul 10 16 150.183.249.110\n",
      "Jul 10 16 150.183.249.110\n",
      "Jul 10 16 150.183.249.110\n",
      "Jul 10 16 150.183.249.110\n",
      "Jul 10 16 150.183.249.110\n",
      "Jul 10 16 150.183.249.110\n",
      "Jul 10 16 150.183.249.110\n",
      "Jul 10 16 150.183.249.110\n",
      "Jul 10 16 150.183.249.110\n",
      "Jul 10 16 150.183.249.110\n",
      "Jul 10 16 150.183.249.110\n",
      "Jul 10 16 150.183.249.110\n",
      "Jul 10 16 150.183.249.110\n",
      "Jul 10 16 150.183.249.110\n",
      "Jul 10 16 150.183.249.110\n",
      "Jul 10 16 150.183.249.110\n",
      "Jul 10 16 150.183.249.110\n",
      "Jul 10 16 150.183.249.110\n",
      "Jul 10 16 150.183.249.110\n",
      "Jul 10 16 150.183.249.110\n",
      "Jul 10 16 150.183.249.110\n",
      "Jul 10 16 150.183.249.110\n",
      "Jul 10 16 150.183.249.110\n",
      "Jul 10 16 150.183.249.110\n",
      "Jul 10 16 150.183.249.110\n",
      "Jul 10 16 150.183.249.110\n",
      "Jul 10 16 150.183.249.110\n",
      "Jul 10 16 150.183.249.110\n",
      "Jul 10 16 150.183.249.110\n",
      "Jul 10 16 150.183.249.110\n",
      "Jul 10 16 150.183.249.110\n",
      "Jul 10 16 150.183.249.110\n",
      "Jul 10 16 150.183.249.110\n",
      "Jul 10 16 150.183.249.110\n",
      "Jul 10 16 150.183.249.110\n",
      "Jul 10 16 150.183.249.110\n",
      "Jul 10 16 150.183.249.110\n",
      "Jul 10 16 150.183.249.110\n",
      "Jul 10 16 150.183.249.110\n",
      "Jul 10 16 150.183.249.110\n",
      "Jul 10 16 150.183.249.110\n",
      "Jul 10 16 211.214.161.141\n",
      "Jul 10 16 211.214.161.141\n",
      "Jul 10 16 211.214.161.141\n",
      "Jul 10 16 211.214.161.141\n",
      "Jul 10 16 211.214.161.141\n",
      "Jul 10 16 211.214.161.141\n",
      "Jul 10 16 211.214.161.141\n",
      "Jul 10 16 211.214.161.141\n",
      "Jul 10 16 211.214.161.141\n",
      "Jul 10 16 211.214.161.141\n",
      "Jul 11 03 82.77.200.128\n",
      "Jul 11 03 82.77.200.128\n",
      "Jul 11 03 82.77.200.128\n",
      "Jul 11 03 82.77.200.128\n",
      "Jul 11 03 82.77.200.128\n",
      "Jul 11 03 82.77.200.128\n",
      "Jul 11 03 82.77.200.128\n",
      "Jul 11 03 82.77.200.128\n",
      "Jul 11 03 82.77.200.128\n",
      "Jul 11 03 82.77.200.128\n",
      "Jul 11 11 \n",
      "Jul 11 17 211.137.205.253\n",
      "Jul 11 17 211.137.205.253\n",
      "Jul 11 17 211.137.205.253\n",
      "Jul 11 17 211.137.205.253\n",
      "Jul 11 17 211.137.205.253\n",
      "Jul 11 17 211.137.205.253\n",
      "Jul 11 17 211.137.205.253\n",
      "Jul 11 17 211.137.205.253\n",
      "Jul 11 17 211.137.205.253\n",
      "Jul 11 17 211.137.205.253\n",
      "Jul 12 06 68.143.156.89.nw.nuvox.net\n",
      "Jul 12 06 68.143.156.89.nw.nuvox.net\n",
      "Jul 12 06 68.143.156.89.nw.nuvox.net\n",
      "Jul 12 06 68.143.156.89.nw.nuvox.net\n",
      "Jul 12 06 68.143.156.89.nw.nuvox.net\n",
      "Jul 12 06 68.143.156.89.nw.nuvox.net\n",
      "Jul 12 06 68.143.156.89.nw.nuvox.net\n",
      "Jul 12 06 68.143.156.89.nw.nuvox.net\n",
      "Jul 12 06 68.143.156.89.nw.nuvox.net\n",
      "Jul 12 06 68.143.156.89.nw.nuvox.net\n",
      "Jul 14 14 202-132-40-29.adsl.ttn.net\n",
      "Jul 14 14 202-132-40-29.adsl.ttn.net\n",
      "Jul 14 15 202-132-40-29.adsl.ttn.net\n",
      "Jul 14 15 202-132-40-29.adsl.ttn.net\n",
      "Jul 14 15 202-132-40-29.adsl.ttn.net\n",
      "Jul 14 15 202-132-40-29.adsl.ttn.net\n",
      "Jul 14 15 202-132-40-29.adsl.ttn.net\n",
      "Jul 14 15 202-132-40-29.adsl.ttn.net\n",
      "Jul 15 01 c51471f2c.cable.wanadoo.nl\n",
      "Jul 15 01 c51471f2c.cable.wanadoo.nl\n",
      "Jul 15 01 c51471f2c.cable.wanadoo.nl\n",
      "Jul 15 01 c51471f2c.cable.wanadoo.nl\n",
      "Jul 15 01 c51471f2c.cable.wanadoo.nl\n",
      "Jul 15 01 c51471f2c.cable.wanadoo.nl\n",
      "Jul 15 01 c51471f2c.cable.wanadoo.nl\n",
      "Jul 15 01 c51471f2c.cable.wanadoo.nl\n",
      "Jul 15 01 c51471f2c.cable.wanadoo.nl\n",
      "Jul 15 01 c51471f2c.cable.wanadoo.nl\n",
      "Jul 17 10 61-220-159-99.hinet-ip.hinet.net\n",
      "Jul 17 10 61-220-159-99.hinet-ip.hinet.net\n",
      "Jul 17 10 61-220-159-99.hinet-ip.hinet.net\n",
      "Jul 18 23 211-76-104-65.ebix.net.tw\n",
      "Jul 18 23 211-76-104-65.ebix.net.tw\n",
      "Jul 18 23 211-76-104-65.ebix.net.tw\n",
      "Jul 18 23 211-76-104-65.ebix.net.tw\n",
      "Jul 18 23 211-76-104-65.ebix.net.tw\n",
      "Jul 18 23 211-76-104-65.ebix.net.tw\n",
      "Jul 18 23 211-76-104-65.ebix.net.tw\n",
      "Jul 18 23 211-76-104-65.ebix.net.tw\n",
      "Jul 18 23 211-76-104-65.ebix.net.tw\n",
      "Jul 18 23 211-76-104-65.ebix.net.tw\n",
      "Jul 19 07 202.181.236.180\n",
      "Jul 19 07 202.181.236.180\n",
      "Jul 19 07 202.181.236.180\n",
      "Jul 19 07 202.181.236.180\n",
      "Jul 19 07 202.181.236.180\n",
      "Jul 19 07 202.181.236.180\n",
      "Jul 19 07 202.181.236.180\n",
      "Jul 19 07 202.181.236.180\n",
      "Jul 19 07 202.181.236.180\n",
      "Jul 19 07 202.181.236.180\n",
      "Jul 20 23 218.55.234.102\n",
      "Jul 20 23 218.55.234.102\n",
      "Jul 20 23 218.55.234.102\n",
      "Jul 20 23 218.55.234.102\n",
      "Jul 20 23 218.55.234.102\n",
      "Jul 21 01 210.76.59.29\n",
      "Jul 21 01 210.76.59.29\n",
      "Jul 21 01 210.76.59.29\n",
      "Jul 21 01 210.76.59.29\n",
      "Jul 21 15 193.110.106.11\n",
      "Jul 21 15 193.110.106.11\n",
      "Jul 23 11 85.44.47.166\n",
      "Jul 23 20 211.9.58.217\n",
      "Jul 23 20 211.9.58.217\n",
      "Jul 23 20 211.9.58.217\n",
      "Jul 23 20 211.9.58.217\n",
      "Jul 23 20 211.9.58.217\n",
      "Jul 23 20 211.9.58.217\n",
      "Jul 23 20 211.9.58.217\n",
      "Jul 23 20 211.9.58.217\n",
      "Jul 23 20 211.9.58.217\n",
      "Jul 23 20 211.9.58.217\n",
      "Jul 24 08 203.251.225.101\n",
      "Jul 24 08 203.251.225.101\n",
      "Jul 24 08 203.251.225.101\n",
      "Jul 24 08 203.251.225.101\n",
      "Jul 24 08 203.251.225.101\n",
      "Jul 26 07 207.243.167.114\n",
      "Jul 26 07 207.243.167.114\n",
      "Jul 26 07 207.243.167.114\n",
      "Jul 26 07 207.243.167.114\n",
      "Jul 26 07 207.243.167.114\n",
      "Jul 26 07 207.243.167.114\n",
      "Jul 26 07 207.243.167.114\n",
      "Jul 26 07 207.243.167.114\n",
      "Jul 26 07 207.243.167.114\n",
      "Jul 26 07 207.243.167.114\n",
      "Jul 26 07 207.243.167.114\n",
      "Jul 26 07 207.243.167.114\n",
      "Jul 26 07 207.243.167.114\n",
      "Jul 26 07 207.243.167.114\n",
      "Jul 26 07 207.243.167.114\n",
      "Jul 26 07 207.243.167.114\n",
      "Jul 26 07 207.243.167.114\n",
      "Jul 26 07 207.243.167.114\n",
      "Jul 26 07 207.243.167.114\n",
      "Jul 26 07 207.243.167.114\n",
      "Jul 26 07 207.243.167.114\n",
      "Jul 26 07 207.243.167.114\n",
      "Jul 26 07 207.243.167.114\n"
     ]
    }
   ],
   "source": [
    "with open('Linux_2k.log', 'r') as f:\n",
    "    for line in f:\n",
    "        if 'authentication failure' in line:\n",
    "            line = \" \".join(line.split()) # get rid of all (including double) whitespaces and link each element with a single whitespace\n",
    "            month = line.split(' ')[0]\n",
    "            day = line.split(' ')[1]\n",
    "            hour = line.split(' ')[2].split(':')[0]\n",
    "            host = line.split('rhost=')[1].split(' ')[0]\n",
    "            print(month, day, hour, host)"
   ]
  }
 ],
 "metadata": {
  "kernelspec": {
   "display_name": "Python 3 (ipykernel)",
   "language": "python",
   "name": "python3"
  },
  "language_info": {
   "codemirror_mode": {
    "name": "ipython",
    "version": 3
   },
   "file_extension": ".py",
   "mimetype": "text/x-python",
   "name": "python",
   "nbconvert_exporter": "python",
   "pygments_lexer": "ipython3",
   "version": "3.12.4"
  }
 },
 "nbformat": 4,
 "nbformat_minor": 5
}
