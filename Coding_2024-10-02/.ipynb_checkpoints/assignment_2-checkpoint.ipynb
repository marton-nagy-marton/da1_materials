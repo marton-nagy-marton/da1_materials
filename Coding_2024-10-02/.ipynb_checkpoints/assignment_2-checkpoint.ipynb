{
 "cells": [
  {
   "cell_type": "markdown",
   "id": "e10a4dfd-09ae-446e-9c35-02d8a058d147",
   "metadata": {},
   "source": [
    "### Numpy"
   ]
  },
  {
   "cell_type": "markdown",
   "id": "b5c726f6-45f2-4a05-9807-d64416d2b859",
   "metadata": {},
   "source": [
    "#### Monthly deciles\n",
    "\n",
    "1. Open the stockholm_daily_mean_temperature_1756_2017.txt file as a numpy array. Keep only the first 4 columns.\n",
    "2. Iterate through the months, calculate and print out the number of the month, the first (D1) and the ninth decile (D9) of the temperatures for that particular month. Each printed row has the number of the month, the 1<sup>st</sup> decile and the 9<sup>th</sup> decile."
   ]
  },
  {
   "cell_type": "code",
   "execution_count": 29,
   "id": "9aa8a480-46b7-490d-9ba6-67ba7c6e7001",
   "metadata": {},
   "outputs": [
    {
     "name": "stdout",
     "output_type": "stream",
     "text": [
      "Number of month is 1, temperature 1st decile is -10.39, 9th decile is 2.40\n",
      "Number of month is 2, temperature 1st decile is -10.50, 9th decile is 2.40\n",
      "Number of month is 3, temperature 1st decile is -7.20, 9th decile is 4.20\n",
      "Number of month is 4, temperature 1st decile is -0.50, 9th decile is 8.80\n",
      "Number of month is 5, temperature 1st decile is 4.50, 9th decile is 14.90\n",
      "Number of month is 6, temperature 1st decile is 10.40, 9th decile is 19.30\n",
      "Number of month is 7, temperature 1st decile is 13.80, 9th decile is 21.50\n",
      "Number of month is 8, temperature 1st decile is 12.80, 9th decile is 19.90\n",
      "Number of month is 9, temperature 1st decile is 7.89, 9th decile is 15.70\n",
      "Number of month is 10, temperature 1st decile is 1.90, 9th decile is 11.20\n",
      "Number of month is 11, temperature 1st decile is -3.30, 9th decile is 6.70\n",
      "Number of month is 12, temperature 1st decile is -7.79, 9th decile is 3.80\n"
     ]
    }
   ],
   "source": [
    "import numpy as np\n",
    "\n",
    "data_sth = np.loadtxt('stockholm_daily_mean_temperature_1756_2017.txt')\n",
    "data_sth = data_sth[:,:4]\n",
    "\n",
    "for i in range(1,13):\n",
    "    mask = (data_sth[:, 1] == i)\n",
    "    dec1 = np.percentile(data_sth[mask,3],10)\n",
    "    dec9 = np.percentile(data_sth[mask,3],90)\n",
    "    print(f'Number of month is {i}, temperature 1st decile is {dec1:.2f}, 9th decile is {dec9:.2f}')\n"
   ]
  },
  {
   "cell_type": "markdown",
   "id": "45876438-f2bd-413a-905f-ca9875ec8488",
   "metadata": {},
   "source": [
    "#### Mean temperatures in July \n",
    "\n",
    "Define July mean temperature as the mean of the daily averages from July  1 and 31. Calculate this July mean for each year. Create a numpy array which has all the July mean temperatures from 176 through 2017. Each row in the numpy arrays consists of two values: the year and the July mean temperature in that year. "
   ]
  },
  {
   "cell_type": "code",
   "execution_count": 48,
   "id": "d64c8275-9062-4851-95f8-9962a1ec9620",
   "metadata": {},
   "outputs": [
    {
     "data": {
      "text/plain": [
       "array([[1756.        ,   19.42580645],\n",
       "       [1757.        ,   20.28387097],\n",
       "       [1758.        ,   16.97741935],\n",
       "       [1759.        ,   18.45806452],\n",
       "       [1760.        ,   17.62580645],\n",
       "       [1761.        ,   17.47419355],\n",
       "       [1762.        ,   16.40967742],\n",
       "       [1763.        ,   18.78387097],\n",
       "       [1764.        ,   20.56774194],\n",
       "       [1765.        ,   16.07096774],\n",
       "       [1766.        ,   18.99032258],\n",
       "       [1767.        ,   16.07741935],\n",
       "       [1768.        ,   17.        ],\n",
       "       [1769.        ,   16.87741935],\n",
       "       [1770.        ,   17.34516129],\n",
       "       [1771.        ,   17.18709677],\n",
       "       [1772.        ,   17.96774194],\n",
       "       [1773.        ,   19.20322581],\n",
       "       [1774.        ,   19.11935484],\n",
       "       [1775.        ,   20.30322581],\n",
       "       [1776.        ,   19.89354839],\n",
       "       [1777.        ,   15.9483871 ],\n",
       "       [1778.        ,   18.87096774],\n",
       "       [1779.        ,   17.45483871],\n",
       "       [1780.        ,   19.18387097],\n",
       "       [1781.        ,   18.11290323],\n",
       "       [1782.        ,   15.83225806],\n",
       "       [1783.        ,   21.21935484],\n",
       "       [1784.        ,   16.46451613],\n",
       "       [1785.        ,   17.46129032],\n",
       "       [1786.        ,   16.69677419],\n",
       "       [1787.        ,   15.88709677],\n",
       "       [1788.        ,   19.73870968],\n",
       "       [1789.        ,   20.90322581],\n",
       "       [1790.        ,   14.58064516],\n",
       "       [1791.        ,   18.79677419],\n",
       "       [1792.        ,   19.40645161],\n",
       "       [1793.        ,   18.56451613],\n",
       "       [1794.        ,   18.78709677],\n",
       "       [1795.        ,   16.78387097],\n",
       "       [1796.        ,   17.3483871 ],\n",
       "       [1797.        ,   17.91612903],\n",
       "       [1798.        ,   19.35483871],\n",
       "       [1799.        ,   16.20967742],\n",
       "       [1800.        ,   15.31290323],\n",
       "       [1801.        ,   18.35806452],\n",
       "       [1802.        ,   14.85806452],\n",
       "       [1803.        ,   17.97741935],\n",
       "       [1804.        ,   19.3516129 ],\n",
       "       [1805.        ,   17.62580645],\n",
       "       [1806.        ,   15.35483871],\n",
       "       [1807.        ,   18.53548387],\n",
       "       [1808.        ,   17.63225806],\n",
       "       [1809.        ,   17.52258065],\n",
       "       [1810.        ,   17.9483871 ],\n",
       "       [1811.        ,   20.00645161],\n",
       "       [1812.        ,   14.39354839],\n",
       "       [1813.        ,   17.15483871],\n",
       "       [1814.        ,   19.17741935],\n",
       "       [1815.        ,   15.70322581],\n",
       "       [1816.        ,   18.56451613],\n",
       "       [1817.        ,   17.36129032],\n",
       "       [1818.        ,   20.8       ],\n",
       "       [1819.        ,   20.3       ],\n",
       "       [1820.        ,   16.79677419],\n",
       "       [1821.        ,   14.96451613],\n",
       "       [1822.        ,   17.0483871 ],\n",
       "       [1823.        ,   16.83548387],\n",
       "       [1824.        ,   17.36129032],\n",
       "       [1825.        ,   16.1       ],\n",
       "       [1826.        ,   21.06774194],\n",
       "       [1827.        ,   15.85806452],\n",
       "       [1828.        ,   18.54516129],\n",
       "       [1829.        ,   17.51612903],\n",
       "       [1830.        ,   17.86774194],\n",
       "       [1831.        ,   18.68064516],\n",
       "       [1832.        ,   12.9516129 ],\n",
       "       [1833.        ,   15.93225806],\n",
       "       [1834.        ,   19.87741935],\n",
       "       [1835.        ,   16.19677419],\n",
       "       [1836.        ,   15.14193548],\n",
       "       [1837.        ,   14.50967742],\n",
       "       [1838.        ,   16.43870968],\n",
       "       [1839.        ,   18.07096774],\n",
       "       [1840.        ,   15.26451613],\n",
       "       [1841.        ,   14.60322581],\n",
       "       [1842.        ,   14.90645161],\n",
       "       [1843.        ,   17.13548387],\n",
       "       [1844.        ,   14.13225806],\n",
       "       [1845.        ,   17.58387097],\n",
       "       [1846.        ,   18.26129032],\n",
       "       [1847.        ,   15.97419355],\n",
       "       [1848.        ,   16.92903226],\n",
       "       [1849.        ,   15.91290323],\n",
       "       [1850.        ,   17.71935484],\n",
       "       [1851.        ,   16.6516129 ],\n",
       "       [1852.        ,   19.75806452],\n",
       "       [1853.        ,   18.87419355],\n",
       "       [1854.        ,   19.66129032],\n",
       "       [1855.        ,   21.42258065],\n",
       "       [1856.        ,   16.4483871 ],\n",
       "       [1857.        ,   16.94193548],\n",
       "       [1858.        ,   19.92580645],\n",
       "       [1859.        ,   17.04193548],\n",
       "       [1860.        ,   16.43225806],\n",
       "       [1861.        ,   18.13870968],\n",
       "       [1862.        ,   14.03870968],\n",
       "       [1863.        ,   14.27419355],\n",
       "       [1864.        ,   15.90322581],\n",
       "       [1865.        ,   18.65806452],\n",
       "       [1866.        ,   14.35806452],\n",
       "       [1867.        ,   14.47419355],\n",
       "       [1868.        ,   18.53870968],\n",
       "       [1869.        ,   15.95806452],\n",
       "       [1870.        ,   17.02580645],\n",
       "       [1871.        ,   16.60322581],\n",
       "       [1872.        ,   18.63548387],\n",
       "       [1873.        ,   18.32258065],\n",
       "       [1874.        ,   17.01935484],\n",
       "       [1875.        ,   17.00322581],\n",
       "       [1876.        ,   17.66129032],\n",
       "       [1877.        ,   16.31290323],\n",
       "       [1878.        ,   14.63225806],\n",
       "       [1879.        ,   16.02903226],\n",
       "       [1880.        ,   17.00967742],\n",
       "       [1881.        ,   15.86451613],\n",
       "       [1882.        ,   17.02580645],\n",
       "       [1883.        ,   17.03225806],\n",
       "       [1884.        ,   16.89354839],\n",
       "       [1885.        ,   16.88387097],\n",
       "       [1886.        ,   16.66451613],\n",
       "       [1887.        ,   17.17419355],\n",
       "       [1888.        ,   15.16451613],\n",
       "       [1889.        ,   15.5516129 ],\n",
       "       [1890.        ,   15.10322581],\n",
       "       [1891.        ,   18.19354839],\n",
       "       [1892.        ,   15.21935484],\n",
       "       [1893.        ,   17.0516129 ],\n",
       "       [1894.        ,   17.45806452],\n",
       "       [1895.        ,   15.99677419],\n",
       "       [1896.        ,   19.28709677],\n",
       "       [1897.        ,   17.65806452],\n",
       "       [1898.        ,   15.29032258],\n",
       "       [1899.        ,   19.55806452],\n",
       "       [1900.        ,   17.05483871],\n",
       "       [1901.        ,   21.20645161],\n",
       "       [1902.        ,   13.73870968],\n",
       "       [1903.        ,   16.47741935],\n",
       "       [1904.        ,   15.79354839],\n",
       "       [1905.        ,   16.89354839],\n",
       "       [1906.        ,   17.47419355],\n",
       "       [1907.        ,   14.8516129 ],\n",
       "       [1908.        ,   16.11612903],\n",
       "       [1909.        ,   15.38064516],\n",
       "       [1910.        ,   15.06451613],\n",
       "       [1911.        ,   16.2       ],\n",
       "       [1912.        ,   18.40967742],\n",
       "       [1913.        ,   16.37096774],\n",
       "       [1914.        ,   21.0483871 ],\n",
       "       [1915.        ,   16.14516129],\n",
       "       [1916.        ,   16.8483871 ],\n",
       "       [1917.        ,   16.22903226],\n",
       "       [1918.        ,   17.1483871 ],\n",
       "       [1919.        ,   17.79032258],\n",
       "       [1920.        ,   17.00322581],\n",
       "       [1921.        ,   15.11935484],\n",
       "       [1922.        ,   15.73225806],\n",
       "       [1923.        ,   17.11612903],\n",
       "       [1924.        ,   16.63548387],\n",
       "       [1925.        ,   19.30645161],\n",
       "       [1926.        ,   18.69677419],\n",
       "       [1927.        ,   19.21935484],\n",
       "       [1928.        ,   14.93225806],\n",
       "       [1929.        ,   15.72580645],\n",
       "       [1930.        ,   18.19032258],\n",
       "       [1931.        ,   16.21290323],\n",
       "       [1932.        ,   18.9       ],\n",
       "       [1933.        ,   18.63548387],\n",
       "       [1934.        ,   16.57741935],\n",
       "       [1935.        ,   17.52258065],\n",
       "       [1936.        ,   19.02580645],\n",
       "       [1937.        ,   18.97096774],\n",
       "       [1938.        ,   17.93870968],\n",
       "       [1939.        ,   18.16774194],\n",
       "       [1940.        ,   18.27419355],\n",
       "       [1941.        ,   20.47419355],\n",
       "       [1942.        ,   16.43870968],\n",
       "       [1943.        ,   17.05483871],\n",
       "       [1944.        ,   19.40322581],\n",
       "       [1945.        ,   19.11935484],\n",
       "       [1946.        ,   18.89032258],\n",
       "       [1947.        ,   19.06774194],\n",
       "       [1948.        ,   18.29032258],\n",
       "       [1949.        ,   17.90645161],\n",
       "       [1950.        ,   16.00645161],\n",
       "       [1951.        ,   16.56451613],\n",
       "       [1952.        ,   16.4       ],\n",
       "       [1953.        ,   17.44193548],\n",
       "       [1954.        ,   16.56451613],\n",
       "       [1955.        ,   19.72580645],\n",
       "       [1956.        ,   16.10967742],\n",
       "       [1957.        ,   17.79677419],\n",
       "       [1958.        ,   16.53225806],\n",
       "       [1959.        ,   19.28709677],\n",
       "       [1960.        ,   16.26774194],\n",
       "       [1961.        ,   15.75806452],\n",
       "       [1962.        ,   14.89032258],\n",
       "       [1963.        ,   17.32258065],\n",
       "       [1964.        ,   16.89032258],\n",
       "       [1965.        ,   14.96451613],\n",
       "       [1966.        ,   18.48709677],\n",
       "       [1967.        ,   18.31612903],\n",
       "       [1968.        ,   16.58064516],\n",
       "       [1969.        ,   18.88064516],\n",
       "       [1970.        ,   15.98709677],\n",
       "       [1971.        ,   17.69032258],\n",
       "       [1972.        ,   20.21612903],\n",
       "       [1973.        ,   20.14516129],\n",
       "       [1974.        ,   15.5516129 ],\n",
       "       [1975.        ,   19.41290323],\n",
       "       [1976.        ,   17.6       ],\n",
       "       [1977.        ,   14.4483871 ],\n",
       "       [1978.        ,   15.81935484],\n",
       "       [1979.        ,   15.09677419],\n",
       "       [1980.        ,   17.76451613],\n",
       "       [1981.        ,   17.38709677],\n",
       "       [1982.        ,   18.4       ],\n",
       "       [1983.        ,   19.00967742],\n",
       "       [1984.        ,   16.2516129 ],\n",
       "       [1985.        ,   16.91935484],\n",
       "       [1986.        ,   17.3       ],\n",
       "       [1987.        ,   16.42580645],\n",
       "       [1988.        ,   18.21290323],\n",
       "       [1989.        ,   18.37096774],\n",
       "       [1990.        ,   16.10645161],\n",
       "       [1991.        ,   18.8516129 ],\n",
       "       [1992.        ,   17.91290323],\n",
       "       [1993.        ,   16.67741935],\n",
       "       [1994.        ,   21.53225806],\n",
       "       [1995.        ,   17.97741935],\n",
       "       [1996.        ,   16.08387097],\n",
       "       [1997.        ,   19.57741935],\n",
       "       [1998.        ,   16.45806452],\n",
       "       [1999.        ,   20.20967742],\n",
       "       [2000.        ,   16.23870968],\n",
       "       [2001.        ,   19.98709677],\n",
       "       [2002.        ,   19.20967742],\n",
       "       [2003.        ,   20.6483871 ],\n",
       "       [2004.        ,   17.06451613],\n",
       "       [2005.        ,   19.42903226],\n",
       "       [2006.        ,   20.79354839],\n",
       "       [2007.        ,   17.04193548],\n",
       "       [2008.        ,   18.8       ],\n",
       "       [2009.        ,   17.80322581],\n",
       "       [2010.        ,   21.22903226],\n",
       "       [2011.        ,   19.42580645],\n",
       "       [2012.        ,   17.7516129 ],\n",
       "       [2013.        ,   18.3516129 ],\n",
       "       [2014.        ,   20.70967742],\n",
       "       [2015.        ,   17.01290323],\n",
       "       [2016.        ,   18.96129032],\n",
       "       [2017.        ,   17.35483871]])"
      ]
     },
     "execution_count": 48,
     "metadata": {},
     "output_type": "execute_result"
    }
   ],
   "source": [
    "years = list(range(1756,2018))\n",
    "years_means = np.zeros(shape=(262,2))\n",
    "for year in years:\n",
    "    mask = (data_sth[:,1] == 7) & (data_sth[:,0] == year)\n",
    "    years_means[year-1756,0] = year\n",
    "    years_means[year-1756,1] = np.mean(data_sth[mask,3])\n",
    "years_means"
   ]
  },
  {
   "cell_type": "markdown",
   "id": "23c54bf0-5d01-447c-aa3e-fc48b6a2a0e6",
   "metadata": {},
   "source": [
    "### Pandas and UDFs"
   ]
  },
  {
   "cell_type": "markdown",
   "id": "4335a77f-6e4b-4032-8e48-d24c13de2ccd",
   "metadata": {},
   "source": [
    "#### Titanic\n",
    "\n",
    "Look at the *is_english()* function in Class 4. Redefine the function so that it handles missing data without casting it into string. Hint: use an exception."
   ]
  },
  {
   "cell_type": "code",
   "execution_count": 58,
   "id": "7865e3bd-0432-4a41-adda-08ddbb23a851",
   "metadata": {},
   "outputs": [
    {
     "name": "stdout",
     "output_type": "stream",
     "text": [
      "Help on function is_english in module __main__:\n",
      "\n",
      "is_english(value)\n",
      "    Checks if the string 'England' is present in the given input.\n",
      "\n",
      "    Args:\n",
      "        value (str): The input value to be checked for the presence of the word 'England'.\n",
      "\n",
      "    Returns:\n",
      "        int: Returns 1 if 'England' is found in the input, otherwise returns 0. If an error occurs (e.g., value is not a string), it returns 0.\n",
      "\n",
      "    Note:\n",
      "        The function uses a broad exception handler to catch any errors, such as passing a non-string type to the function.\n",
      "\n"
     ]
    },
    {
     "data": {
      "text/plain": [
       "318"
      ]
     },
     "execution_count": 58,
     "metadata": {},
     "output_type": "execute_result"
    }
   ],
   "source": [
    "import pandas as pd\n",
    "data_titanic = pd.read_csv('titanic.csv')\n",
    "\n",
    "def is_english(value):\n",
    "    \"\"\"\n",
    "    Checks if the string 'England' is present in the given input.\n",
    "\n",
    "    Args:\n",
    "        value (str): The input value to be checked for the presence of the word 'England'.\n",
    "\n",
    "    Returns:\n",
    "        int: Returns 1 if 'England' is found in the input, otherwise returns 0. If an error occurs (e.g., value is not a string), it returns 0.\n",
    "\n",
    "    Note:\n",
    "        The function uses a broad exception handler to catch any errors, such as passing a non-string type to the function.\n",
    "    \"\"\"\n",
    "    try:\n",
    "        if 'England' in value:\n",
    "            return 1\n",
    "        else:\n",
    "            return 0\n",
    "    except:\n",
    "        return 0\n",
    "\n",
    "data_titanic['Is_English'] = data_titanic.Hometown.apply(is_english)\n",
    "data_titanic['Is_English'].sum()"
   ]
  },
  {
   "cell_type": "markdown",
   "id": "3659b20f-d645-4214-844a-ced14d46cb26",
   "metadata": {},
   "source": [
    "Create a column which indicates whether 'Master', 'Colonel', or 'Count' is in the person's name. Call this column 'Is_fancy_title'. Make sure you handle possible missing data."
   ]
  },
  {
   "cell_type": "code",
   "execution_count": 104,
   "id": "ac8bd00a-8068-4cbd-8c30-c415ed831217",
   "metadata": {},
   "outputs": [
    {
     "data": {
      "text/plain": [
       "68"
      ]
     },
     "execution_count": 104,
     "metadata": {},
     "output_type": "execute_result"
    }
   ],
   "source": [
    "def is_fancy_title(value):\n",
    "    \"\"\"\n",
    "    Determines if the given input contains a fancy title such as 'Master', 'Colonel', or 'Count'.\n",
    "\n",
    "    Args:\n",
    "        value (str or any type): The input to be checked, which is converted to a string.\n",
    "\n",
    "    Returns:\n",
    "        int: Returns 1 if any of the titles ('Master', 'Colonel', or 'Count') are found in the string, otherwise returns 0.\n",
    "    \n",
    "    Note:\n",
    "        The function converts the input to a string before performing the check.\n",
    "    \"\"\"\n",
    "    value = str(value)\n",
    "    if 'Master' in value or 'Colonel' in value or 'Count' in value:\n",
    "        return 1\n",
    "    else:\n",
    "        return 0\n",
    "data_titanic['Is_fancy_title'] = data_titanic.Name.apply(is_fancy_title) + data_titanic.Name_wiki.apply(is_fancy_title) > 0\n",
    "data_titanic['Is_fancy_title'].sum()"
   ]
  },
  {
   "cell_type": "markdown",
   "id": "7795ab7e-1c5d-4c3a-8445-7a2bc849cdb0",
   "metadata": {},
   "source": [
    "#### Hitters\n",
    "\n",
    "Open the *hitters.csv* file as a DataFrame. This is a classic dataset on baseball players statistics. Column description can be found here: https://vincentarelbundock.github.io/Rdatasets/doc/ISLR/Hitters.html."
   ]
  },
  {
   "cell_type": "markdown",
   "id": "5f8c951e-54dd-4377-a352-4eeae2778c46",
   "metadata": {},
   "source": [
    "Create new column called *Seniority*. If the player has played less then 6 years then he is considered to be 'junior'. Players with years between 6 and 15 are 'senior', and those above 15 are 'veteran'. "
   ]
  },
  {
   "cell_type": "code",
   "execution_count": 123,
   "id": "5f9f0ad2-bb3a-4bb2-a366-e3508696b6d4",
   "metadata": {},
   "outputs": [
    {
     "name": "stdout",
     "output_type": "stream",
     "text": [
      "<class 'pandas.core.frame.DataFrame'>\n",
      "RangeIndex: 322 entries, 0 to 321\n",
      "Data columns (total 21 columns):\n",
      " #   Column     Non-Null Count  Dtype  \n",
      "---  ------     --------------  -----  \n",
      " 0   rownames   322 non-null    object \n",
      " 1   AtBat      322 non-null    int64  \n",
      " 2   Hits       322 non-null    int64  \n",
      " 3   HmRun      322 non-null    int64  \n",
      " 4   Runs       322 non-null    int64  \n",
      " 5   RBI        322 non-null    int64  \n",
      " 6   Walks      322 non-null    int64  \n",
      " 7   Years      322 non-null    int64  \n",
      " 8   CAtBat     322 non-null    int64  \n",
      " 9   CHits      322 non-null    int64  \n",
      " 10  CHmRun     322 non-null    int64  \n",
      " 11  CRuns      322 non-null    int64  \n",
      " 12  CRBI       322 non-null    int64  \n",
      " 13  CWalks     322 non-null    int64  \n",
      " 14  League     322 non-null    object \n",
      " 15  Division   322 non-null    object \n",
      " 16  PutOuts    322 non-null    int64  \n",
      " 17  Assists    322 non-null    int64  \n",
      " 18  Errors     322 non-null    int64  \n",
      " 19  Salary     263 non-null    float64\n",
      " 20  NewLeague  322 non-null    object \n",
      "dtypes: float64(1), int64(16), object(4)\n",
      "memory usage: 53.0+ KB\n"
     ]
    }
   ],
   "source": [
    "hitters = pd.read_csv('hitters.csv')\n",
    "hitters.info()"
   ]
  },
  {
   "cell_type": "code",
   "execution_count": 126,
   "id": "b2a728f2-e514-4d18-a1ac-d2da23b87476",
   "metadata": {},
   "outputs": [],
   "source": [
    "def assign_seniority(years):\n",
    "    if years < 6:\n",
    "        return 'Junior'\n",
    "    elif years <= 15:\n",
    "        return 'Senior'\n",
    "    else:\n",
    "        return 'Veteran'\n",
    "\n",
    "hitters['Seniority'] = hitters.Years.apply(assign_seniority)"
   ]
  },
  {
   "cell_type": "markdown",
   "id": "9cfb6618-721e-4bca-a5fd-4a11ccc8b028",
   "metadata": {},
   "source": [
    "Show the number of players in each category. Use a built-in Pandas method. "
   ]
  },
  {
   "cell_type": "code",
   "execution_count": 129,
   "id": "6504a62b-600f-4a5f-b9a3-da3f86cc2aa2",
   "metadata": {},
   "outputs": [
    {
     "data": {
      "text/plain": [
       "Seniority\n",
       "Senior     154\n",
       "Junior     142\n",
       "Veteran     26\n",
       "Name: count, dtype: int64"
      ]
     },
     "execution_count": 129,
     "metadata": {},
     "output_type": "execute_result"
    }
   ],
   "source": [
    "hitters.Seniority.value_counts()"
   ]
  },
  {
   "cell_type": "markdown",
   "id": "43ca9458-4cf0-4303-abf7-338adbe86196",
   "metadata": {},
   "source": [
    "Calculate the average of home runs in 1986 in each seniority group. "
   ]
  },
  {
   "cell_type": "code",
   "execution_count": null,
   "id": "8a3ffc2d-f781-497e-a7d3-30de71213ce7",
   "metadata": {},
   "outputs": [],
   "source": []
  },
  {
   "cell_type": "markdown",
   "id": "a0bc4767-6d48-498b-821b-124a01d87a44",
   "metadata": {},
   "source": [
    "This task requires some googling. Create a `pivot table` where rows are the league category (A or N), columns are the seniority category, and the values are the mean salary. Include row and column averages, as well as the total average in the table. Apply formatting so averages are formatted to the first decimal."
   ]
  },
  {
   "cell_type": "code",
   "execution_count": null,
   "id": "876fe381-68ba-4c10-919f-232c4445b2b4",
   "metadata": {},
   "outputs": [],
   "source": []
  }
 ],
 "metadata": {
  "kernelspec": {
   "display_name": "Python 3 (ipykernel)",
   "language": "python",
   "name": "python3"
  },
  "language_info": {
   "codemirror_mode": {
    "name": "ipython",
    "version": 3
   },
   "file_extension": ".py",
   "mimetype": "text/x-python",
   "name": "python",
   "nbconvert_exporter": "python",
   "pygments_lexer": "ipython3",
   "version": "3.12.4"
  }
 },
 "nbformat": 4,
 "nbformat_minor": 5
}
