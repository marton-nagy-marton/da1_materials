{
 "cells": [
  {
   "cell_type": "markdown",
   "id": "d9c7e445-d4e1-4713-b0cc-d89ad457d7bc",
   "metadata": {},
   "source": [
    "### Random coin flips"
   ]
  },
  {
   "cell_type": "markdown",
   "id": "298d3d3a-1ad6-48ee-94e5-fe22858b64a1",
   "metadata": {},
   "source": [
    "1. Use the `random` package to generate coin flips. If p > 0.5 you should have a head (H) otherwise a tail (T).\n",
    "2. Generate 1000 flis using a `for` or `while` loop.\n",
    "3. Append the result of each flip (a H or a T) to the list.\n",
    "4. Concatenate the results into a single string, like this: 'HHTHHHTTHTTT...' using the appropriate string method.\n",
    "5. Select the runs of consecutive heads, like this: ['HH', 'HHH', 'H', ...]\n",
    "6. Calculate the length of each run and create dictionary of how frequently runs last for 1, flip, 2 flips, 3 flips, etc."
   ]
  },
  {
   "cell_type": "code",
   "execution_count": 8,
   "id": "76a73457-90f4-42b7-880f-1876f662e90d",
   "metadata": {},
   "outputs": [
    {
     "name": "stdout",
     "output_type": "stream",
     "text": [
      "TTHHHTHTTTHHTTHHTTHHTHHTTHTHHTTTTTHHHTHTTHTTHHTHHTTTTHTTTTTHHTHTTTTTHHHTHHHTTTHHHHTHTTTTTHTTTHTTHTTHTHHHTHHHTTHTHHTTTTHTHHHTTTHHHTTTHTTTHTHTHTHTHHTHTTHHHTTTTHHTHHTHHHHTHTTTHHHHHTTTHTHHHHHHHHTHTHTHTHTHTHHTTTHHHTHHHTTTTTHHTHTTTHTHTHHTTHTTHTHHHHTTHTTHHHTTTTTHHTHTTTHHHTHTHHHHHTHTTTTHTHHHHHHHHTTHHHHHHTTTTTTHTHHHTTHTHTHHTHTTHHTTHHTHHHTHTTTHHTHHTTTTTHHHTHHTTHTTTHTHTTTHHTHTTHTHHTTHTTHHTHTTHHTTHHTTHHTHTTHHTTHTTHHTTHTTHTTTHTHHTHHTTHTTTHTHHTTTTTTHTTTHHHTTHTTTTTHTTHTHHHTTTTTTTHTHTHHTTHTTHHHHHHHHTTTHTHHHHTHHTTHTTHTTHHHHHHHHTHHHHTTTTHTTTHTTHHHTTTHTTTHTHTHHHTHTHHHTHHTTTHHTTTTHTTTHHHHHTHTHHHTHHHTHHTHTTHHHHHTHHHHHTHHHTTHTTTHHHHHTTTHTTTHTTTTHHHHHHHTTHTTHHHTTTTHHTHHTHHTTHTTTHHTTTHHTHHHHTTHTHTHTHHTTTHHHTTHTTHTTHHTTHTTHTHTTHTHHHTHHHHTTTTHHHHHTTTHTTHTHTHHHHHHHHHHHHTHTHHTTTHTHTTTHHHHHTTTHHHHHTTTHHHHTTHTTTHHTTTTTTHTTHHTTHTTTHTTHTTTTTHTHTHTTTTHTTTTTTHHTHHHHHHTHTTHTHTTHHHHHTTTTHHHTTTHTHHTTTTTTTHHHTHTTHHTHHTHHHHTTHTTHTHTTTTHTHTTTTHHTTTHHHTHHTHTHHHTTHHHHHHTTTTHTHTHTTTHTHTHHHHHTTTTTTHHHHHHHHHHHTHTTHTTTTTTHTTHTTTHH\n",
      "The frequency of \"Head\" runs in the generated 1000 flips is the following:\n",
      "1 flip: 123 times\n",
      "2 flips: 55 times\n",
      "3 flips: 31 times\n",
      "4 flips: 9 times\n",
      "5 flips: 11 times\n",
      "6 flips: 3 times\n",
      "7 flips: 1 time\n",
      "8 flips: 4 times\n",
      "11 flips: 1 time\n",
      "12 flips: 1 time\n"
     ]
    }
   ],
   "source": [
    "import random\n",
    "s = ''\n",
    "j = 0\n",
    "d = {}\n",
    "for i in range(1000):\n",
    "    r = random.random()\n",
    "    #create string of 1000 H and T\n",
    "    if r > 0.5:\n",
    "        s += 'H'\n",
    "        j += 1\n",
    "    else:\n",
    "        s += 'T'\n",
    "    #if the last flip is T and the previous was not a T   \n",
    "    if s[-1] == 'T' and j != 0:\n",
    "        #add H run to dict if it does not exist\n",
    "        if d.get(j,0) == 0:\n",
    "            d[j]=1\n",
    "        #if already exists, increase the number of runs by one\n",
    "        else:\n",
    "            d[j]+=1\n",
    "        #set run count to zero (as the last flip was T)\n",
    "        j = 0\n",
    "#correct for when the very last flip was a head\n",
    "if s[-1] == 'H':\n",
    "    if d.get(j,0) == 0:\n",
    "        d[j]=1\n",
    "    else:\n",
    "        d[j]+=1\n",
    "\n",
    "print(s)\n",
    "d_sorted = dict(sorted(d.items()))\n",
    "print('The frequency of \"Head\" runs in the generated 1000 flips is the following:')\n",
    "for key, value in d_sorted.items():\n",
    "    out = str(key) + ' flip'\n",
    "    if key != 1:\n",
    "        out += 's'\n",
    "    out += ': ' + str(value) + ' time'\n",
    "    if value != 1:\n",
    "        out += 's'\n",
    "    print(out)"
   ]
  },
  {
   "cell_type": "markdown",
   "id": "143af1ab-acda-42b4-bbe2-a1040caf7372",
   "metadata": {},
   "source": [
    "### Time zones"
   ]
  },
  {
   "cell_type": "markdown",
   "id": "84b5a6cb-acb3-4896-9316-a723138b32fc",
   "metadata": {},
   "source": [
    "1. Find the `Unix epoch` of your birthdate. If you know the hour and minute of your birth use that information as well. \n",
    "2. Calculate the difference in seconds between your birthdate and current time using Unix epoch. Is this the real difference between the two dates? Read the docs!\n",
    "3. Convert the  date, hour and minute of your birth to UTC."
   ]
  },
  {
   "cell_type": "code",
   "execution_count": 2,
   "id": "0a649f7e-1cfc-4629-b12d-97f279ca6fe2",
   "metadata": {},
   "outputs": [
    {
     "name": "stdout",
     "output_type": "stream",
     "text": [
      "973834334.0\n",
      "753936628.3769419\n",
      "2000-11-10 05:32:14+00:00\n"
     ]
    }
   ],
   "source": [
    "import datetime\n",
    "import pytz\n",
    "#my birthday as a naive datetime\n",
    "DT = datetime.datetime(2000,11,10,6,32,14)\n",
    "#my birthday with timezone added\n",
    "DW = DT.astimezone(pytz.timezone('Europe/Budapest'))\n",
    "#get Unix timestamp for my birthday\n",
    "unix_stamp = datetime.datetime.timestamp(DW)\n",
    "print(unix_stamp)\n",
    "#This is not the most accurate difference, as leap seconds are not included in Unix timestamps\n",
    "diff = datetime.datetime.timestamp(datetime.datetime.now().astimezone(pytz.timezone('Europe/Budapest'))) - unix_stamp\n",
    "print(diff)\n",
    "#convert my birthdate to UTC\n",
    "D_UTC = DW.astimezone(pytz.timezone('UTC'))\n",
    "print(D_UTC)"
   ]
  },
  {
   "cell_type": "markdown",
   "id": "1f563987-c7c6-4884-bbb8-7a88bd619884",
   "metadata": {},
   "source": [
    "### Conditional statements and exceptions"
   ]
  },
  {
   "cell_type": "markdown",
   "id": "397ecb48-14eb-4bd0-a8e6-6ef3f54f2980",
   "metadata": {},
   "source": [
    "1. Read the docs how to take an input from a user in Python.\n",
    "2. Ask for a numerical input and take the square root of the input. If the input is negative print the appropriate complex number,  otherwise print the square root formatted to the second decimal.\n",
    "3. Use exceptions to force a valid input from the user.\n",
    "4. Make sure the program asks for the input until a valid input is given. "
   ]
  },
  {
   "cell_type": "code",
   "execution_count": 32,
   "id": "1ea3106b-ded7-403c-95c1-23d4550b6c74",
   "metadata": {},
   "outputs": [
    {
     "name": "stdout",
     "output_type": "stream",
     "text": [
      "\n"
     ]
    },
    {
     "name": "stdin",
     "output_type": "stream",
     "text": [
      "Please provide a numerical input:  gfdg\n",
      "The provided input was not numerical, please try again:  87\n"
     ]
    },
    {
     "name": "stdout",
     "output_type": "stream",
     "text": [
      "The square root is the following real number: 9.33\n"
     ]
    }
   ],
   "source": [
    "import math as math\n",
    "print()\n",
    "inp = input('Please provide a numerical input: ')\n",
    "c = False\n",
    "while c is False:\n",
    "    try:\n",
    "        inp = float(inp)\n",
    "        if inp < 0:\n",
    "            print(f'The square root is the following complex number: {complex(inp**(1/2))}')\n",
    "            c = True\n",
    "        else:\n",
    "            print(f'The square root is the following real number: {math.sqrt(inp):.2f}')\n",
    "            c = True\n",
    "    except Exception as e:\n",
    "        inp = input('The provided input was not numerical, please try again: ')"
   ]
  },
  {
   "cell_type": "markdown",
   "id": "3850b913-53b7-4558-9080-7f9a49a046e2",
   "metadata": {},
   "source": [
    "### I/O"
   ]
  },
  {
   "cell_type": "markdown",
   "id": "5b7f132f-4a55-4432-8b53-e2dbe6fe2678",
   "metadata": {},
   "source": [
    "1. Create an empty list. \n",
    "2. Read a text from a file, line by line.\n",
    "3. Count the number of words in the line and append it to the end of the line: 'The length if this line is ....' Add each line to the list created above.\n",
    "4. Write each augmented line in the list to a new file and save it. "
   ]
  },
  {
   "cell_type": "code",
   "execution_count": 77,
   "id": "5069441f-b067-4229-97ad-93ec90e72c83",
   "metadata": {},
   "outputs": [],
   "source": [
    "import os\n",
    "mylist = []\n",
    "with open('ilikeapples.txt', mode='r', encoding='utf-8') as f:\n",
    "    for line in f:\n",
    "        #add new element to the list with: the original text (minus linebreak), the length of... text,\n",
    "        #number of words (split at each space) and count elements in resulting list, words. text\n",
    "        mylist.append(line.strip() + ' The length of this line is ' + str(len(line.strip().split(' '))) + ' words.')\n",
    "with open('ilikeapples_counted.txt', mode = 'w', encoding='utf-8') as f:\n",
    "    #write the resulting output into a new file\n",
    "    f.write('\\n'.join(mylist))"
   ]
  },
  {
   "cell_type": "code",
   "execution_count": null,
   "id": "add959dc-11f0-4859-983d-0ba46b7206b2",
   "metadata": {},
   "outputs": [],
   "source": []
  }
 ],
 "metadata": {
  "kernelspec": {
   "display_name": "Python 3 (ipykernel)",
   "language": "python",
   "name": "python3"
  },
  "language_info": {
   "codemirror_mode": {
    "name": "ipython",
    "version": 3
   },
   "file_extension": ".py",
   "mimetype": "text/x-python",
   "name": "python",
   "nbconvert_exporter": "python",
   "pygments_lexer": "ipython3",
   "version": "3.12.4"
  }
 },
 "nbformat": 4,
 "nbformat_minor": 5
}
