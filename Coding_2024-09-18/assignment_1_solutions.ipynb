{
 "cells": [
  {
   "cell_type": "markdown",
   "id": "d9c7e445-d4e1-4713-b0cc-d89ad457d7bc",
   "metadata": {},
   "source": [
    "### Random coin flips"
   ]
  },
  {
   "cell_type": "markdown",
   "id": "298d3d3a-1ad6-48ee-94e5-fe22858b64a1",
   "metadata": {},
   "source": [
    "1. Use the `random` package to generate coin flips. If p > 0.5 you should have a head (H) otherwise a tail (T).\n",
    "2. Generate 1000 flis using a `for` or `while` loop.\n",
    "3. Append the result of each flip (a H or a T) to the list.\n",
    "4. Concatenate the results into a single string, like this: 'HHTHHHTTHTTT...' using the appropriate string method.\n",
    "5. Select the runs of consecutive heads, like this: ['HH', 'HHH', 'H', ...]\n",
    "6. Calculate the length of each run and create dictionary of how frequently runs last for 1, flip, 2 flips, 3 flips, etc."
   ]
  },
  {
   "cell_type": "code",
   "execution_count": 1,
   "id": "1408fd3d-551c-45f8-8d26-01994acb568a",
   "metadata": {},
   "outputs": [
    {
     "name": "stdout",
     "output_type": "stream",
     "text": [
      "['H', 'T', 'T', 'T', 'T', 'T', 'T', 'T', 'T', 'T', 'H', 'T', 'T', 'T', 'H', 'T', 'T', 'T', 'T', 'H', 'T', 'H', 'H', 'H', 'T']\n"
     ]
    }
   ],
   "source": [
    "import random\n",
    "\n",
    "ls_flips = []\n",
    "\n",
    "while len(ls_flips) < 1000:\n",
    "    if random.random() < 0.5:\n",
    "        ls_flips.append('H')\n",
    "    else:\n",
    "        ls_flips.append('T')\n",
    "\n",
    "print(ls_flips[0:25])"
   ]
  },
  {
   "cell_type": "code",
   "execution_count": 2,
   "id": "5ea47496-a968-4e42-973a-2d813c36b1c6",
   "metadata": {},
   "outputs": [
    {
     "name": "stdout",
     "output_type": "stream",
     "text": [
      "HTTTTTTTTTHTTTHTTTTHTHHHTHHHHHHTHHHTHHTTTTTTHHTHTT\n"
     ]
    }
   ],
   "source": [
    "S = \"\".join( ls_flips ) # join each flip by an empty delimiter\n",
    "print(S[:50])"
   ]
  },
  {
   "cell_type": "code",
   "execution_count": 3,
   "id": "be00db46-a4b0-492c-aa01-a6fbb1b547c9",
   "metadata": {},
   "outputs": [
    {
     "name": "stdout",
     "output_type": "stream",
     "text": [
      "['H', '', '', '', '', '', '', '', '', 'H', '', '', 'H', '', '', '', 'H', 'HHH', 'HHHHHH', 'HHH']\n"
     ]
    }
   ],
   "source": [
    "ls_heads_runs = S.split('T')\n",
    "print(ls_heads_runs[0:20])"
   ]
  },
  {
   "cell_type": "code",
   "execution_count": 4,
   "id": "6af04428-6496-4f45-89ce-2d10f3a965e6",
   "metadata": {},
   "outputs": [
    {
     "data": {
      "text/plain": [
       "[1, 0, 0, 0, 0, 0, 0, 0, 0, 1, 0, 0, 1, 0, 0, 0, 1, 3, 6, 3]"
      ]
     },
     "execution_count": 4,
     "metadata": {},
     "output_type": "execute_result"
    }
   ],
   "source": [
    "[len(run) for run in ls_heads_runs[0:20]]"
   ]
  },
  {
   "cell_type": "code",
   "execution_count": 5,
   "id": "902bf46b-69a4-44a9-a39e-ef1ded98f8ce",
   "metadata": {},
   "outputs": [
    {
     "name": "stdout",
     "output_type": "stream",
     "text": [
      "[1, 1, 1, 1, 3, 6, 3, 2]\n"
     ]
    }
   ],
   "source": [
    "ls_run_lengths = [ len(run) for run in ls_heads_runs if run != ''] \n",
    "print(ls_run_lengths[:8])"
   ]
  },
  {
   "cell_type": "markdown",
   "id": "315297d4-8922-4313-a0ba-246af66617cf",
   "metadata": {},
   "source": [
    "While asking LLMs in this part of the course is strictly not recommended, Google and stackoverwflow are still your friends. For instance the first answer to '*How can I count the frequency of items in a list in Python?*' in Google takes you to this page: https://www.tutorialspoint.com/list-frequency-of-elements-in-python."
   ]
  },
  {
   "cell_type": "code",
   "execution_count": 6,
   "id": "e803eeaf-de4a-459f-8a94-79140f0822f5",
   "metadata": {},
   "outputs": [
    {
     "name": "stdout",
     "output_type": "stream",
     "text": [
      "Counter({1: 111, 2: 61, 3: 39, 5: 10, 4: 10, 6: 6, 9: 1})\n"
     ]
    }
   ],
   "source": [
    "from collections import Counter\n",
    "run_count = Counter(ls_run_lengths) # Counter() acts like a dict\n",
    "print(run_count)"
   ]
  },
  {
   "cell_type": "code",
   "execution_count": 7,
   "id": "a12c0168-2b14-40e5-bee7-948945ed613f",
   "metadata": {},
   "outputs": [
    {
     "data": {
      "text/plain": [
       "{1: 111, 3: 39, 6: 6, 2: 61, 5: 10, 4: 10, 9: 1}"
      ]
     },
     "execution_count": 7,
     "metadata": {},
     "output_type": "execute_result"
    }
   ],
   "source": [
    "dc_run_count = dict(run_count)\n",
    "dc_run_count"
   ]
  },
  {
   "cell_type": "markdown",
   "id": "143af1ab-acda-42b4-bbe2-a1040caf7372",
   "metadata": {},
   "source": [
    "### Time zones"
   ]
  },
  {
   "cell_type": "markdown",
   "id": "84b5a6cb-acb3-4896-9316-a723138b32fc",
   "metadata": {},
   "source": [
    "1. Find the `Unix epoch` of your birthdate. If you know the hour and minute of your birth use that information as well. \n",
    "2. Calculate the difference in seconds between your birthdate and current time using Unix epoch. Is this the real difference between the two dates? Read the docs!\n",
    "3. Convert the  date, hour and minute of your birth to UTC."
   ]
  },
  {
   "cell_type": "code",
   "execution_count": 8,
   "id": "bbff937d-be30-4757-86de-e8911a6b906e",
   "metadata": {},
   "outputs": [
    {
     "name": "stdout",
     "output_type": "stream",
     "text": [
      "19543 days, 0:48:58.611571\n"
     ]
    }
   ],
   "source": [
    "import datetime, time\n",
    "\n",
    "now = datetime.datetime.now()\n",
    "birth = datetime.datetime(1971,3,31, 9, 30)\n",
    "db = now - birth\n",
    "print(db)"
   ]
  },
  {
   "cell_type": "code",
   "execution_count": 9,
   "id": "e3845e9d-c471-408e-bebc-705c5bd29707",
   "metadata": {},
   "outputs": [
    {
     "name": "stdout",
     "output_type": "stream",
     "text": [
      "1727770738.611571\n"
     ]
    }
   ],
   "source": [
    "universal_time_now = now.timestamp()\n",
    "print(universal_time_now)"
   ]
  },
  {
   "cell_type": "code",
   "execution_count": 10,
   "id": "c5949008-0e4f-40bf-b953-4db7a7d21b3e",
   "metadata": {},
   "outputs": [
    {
     "name": "stdout",
     "output_type": "stream",
     "text": [
      "39252600.0\n"
     ]
    }
   ],
   "source": [
    "universal_time_at_birth = birth.timestamp()\n",
    "print(universal_time_at_birth)"
   ]
  },
  {
   "cell_type": "code",
   "execution_count": 11,
   "id": "dd0da999-fe4d-49d1-9f64-e7f367cd1668",
   "metadata": {},
   "outputs": [
    {
     "name": "stdout",
     "output_type": "stream",
     "text": [
      "The difference between now and then in seconds is 1688518138.611571.\n"
     ]
    }
   ],
   "source": [
    "print(f'The difference between now and then in seconds is {universal_time_now - universal_time_at_birth}.')"
   ]
  },
  {
   "cell_type": "code",
   "execution_count": 12,
   "id": "2ad97c53-d43b-4997-bad3-d864ee6d5425",
   "metadata": {},
   "outputs": [
    {
     "data": {
      "text/plain": [
       "datetime.datetime(1971, 3, 31, 7, 30, tzinfo=<UTC>)"
      ]
     },
     "execution_count": 12,
     "metadata": {},
     "output_type": "execute_result"
    }
   ],
   "source": [
    "import pytz\n",
    "\n",
    "birth.astimezone(pytz.timezone('UTC'))"
   ]
  },
  {
   "cell_type": "markdown",
   "id": "a8b618d9-cf39-4853-b61c-62095ea94684",
   "metadata": {},
   "source": [
    "Note: in some cases, such as this, the timezone conversion gives false results. In this case  the correct UTC conversion should have returned  08:30 AM. Why?"
   ]
  },
  {
   "cell_type": "markdown",
   "id": "1f563987-c7c6-4884-bbb8-7a88bd619884",
   "metadata": {},
   "source": [
    "### Conditional statements and exceptions"
   ]
  },
  {
   "cell_type": "markdown",
   "id": "397ecb48-14eb-4bd0-a8e6-6ef3f54f2980",
   "metadata": {},
   "source": [
    "1. Read the docs how to take an input from a user in Python.\n",
    "2. Ask for a numerical input and take the square root of the input. If the input is negative print the appropriate complex number,  otherwise print the square root formatted to the second decimal.\n",
    "3. Use exceptions to force a valid input from the user.\n",
    "4. Make sure the program asks for the input until a valid input is given. "
   ]
  },
  {
   "cell_type": "code",
   "execution_count": 13,
   "id": "937b2345-4034-43ae-8d42-91677e547a42",
   "metadata": {},
   "outputs": [
    {
     "name": "stdin",
     "output_type": "stream",
     "text": [
      "Give me a number! 51\n"
     ]
    },
    {
     "name": "stdout",
     "output_type": "stream",
     "text": [
      "The square root of 51.0 is 7.14142842854285\n"
     ]
    }
   ],
   "source": [
    "run = True\n",
    "\n",
    "while run:\n",
    "    number = input('Give me a number!')\n",
    "    try:\n",
    "        number = float(number)\n",
    "        print(f'The square root of {number} is {(number)**0.5}')\n",
    "        run = False        \n",
    "    except:\n",
    "        print('Invalid input. Please enter an integer or a floating number!')"
   ]
  },
  {
   "cell_type": "markdown",
   "id": "f8fe3c21-78e0-41fa-a9ce-e21269ab3e37",
   "metadata": {},
   "source": [
    "The other way is to use the `break` command. It  breaks your loop if your conditions are met. In this case it breaks the loop if the command in the `try` block does not fail."
   ]
  },
  {
   "cell_type": "markdown",
   "id": "f2336c61-dbbc-4ec4-9ad4-cc2695b9cba8",
   "metadata": {},
   "source": [
    "Note: the `**0.5` syntax, as opposed to the `math.sqrt()` function, automatically returns a complex number if your input is negative. "
   ]
  },
  {
   "cell_type": "code",
   "execution_count": null,
   "id": "8523c45c-25b8-43df-b66a-e2659def5e47",
   "metadata": {},
   "outputs": [],
   "source": [
    "while True:\n",
    "    number = input('Give me a number!')\n",
    "    try:\n",
    "        number = float(number)\n",
    "        print(f'The square root of {number} is {(number)**0.5}')\n",
    "        break\n",
    "    except:\n",
    "        print('Invalid input. Please enter an integer or a floating number!')"
   ]
  },
  {
   "cell_type": "markdown",
   "id": "3850b913-53b7-4558-9080-7f9a49a046e2",
   "metadata": {},
   "source": [
    "### I/O"
   ]
  },
  {
   "cell_type": "markdown",
   "id": "5b7f132f-4a55-4432-8b53-e2dbe6fe2678",
   "metadata": {},
   "source": [
    "1. Create an empty list. \n",
    "2. Read a text from a file, line by line.\n",
    "3. Count the number of words in the line and append it to the end of the line: 'The length if this line is ....' Add each line to the list created above.\n",
    "4. Write each augmented line in the list to a new file and save it. "
   ]
  },
  {
   "cell_type": "code",
   "execution_count": 14,
   "id": "5069441f-b067-4229-97ad-93ec90e72c83",
   "metadata": {},
   "outputs": [],
   "source": [
    "ls_lines = []\n",
    "\n",
    "with open('ilikeapples.txt', encoding=\"utf-8\") as f:\n",
    "    for line in f:\n",
    "        length = len(line)\n",
    "        ls_lines = ls_lines + [line.strip() + ' The length of this line is ' + str(length) + '\\n']\n",
    "    "
   ]
  },
  {
   "cell_type": "code",
   "execution_count": 15,
   "id": "e3ad5dd1-b59c-4ec1-bf71-739a674e76ed",
   "metadata": {},
   "outputs": [],
   "source": [
    "with open('io.txt', mode = 'a', encoding='utf-8') as f:\n",
    "    for line in ls_lines:\n",
    "        f.write(line)"
   ]
  },
  {
   "cell_type": "code",
   "execution_count": 16,
   "id": "83b18f9b-d482-4663-a548-9f27c61706f4",
   "metadata": {},
   "outputs": [
    {
     "name": "stdout",
     "output_type": "stream",
     "text": [
      "Lubię jabłka. The length of this line is 14\n",
      "\n",
      "Szeretem az almát. The length of this line is 19\n",
      "\n",
      "Mám rád jablka. The length of this line is 16\n",
      "\n",
      "Všeč so mi jabolka. The length of this line is 19\n",
      "\n"
     ]
    }
   ],
   "source": [
    "with open('io.txt', encoding=\"utf-8\") as f:\n",
    "    for line in f:\n",
    "        print(line)"
   ]
  },
  {
   "cell_type": "markdown",
   "id": "bf86580d-d2ec-4a2f-becf-32e8d9ba2499",
   "metadata": {},
   "source": [
    "### Class 1 Solutions"
   ]
  },
  {
   "cell_type": "code",
   "execution_count": null,
   "id": "4ed0e08e-37b2-4d8a-b3ac-a613dd950599",
   "metadata": {},
   "outputs": [],
   "source": [
    "ls_actors_and_actresses = [\n",
    "    'Blake Lively', 'Halle Berry', 'Mark Wahlberg', 'Michelle Monaghan', 'Elliot Page', 'Ryan Reynolds', 'Lily Collins', 'Amy Adams', 'Kristen Wiig', 'Channing Tatum', \n",
    "    'Adam Sandler', 'Russel Crowe', 'Henry Cavill', 'Theresa Palmer', 'Ian Holm', 'Hugh Jackman', 'Nicolas Cage', 'Tom Hardy', 'Tom Cruise', 'Alexandra Daddario'\n",
    "]"
   ]
  },
  {
   "cell_type": "markdown",
   "id": "d7d7a82d-9231-488e-a1bd-1f5ea7401666",
   "metadata": {},
   "source": [
    "by last name"
   ]
  },
  {
   "cell_type": "code",
   "execution_count": null,
   "id": "439fc567-b09a-4ac9-8c09-1d90da85070d",
   "metadata": {},
   "outputs": [],
   "source": [
    "sorted(ls_actors_and_actresses, key = lambda x: x.split()[-1])"
   ]
  },
  {
   "cell_type": "markdown",
   "id": "315c9928-4ba4-43bd-a7ae-5c1610856281",
   "metadata": {},
   "source": [
    "by a twisted logic: length of their first name - the length of their last name"
   ]
  },
  {
   "cell_type": "code",
   "execution_count": null,
   "id": "95217ef1-5f86-4d44-acc6-4de07ce0ace0",
   "metadata": {},
   "outputs": [],
   "source": [
    "sorted(ls_actors_and_actresses, key = lambda x: len(x.split()[0]) - len(x.split()[-1]))"
   ]
  },
  {
   "cell_type": "markdown",
   "id": "5a340f50-5035-4320-ad42-51dcf5d58b5f",
   "metadata": {},
   "source": [
    "Create a list comprehension based on the following formula:\n",
    "$$ L=\\lbrace x^2 : x \\in \\lbrace -1, 0, \\pi, e, cos(\\pi), 1.5, 8\\rbrace \\mid x \\in \\mathbb{W} \\rbrace.$$\n",
    "Hint: You need to find the Python way of checking the condition whether the element is in the mathematical set of whole numbers denoted as $\\mathbb{W}$. Also, you need to get exact value of $\\pi$, $e$ and $cos(\\pi)$ using a Python formula or definition."
   ]
  },
  {
   "cell_type": "code",
   "execution_count": null,
   "id": "1a182227-b6bb-4a5a-bae9-ba1218a49eb2",
   "metadata": {},
   "outputs": [],
   "source": [
    "import math"
   ]
  },
  {
   "cell_type": "code",
   "execution_count": null,
   "id": "99bcc9d0-f689-4461-9e85-e25023e3fb1f",
   "metadata": {},
   "outputs": [],
   "source": [
    "[-1, 0, math.pi, math.e, math.cos(math.pi), 1.5, 8]"
   ]
  },
  {
   "cell_type": "markdown",
   "id": "4f9507fd-9bca-45a2-b9d4-2825f6fbefaf",
   "metadata": {},
   "source": [
    "This solution for integer value checking gives you a false result as math.cos() always returns a float."
   ]
  },
  {
   "cell_type": "code",
   "execution_count": null,
   "id": "9d0e1098-ff36-4e8e-b102-c69fcc99ff11",
   "metadata": {},
   "outputs": [],
   "source": [
    "[x**2 for x in [-1, 0, math.pi, math.e, math.cos(math.pi), 1.5, 8] if isinstance(x, int)]"
   ]
  },
  {
   "cell_type": "markdown",
   "id": "ea666895-2994-4eee-8423-a27abf6f1e90",
   "metadata": {},
   "source": [
    "Using the modulo operator will help you checking whether your value is an int or a float. "
   ]
  },
  {
   "cell_type": "code",
   "execution_count": null,
   "id": "f03212a5-4918-4190-99fa-b169a6fac699",
   "metadata": {},
   "outputs": [],
   "source": [
    "[x**2 for x in [-1, 0, math.pi, math.e, math.cos(math.pi), 1.5, 8] if x%1 == 0]"
   ]
  }
 ],
 "metadata": {
  "kernelspec": {
   "display_name": "Python 3 (ipykernel)",
   "language": "python",
   "name": "python3"
  },
  "language_info": {
   "codemirror_mode": {
    "name": "ipython",
    "version": 3
   },
   "file_extension": ".py",
   "mimetype": "text/x-python",
   "name": "python",
   "nbconvert_exporter": "python",
   "pygments_lexer": "ipython3",
   "version": "3.12.4"
  }
 },
 "nbformat": 4,
 "nbformat_minor": 5
}
