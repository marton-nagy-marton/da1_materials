{
 "cells": [
  {
   "cell_type": "code",
   "execution_count": 1,
   "id": "77cb00c5-1adf-471f-98b6-f90a233d17f8",
   "metadata": {},
   "outputs": [
    {
     "name": "stdout",
     "output_type": "stream",
     "text": [
      "[1, 0, 1, 64]\n"
     ]
    }
   ],
   "source": [
    "import math\n",
    "L = [int(x**2) for x in [-1,0,math.pi,math.e, math.cos(math.pi),1.5,8] if x%1 == 0]\n",
    "print(L)"
   ]
  },
  {
   "cell_type": "code",
   "execution_count": null,
   "id": "2c9f277a-6290-4baf-9a29-371fe4494ae1",
   "metadata": {},
   "outputs": [],
   "source": []
  }
 ],
 "metadata": {
  "kernelspec": {
   "display_name": "Python 3 (ipykernel)",
   "language": "python",
   "name": "python3"
  },
  "language_info": {
   "codemirror_mode": {
    "name": "ipython",
    "version": 3
   },
   "file_extension": ".py",
   "mimetype": "text/x-python",
   "name": "python",
   "nbconvert_exporter": "python",
   "pygments_lexer": "ipython3",
   "version": "3.12.4"
  }
 },
 "nbformat": 4,
 "nbformat_minor": 5
}
