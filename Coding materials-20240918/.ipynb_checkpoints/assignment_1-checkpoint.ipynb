{
 "cells": [
  {
   "cell_type": "markdown",
   "id": "d9c7e445-d4e1-4713-b0cc-d89ad457d7bc",
   "metadata": {},
   "source": [
    "### Random coin flips"
   ]
  },
  {
   "cell_type": "markdown",
   "id": "298d3d3a-1ad6-48ee-94e5-fe22858b64a1",
   "metadata": {},
   "source": [
    "1. Use the `random` package to generate coin flips. If p > 0.5 you should have a head (H) otherwise a tail (T).\n",
    "2. Generate 1000 flis using a `for` or `while` loop.\n",
    "3. Append the result of each flip (a H or a T) to the list.\n",
    "4. Concatenate the results into a single string, like this: 'HHTHHHTTHTTT...' using the appropriate string method.\n",
    "5. Select the runs of consecutive heads, like this: ['HH', 'HHH', 'H', ...]\n",
    "6. Calculate the length of each run and create dictionary of how frequently runs last for 1, flip, 2 flips, 3 flips, etc."
   ]
  },
  {
   "cell_type": "markdown",
   "id": "143af1ab-acda-42b4-bbe2-a1040caf7372",
   "metadata": {},
   "source": [
    "### Time zones"
   ]
  },
  {
   "cell_type": "markdown",
   "id": "84b5a6cb-acb3-4896-9316-a723138b32fc",
   "metadata": {},
   "source": [
    "1. Find the `Unix epoch` of your birthdate. If you know the hour and minute of your birth use that information as well. \n",
    "2. Calculate the difference in seconds between your birthdate and current time using Unix epoch. Is this the real difference between the two dates? Read the docs!\n",
    "3. Convert the  date, hour and minute of your birth to UTC."
   ]
  },
  {
   "cell_type": "markdown",
   "id": "1f563987-c7c6-4884-bbb8-7a88bd619884",
   "metadata": {},
   "source": [
    "### Conditional statements and exceptions"
   ]
  },
  {
   "cell_type": "markdown",
   "id": "397ecb48-14eb-4bd0-a8e6-6ef3f54f2980",
   "metadata": {},
   "source": [
    "1. Read the docs how to take an input from a user in Python.\n",
    "2. Ask for a numerical input and take the square root of the input. If the input is negative print the appropriate complex number,  otherwise print the square root formatted to the second decimal.\n",
    "3. Use exceptions to force a valid input from the user.\n",
    "4. Make sure the program asks for the input until a valid input is given. "
   ]
  },
  {
   "cell_type": "markdown",
   "id": "3850b913-53b7-4558-9080-7f9a49a046e2",
   "metadata": {},
   "source": [
    "### I/O"
   ]
  },
  {
   "cell_type": "markdown",
   "id": "5b7f132f-4a55-4432-8b53-e2dbe6fe2678",
   "metadata": {},
   "source": [
    "1. Create an empty list. \n",
    "2. Read a text from a file, line by line.\n",
    "3. Count the number of words in the line and append it to the end of the line: 'The length if this line is ....' Add each line to the list created above.\n",
    "4. Write each augmented line in the list to a new file and save it. "
   ]
  },
  {
   "cell_type": "code",
   "execution_count": null,
   "id": "5069441f-b067-4229-97ad-93ec90e72c83",
   "metadata": {},
   "outputs": [],
   "source": []
  }
 ],
 "metadata": {
  "kernelspec": {
   "display_name": "Python 3 (ipykernel)",
   "language": "python",
   "name": "python3"
  },
  "language_info": {
   "codemirror_mode": {
    "name": "ipython",
    "version": 3
   },
   "file_extension": ".py",
   "mimetype": "text/x-python",
   "name": "python",
   "nbconvert_exporter": "python",
   "pygments_lexer": "ipython3",
   "version": "3.12.4"
  }
 },
 "nbformat": 4,
 "nbformat_minor": 5
}
